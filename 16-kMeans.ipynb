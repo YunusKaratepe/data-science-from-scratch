{
 "cells": [
  {
   "cell_type": "code",
   "execution_count": 1,
   "metadata": {
    "collapsed": false,
    "pycharm": {
     "name": "#%%\n"
    }
   },
   "outputs": [
    {
     "data": {
      "text/plain": [
       "[(['5.1', '1.4'], 'Iris-setosa'),\n",
       " (['4.9', '1.4'], 'Iris-setosa'),\n",
       " (['4.7', '1.3'], 'Iris-setosa'),\n",
       " (['4.6', '1.5'], 'Iris-setosa'),\n",
       " (['5.0', '1.4'], 'Iris-setosa'),\n",
       " (['5.4', '1.7'], 'Iris-setosa'),\n",
       " (['4.6', '1.4'], 'Iris-setosa'),\n",
       " (['5.0', '1.5'], 'Iris-setosa'),\n",
       " (['4.4', '1.4'], 'Iris-setosa'),\n",
       " (['4.9', '1.5'], 'Iris-setosa')]"
      ]
     },
     "execution_count": 1,
     "metadata": {},
     "output_type": "execute_result"
    }
   ],
   "source": [
    "import data_analysis_tools as da\n",
    "\n",
    "data = da.file_ops.read_csv('./files/Iris.csv', sep=',', as_array=True)\n",
    "\n",
    "# some formatting\n",
    "data.pop(0)\n",
    "for i in range(len(data)):\n",
    "    data[i].pop(0)\n",
    "    data[i] = ([data[i][0], data[i][2]], data[i][4])\n",
    "data[:10]"
   ]
  },
  {
   "cell_type": "code",
   "execution_count": null,
   "metadata": {
    "collapsed": true
   },
   "outputs": [],
   "source": [
    "da.r.seed(0)\n",
    "cls = da.ml.KMeans(k=3)\n",
    "cls.train()"
   ]
  },
  {
   "cell_type": "code",
   "execution_count": null,
   "metadata": {
    "collapsed": false,
    "pycharm": {
     "name": "#%%\n"
    }
   },
   "outputs": [],
   "source": []
  }
 ],
 "metadata": {
  "interpreter": {
   "hash": "f2675592439886072215c5492b56ef91d6259dc08377ceafc1fad216e79bf788"
  },
  "kernelspec": {
   "display_name": "Python 3.8.8 64-bit ('base': conda)",
   "name": "python3"
  },
  "language_info": {
   "name": "python",
   "version": ""
  }
 },
 "nbformat": 4,
 "nbformat_minor": 0
}