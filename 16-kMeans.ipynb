{
 "cells": [
  {
   "cell_type": "code",
   "execution_count": null,
   "metadata": {
    "collapsed": false,
    "pycharm": {
     "name": "#%%\n"
    }
   },
   "outputs": [],
   "source": [
    "import data_analysis_tools as da\n",
    "\n",
    "\n",
    "data = da.file_ops.read_csv('./files/Iris.csv', sep=',', as_array=True)\n",
    "\n",
    "# some formatting\n",
    "data.pop(0)\n",
    "for i in range(len(data)):\n",
    "    data[i].pop(0)\n",
    "    data[i] = (da.parser.parse_vector2float([data[i][0], data[i][2]]), data[i][4])\n",
    "data[:10]"
   ]
  },
  {
   "cell_type": "code",
   "execution_count": null,
   "metadata": {},
   "outputs": [],
   "source": [
    "unlabeled_data = [i for i, _ in data]\n",
    "unlabeled_data[:10]"
   ]
  },
  {
   "cell_type": "code",
   "execution_count": null,
   "metadata": {},
   "outputs": [],
   "source": [
    "len(unlabeled_data)"
   ]
  },
  {
   "cell_type": "code",
   "execution_count": null,
   "metadata": {
    "collapsed": true
   },
   "outputs": [],
   "source": [
    "da.r.seed(0)\n",
    "cls = da.ml.KMeans(k=3)\n",
    "cls.train(unlabeled_data)\n",
    "cls.means"
   ]
  },
  {
   "cell_type": "code",
   "execution_count": null,
   "metadata": {
    "collapsed": false,
    "pycharm": {
     "name": "#%%\n"
    }
   },
   "outputs": [],
   "source": [
    "for index in range(len(data)):\n",
    "    print(f'actutal: {data[index][1]}, predicted: {cls.classify(data[index][0])} ')"
   ]
  },
  {
   "cell_type": "code",
   "execution_count": null,
   "metadata": {},
   "outputs": [],
   "source": [
    "def squared_clustering_errors(inputs, k):\n",
    "    clusterer = da.ml.KMeans(k)\n",
    "    clusterer.train(inputs)\n",
    "    means = clusterer.means\n",
    "    assignments = map(clusterer.classify, inputs)\n",
    "\n",
    "    return sum(da.squared_distance(input, means[cluster]) \n",
    "    for input, cluster in zip(inputs, assignments))\n",
    "\n",
    "squared_clustering_errors(unlabeled_data, 3)"
   ]
  },
  {
   "cell_type": "code",
   "execution_count": null,
   "metadata": {},
   "outputs": [],
   "source": [
    "ks = range(1, len(unlabeled_data) // 3 + 1)\n",
    "errors = [squared_clustering_errors(unlabeled_data, ki) for ki in ks]"
   ]
  },
  {
   "cell_type": "code",
   "execution_count": null,
   "metadata": {},
   "outputs": [],
   "source": [
    "import matplotlib.pyplot as plt\n",
    "plt.figure(figsize=(16, 12))\n",
    "plt.plot(ks, errors)\n",
    "plt.xticks(ks)\n",
    "plt.xlabel('k')\n",
    "plt.ylabel('total squared error')\n",
    "plt.title('Total Error vs. # of Clusters')\n",
    "plt.show()"
   ]
  },
  {
   "cell_type": "code",
   "execution_count": null,
   "metadata": {},
   "outputs": [],
   "source": [
    "# clustering colors (image)\n",
    "image_path = \"./files/ultrasmall.jpg\"\n",
    "import matplotlib.image as mpimg\n",
    "import matplotlib.pyplot as plt\n",
    "\n",
    "img = mpimg.imread(image_path)\n",
    "img.shape"
   ]
  },
  {
   "cell_type": "code",
   "execution_count": null,
   "metadata": {},
   "outputs": [],
   "source": [
    "top_row = img[0]\n",
    "print(top_row.shape)\n",
    "\n",
    "\n",
    "pixels = [pixel/255 for row in img for pixel in row]\n",
    "print(pixels[:10])"
   ]
  },
  {
   "cell_type": "code",
   "execution_count": null,
   "metadata": {},
   "outputs": [],
   "source": [
    "import data_analysis_tools as da\n",
    "clusterer = da.ml.KMeans(8)\n",
    "clusterer.train(pixels)"
   ]
  },
  {
   "cell_type": "code",
   "execution_count": null,
   "metadata": {},
   "outputs": [],
   "source": [
    "clusterer.means"
   ]
  },
  {
   "cell_type": "code",
   "execution_count": null,
   "metadata": {},
   "outputs": [],
   "source": [
    "import copy\n",
    "def recolor(pixel):\n",
    "    cluster = clusterer.classify(pixel)\n",
    "    res = copy.copy(clusterer.means[cluster])\n",
    "    for i in range(3):\n",
    "        tmp = int(res[i] * 255)\n",
    "        if tmp > 255:\n",
    "            res[i] = 255\n",
    "        elif tmp < 0:\n",
    "            res[i] = 0\n",
    "        else:\n",
    "            res[i] = tmp\n",
    "    \n",
    "    return res\n",
    "\n",
    "new_img = [[recolor(pixel/255) for pixel in row] for row in img]\n",
    "mpimg.imsave('img.jpg', new_img)\n",
    "# not working!!!!!!!!!!!!!"
   ]
  },
  {
   "cell_type": "code",
   "execution_count": null,
   "metadata": {},
   "outputs": [],
   "source": [
    "# bottom up hierarchical\n",
    "\n",
    "leaf1 = ([10, 20],) # to make a 1-tuple you need the trailing comma\n",
    "leaf2 = ([30, -15],) # otherwise Python treats the parentheses as parentheses\n",
    "\n",
    "merged = (1, [leaf1, leaf2])\n",
    "merged"
   ]
  },
  {
   "cell_type": "code",
   "execution_count": 121,
   "metadata": {},
   "outputs": [],
   "source": [
    "def is_leaf(cluster):\n",
    "    \"\"\"a cluster is a leaf if it has length 1\"\"\"\n",
    "    return len(cluster) == 1\n",
    "\n",
    "def get_children(cluster):\n",
    "    \"\"\"returns the two children of this cluster if it's a merged cluster;\n",
    "    raises an exception if this is a leaf cluster.\"\"\"\n",
    "    if is_leaf(cluster):\n",
    "        raise TypeError('a leaf cluster has no children')\n",
    "    else:\n",
    "        return cluster[1]\n",
    "\n",
    "def get_values(cluster):\n",
    "    \"\"\"returns the value in this cluster (if it's a leaf cluster)\n",
    "    or all the values in the leaf clusters below it (if it's not)\"\"\"\n",
    "    if is_leaf(cluster):\n",
    "        return cluster\n",
    "    else:\n",
    "        return [value for child in get_children(cluster) for value in get_values(child)]\n",
    "\n",
    "def cluster_distance(cluster1, cluster2, distance_agg=min):\n",
    "    return distance_agg([\n",
    "        da.euclidean(input1, input2) \n",
    "        for input1 in get_values(cluster1)\n",
    "        for input2 in get_values(cluster2)\n",
    "    ])\n",
    "\n",
    "def get_merge_order(cluster):\n",
    "    if is_leaf(cluster):\n",
    "        return float('inf')\n",
    "    else:\n",
    "        return cluster[0] # merge_order is first element of 2-tuple\n",
    "\n",
    "def bottom_up_cluster(inputs, distance_agg=min):\n",
    "\n",
    "    # at start every input is a leaf cluster\n",
    "    clusters = [(input,) for input in inputs]\n",
    "\n",
    "    # go on till we have only one cluster\n",
    "    while len(clusters) > 1:\n",
    "        # find two closest clusters\n",
    "        c1, c2 = min([\n",
    "            (cluster1, cluster2) for i, cluster1 in enumerate(clusters)\n",
    "            for cluster2 in clusters[:i]],\n",
    "            key=lambda x: cluster_distance(x[0], x[1], distance_agg))\n",
    "        \n",
    "        # remove them from the list of clusters\n",
    "        clusters.remove(c1)\n",
    "        clusters.remove(c2)\n",
    "        # clusters = [c for c in clusters if c != c1 and c != c2]\n",
    "\n",
    "        # merge them, using merge_order = # of clusters left\n",
    "        merged_cluster = (len(clusters), [c1, c2])\n",
    "\n",
    "        # and add their merge\n",
    "        clusters.append(merged_cluster)\n",
    "\n",
    "    # there is only 1 cluster left, return it\n",
    "    return clusters[0]\n"
   ]
  },
  {
   "cell_type": "code",
   "execution_count": 123,
   "metadata": {},
   "outputs": [],
   "source": [
    "base_cluster = bottom_up_cluster(unlabeled_data)"
   ]
  },
  {
   "cell_type": "code",
   "execution_count": 197,
   "metadata": {},
   "outputs": [
    {
     "data": {
      "text/plain": [
       "(79,\n",
       " [(92,\n",
       "   [(109, [(142, [([5.2, 1.5],), ([5.2, 1.5],)]), ([5.3, 1.5],)]),\n",
       "    ([5.2, 1.4],)]),\n",
       "  (143, [([5.4, 1.5],), ([5.4, 1.5],)])])"
      ]
     },
     "execution_count": 197,
     "metadata": {},
     "output_type": "execute_result"
    }
   ],
   "source": [
    "a_cluster = base_cluster[1][1][1][0][1][0][1][0][1][0][1][0][1][0][1][0][1][0][1][0][1][0][1][0][1][1]\n",
    "a_cluster"
   ]
  },
  {
   "cell_type": "code",
   "execution_count": 196,
   "metadata": {},
   "outputs": [
    {
     "data": {
      "text/plain": [
       "[[5.2, 1.5], [5.2, 1.5], [5.3, 1.5], [5.2, 1.4], [5.4, 1.5], [5.4, 1.5]]"
      ]
     },
     "execution_count": 196,
     "metadata": {},
     "output_type": "execute_result"
    }
   ],
   "source": [
    "get_values(a_cluster)"
   ]
  },
  {
   "cell_type": "code",
   "execution_count": 214,
   "metadata": {},
   "outputs": [],
   "source": [
    "def generate_clusters(base_cluster, num_clusters):\n",
    "    # start with a list with just the base cluster\n",
    "    clusters = [base_cluster]\n",
    "\n",
    "    # as long as we don't gave enough clusters yet...\n",
    "    while len(clusters) < num_clusters:\n",
    "        # choose the last-merged of our clusters\n",
    "        next_cluster = min(clusters, key=get_merge_order)\n",
    "        # remove it from the list\n",
    "        clusters.remove(next_cluster)\n",
    "        # and add its children to the list\n",
    "        clusters.extend(get_children(next_cluster))\n",
    "\n",
    "    return clusters"
   ]
  },
  {
   "cell_type": "code",
   "execution_count": 244,
   "metadata": {},
   "outputs": [],
   "source": [
    "base_cluster_max = bottom_up_cluster(unlabeled_data, max)"
   ]
  },
  {
   "cell_type": "code",
   "execution_count": 261,
   "metadata": {},
   "outputs": [
    {
     "data": {
      "image/png": "[encoded data removed]",
      "text/plain": [
       "<Figure size 864x720 with 1 Axes>"
      ]
     },
     "metadata": {
      "needs_background": "light"
     },
     "output_type": "display_data"
    }
   ],
   "source": [
    "n = 3\n",
    "n_clusters = [get_values(cluster) for cluster in generate_clusters(base_cluster_max, n)]\n",
    "\n",
    "plt.figure(figsize=(12, 10))\n",
    "for i, cluster, marker, color in zip(range(n), n_clusters, ['D', 'o', '*', 'x', 'p'], ['r', 'g', 'b', 'y', 'cyan']):\n",
    "    xs, ys = zip(*cluster)\n",
    "    plt.scatter(xs, ys, color=color, marker=marker)\n",
    "    x, y = da.vector_mean(cluster)\n",
    "    plt.plot(x, y, marker='$' + str(i) + '$', color='black')\n",
    "\n",
    "plt.title(f\"Flower Types With {n} Clusters Using max in cluster_distances()\")\n",
    "plt.show()"
   ]
  },
  {
   "cell_type": "code",
   "execution_count": 251,
   "metadata": {},
   "outputs": [],
   "source": [
    "base_cluster_min = bottom_up_cluster(unlabeled_data, min)"
   ]
  },
  {
   "cell_type": "code",
   "execution_count": 262,
   "metadata": {},
   "outputs": [
    {
     "data": {
      "image/png": "[encoded data removed]",
      "text/plain": [
       "<Figure size 864x720 with 1 Axes>"
      ]
     },
     "metadata": {
      "needs_background": "light"
     },
     "output_type": "display_data"
    }
   ],
   "source": [
    "n = 3\n",
    "n_clusters = [get_values(cluster) for cluster in generate_clusters(base_cluster_min, n)]\n",
    "\n",
    "plt.figure(figsize=(12, 10))\n",
    "for i, cluster, marker, color in zip(range(n), n_clusters, ['D', 'o', '*', 'x', 'p'], ['r', 'g', 'b', 'y', 'cyan']):\n",
    "    xs, ys = zip(*cluster)\n",
    "    plt.scatter(xs, ys, color=color, marker=marker)\n",
    "    x, y = da.vector_mean(cluster)\n",
    "    plt.plot(x, y, marker='$' + str(i) + '$', color='black')\n",
    "\n",
    "plt.title(f\"Flower Types With {n} Clusters Using min in cluster_distances()\")\n",
    "plt.show()"
   ]
  },
  {
   "cell_type": "code",
   "execution_count": 250,
   "metadata": {},
   "outputs": [],
   "source": [
    "base_cluster_mean = bottom_up_cluster(unlabeled_data, da.mean)"
   ]
  },
  {
   "cell_type": "code",
   "execution_count": 263,
   "metadata": {},
   "outputs": [
    {
     "data": {
      "image/png": "[encoded data removed]",
      "text/plain": [
       "<Figure size 864x720 with 1 Axes>"
      ]
     },
     "metadata": {
      "needs_background": "light"
     },
     "output_type": "display_data"
    }
   ],
   "source": [
    "n = 3\n",
    "n_clusters = [get_values(cluster) for cluster in generate_clusters(base_cluster_mean, n)]\n",
    "\n",
    "plt.figure(figsize=(12, 10))\n",
    "for i, cluster, marker, color in zip(range(n), n_clusters, ['D', 'o', '*', 'x', 'p'], ['r', 'g', 'b', 'y', 'cyan']):\n",
    "    xs, ys = zip(*cluster)\n",
    "    plt.scatter(xs, ys, color=color, marker=marker)\n",
    "    x, y = da.vector_mean(cluster)\n",
    "    plt.plot(x, y, marker='$' + str(i) + '$', color='black')\n",
    "\n",
    "plt.title(f\"Flower Types With {n} Clusters Using mean in cluster_distances()\")\n",
    "plt.show()"
   ]
  },
  {
   "cell_type": "code",
   "execution_count": 254,
   "metadata": {},
   "outputs": [],
   "source": [
    "base_cluster_median = bottom_up_cluster(unlabeled_data, da.median)"
   ]
  },
  {
   "cell_type": "code",
   "execution_count": 264,
   "metadata": {},
   "outputs": [
    {
     "data": {
      "image/png": "[encoded data removed]",
      "text/plain": [
       "<Figure size 864x720 with 1 Axes>"
      ]
     },
     "metadata": {
      "needs_background": "light"
     },
     "output_type": "display_data"
    }
   ],
   "source": [
    "n = 3\n",
    "n_clusters = [get_values(cluster) for cluster in generate_clusters(base_cluster_median, n)]\n",
    "\n",
    "plt.figure(figsize=(12, 10))\n",
    "for i, cluster, marker, color in zip(range(n), n_clusters, ['D', 'o', '*', 'x', 'p'], ['r', 'g', 'b', 'y', 'cyan']):\n",
    "    xs, ys = zip(*cluster)\n",
    "    plt.scatter(xs, ys, color=color, marker=marker)\n",
    "    x, y = da.vector_mean(cluster)\n",
    "    plt.plot(x, y, marker='$' + str(i) + '$', color='black')\n",
    "\n",
    "plt.title(f\"Flower Types With {n} Clusters Using median in cluster_distances()\")\n",
    "plt.show()"
   ]
  },
  {
   "cell_type": "code",
   "execution_count": null,
   "metadata": {},
   "outputs": [],
   "source": []
  }
 ],
 "metadata": {
  "interpreter": {
   "hash": "f2675592439886072215c5492b56ef91d6259dc08377ceafc1fad216e79bf788"
  },
  "kernelspec": {
   "display_name": "Python 3.8.8 64-bit ('base': conda)",
   "name": "python3"
  },
  "language_info": {
   "codemirror_mode": {
    "name": "ipython",
    "version": 3
   },
   "file_extension": ".py",
   "mimetype": "text/x-python",
   "name": "python",
   "nbconvert_exporter": "python",
   "pygments_lexer": "ipython3",
   "version": "3.8.8"
  }
 },
 "nbformat": 4,
 "nbformat_minor": 0
}