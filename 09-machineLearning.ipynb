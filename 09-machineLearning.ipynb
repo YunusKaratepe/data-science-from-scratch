{
 "cells": [
  {
   "cell_type": "code",
   "execution_count": 37,
   "metadata": {},
   "outputs": [
    {
     "data": {
      "image/png": "[encoded data removed]",
      "text/plain": [
       "<Figure size 720x576 with 1 Axes>"
      ]
     },
     "metadata": {
      "needs_background": "light"
     },
     "output_type": "display_data"
    }
   ],
   "source": [
    "# split data for training and testing\n",
    "import data_analysis_tools as da\n",
    "import matplotlib.pyplot as plt\n",
    "from numpy.lib.function_base import copy\n",
    "\n",
    "\n",
    "def split_data(data, test_proportion=0.2):\n",
    "    \"\"\"splits data into 2 parts -> [prob, 1 - prob].\"\"\"\n",
    "    new_data = da.random.shuffle(data)\n",
    "    length = len(new_data)\n",
    "    train = new_data[:int(length * (1 - test_proportion))]\n",
    "    test = new_data[int(length * (1 - test_proportion)):]\n",
    "    return train, test\n",
    "\n",
    "def train_test_split(x, y, test_proportion=0.2):\n",
    "    \"\"\"returns x_train, x_test, y_train, y_test after shuffling data.\"\"\"\n",
    "    data = zip(x, y)\n",
    "    train, test = split_data(data, test_proportion)\n",
    "    x_train, y_train = zip(*train)\n",
    "    x_test, y_test = zip(*test)\n",
    "    return x_train, x_test, y_train, y_test\n",
    "    \n",
    "\n",
    "data = da.random.normal(0, 10, 10)\n",
    "labels = [ (int(da.random.normal(10, 6, 1)) + x) for x in data ]\n",
    "\n",
    "train, test = split_data(data, 0.8)\n",
    "\n",
    "\"\"\" print(len(train))\n",
    "print(len(test))\n",
    "print(train)\n",
    "print(test) \"\"\"\n",
    "\n",
    "\n",
    "plt.figure(figsize=(10, 8))\n",
    "plt.scatter(data, labels)\n",
    "plt.show()\n"
   ]
  },
  {
   "cell_type": "code",
   "execution_count": 38,
   "metadata": {},
   "outputs": [
    {
     "data": {
      "text/plain": [
       "[(10.023731317206174, 22.023731317206174),\n",
       " (-18.956403689526454, -9.956403689526454),\n",
       " (-12.079026371163991, -3.079026371163991),\n",
       " (-5.665956568622686, 8.334043431377314),\n",
       " (-4.827621497210175, -4.827621497210175),\n",
       " (-4.889544510646671, 7.110455489353329),\n",
       " (4.015314240829514, 11.015314240829515),\n",
       " (0.30596881524479835, 16.3059688152448),\n",
       " (-4.323729864193955, 15.676270135806046),\n",
       " (-4.460819744600139, 1.5391802553998613)]"
      ]
     },
     "execution_count": 38,
     "metadata": {},
     "output_type": "execute_result"
    }
   ],
   "source": [
    "list(zip(data, labels))"
   ]
  },
  {
   "cell_type": "code",
   "execution_count": 39,
   "metadata": {},
   "outputs": [],
   "source": [
    "train, test = split_data(data, 0.8)"
   ]
  },
  {
   "cell_type": "code",
   "execution_count": 40,
   "metadata": {},
   "outputs": [
    {
     "name": "stdout",
     "output_type": "stream",
     "text": [
      "xtrain:  (-4.323729864193955, -4.827621497210175, -18.956403689526454, 0.30596881524479835, 10.023731317206174, -12.079026371163991, -4.460819744600139, -5.665956568622686)\n",
      "xtest:  (4.015314240829514, -4.889544510646671)\n",
      "ytrain:  (15.676270135806046, -4.827621497210175, -9.956403689526454, 16.3059688152448, 22.023731317206174, -3.079026371163991, 1.5391802553998613, 8.334043431377314)\n",
      "ytest:  (11.015314240829515, 7.110455489353329)\n"
     ]
    }
   ],
   "source": [
    "x_train, x_test, y_train, y_test = train_test_split(data, labels, 0.2)\n",
    "\n",
    "print('xtrain: ', x_train)\n",
    "print('xtest: ', x_test)\n",
    "print('ytrain: ', y_train)\n",
    "print('ytest: ', y_test)"
   ]
  },
  {
   "cell_type": "code",
   "execution_count": null,
   "metadata": {},
   "outputs": [],
   "source": [
    "   "
   ]
  },
  {
   "cell_type": "code",
   "execution_count": null,
   "metadata": {},
   "outputs": [],
   "source": []
  }
 ],
 "metadata": {
  "interpreter": {
   "hash": "f2675592439886072215c5492b56ef91d6259dc08377ceafc1fad216e79bf788"
  },
  "kernelspec": {
   "display_name": "Python 3.8.8 64-bit ('base': conda)",
   "name": "python3"
  },
  "language_info": {
   "codemirror_mode": {
    "name": "ipython",
    "version": 3
   },
   "file_extension": ".py",
   "mimetype": "text/x-python",
   "name": "python",
   "nbconvert_exporter": "python",
   "pygments_lexer": "ipython3",
   "version": "3.8.8"
  },
  "orig_nbformat": 4
 },
 "nbformat": 4,
 "nbformat_minor": 2
}