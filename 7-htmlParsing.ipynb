{
 "cells": [
  {
   "cell_type": "code",
   "execution_count": 56,
   "metadata": {},
   "outputs": [
    {
     "name": "stdout",
     "output_type": "stream",
     "text": [
      "Text: \n",
      "\t\t\t\t\t\t\tNo products\n",
      "\t\t\t\t\t\t\n",
      "Words: ['No', 'products']\n",
      "None\n"
     ]
    }
   ],
   "source": [
    "from bs4 import BeautifulSoup as bs\n",
    "import requests\n",
    "\n",
    "html = requests.get(\"http://automationpractice.com/index.php\").text\n",
    "soup = bs(html, 'html5lib')\n",
    "\n",
    "first_paragraph = soup.p\n",
    "# first_paragraph = soup.find('p')\n",
    "\n",
    "para_text = soup.p.text\n",
    "para_words = soup.p.text.split()\n",
    "\n",
    "print('Text:', para_text)\n",
    "print('Words:', para_words)\n",
    "\n",
    "# first_para_id = soup.p['id'] # raises key error if no id\n",
    "first_para_id = soup.p.get('id') # returns None if no id\n",
    "\n",
    "print(first_para_id)"
   ]
  },
  {
   "cell_type": "code",
   "execution_count": 17,
   "metadata": {},
   "outputs": [
    {
     "name": "stdout",
     "output_type": "stream",
     "text": [
      "[<p class=\"cart_block_no_products\">\n",
      "\t\t\t\t\t\t\tNo products\n",
      "\t\t\t\t\t\t</p>, <p class=\"cart-buttons\">\n",
      "\t\t\t\t\t\t\t<a class=\"btn btn-default button button-small\" href=\"http://automationpractice.com/index.php?controller=order\" id=\"button_order_cart\" rel=\"nofollow\" title=\"Check out\">\n",
      "\t\t\t\t\t\t\t\t<span>\n",
      "\t\t\t\t\t\t\t\t\tCheck out<i class=\"icon-chevron-right right\"></i>\n",
      "\t\t\t\t\t\t\t\t</span>\n",
      "\t\t\t\t\t\t\t</a>\n",
      "\t\t\t\t\t\t</p>, <p>Lorem ipsum dolor sit amet, consectetur adipiscing elit. Proin tristique in tortor et dignissim. Quisque non tempor leo. Maecenas egestas sem elit</p>, <p><button class=\"btn btn-default\" type=\"button\">Shop now !</button></p>, <p>Lorem ipsum dolor sit amet, consectetur adipiscing elit. Proin tristique in tortor et dignissim. Quisque non tempor leo. Maecenas egestas sem elit</p>]\n",
      "['Subsidiary of seleniumframework.com']\n"
     ]
    }
   ],
   "source": [
    "# multiple tags at once\n",
    "all_paras = soup.find_all('p') # or just soup('p')\n",
    "print(all_paras[:5])\n",
    "paras_with_ids = [p.text for p in soup('p') if p.get('id')] # only paras which has id attribute\n",
    "print(paras_with_ids)"
   ]
  },
  {
   "cell_type": "code",
   "execution_count": 60,
   "metadata": {},
   "outputs": [
    {
     "name": "stdout",
     "output_type": "stream",
     "text": [
      "['\\n\\t\\tCall us now: 0123-456-789\\n\\t', 'Search', '0', 'Product', 'Products', '\\n\\t\\t\\t\\t\\t\\t\\t', '(empty)', '\\n\\t\\t\\t\\t\\t\\t\\t\\t\\t\\t\\t\\t\\t\\t\\t\\t\\t\\t\\tFree shipping!\\n\\t\\t\\t\\t\\t\\t\\t\\t\\t\\t\\t\\t\\t\\t\\t\\t\\t', '\\n\\t\\t\\t\\t\\t\\t\\t\\t\\tShipping\\n\\t\\t\\t\\t\\t\\t\\t\\t', '$0.00']\n"
     ]
    }
   ],
   "source": [
    "spantexts_inside_divs = [span.text for div in soup('div') for span in div('span')] \n",
    "print(spantexts_inside_divs[:10])"
   ]
  },
  {
   "cell_type": "code",
   "execution_count": 76,
   "metadata": {},
   "outputs": [
    {
     "name": "stdout",
     "output_type": "stream",
     "text": [
      "1\n",
      "[<div class=\"header_user_info\">\n",
      "\t\t\t<a class=\"login\" href=\"http://automationpractice.com/index.php?controller=my-account\" rel=\"nofollow\" title=\"Log in to your customer account\">\n",
      "\t\t\tSign in\n",
      "\t\t</a>\n",
      "\t</div>]\n"
     ]
    }
   ],
   "source": [
    "header_user_info = soup.findAll('div', 'header_user_info')\n",
    "print(len(header_user_info))\n",
    "print(header_user_info)"
   ]
  }
 ],
 "metadata": {
  "interpreter": {
   "hash": "f2675592439886072215c5492b56ef91d6259dc08377ceafc1fad216e79bf788"
  },
  "kernelspec": {
   "display_name": "Python 3.8.8 64-bit ('base': conda)",
   "name": "python3"
  },
  "language_info": {
   "codemirror_mode": {
    "name": "ipython",
    "version": 3
   },
   "file_extension": ".py",
   "mimetype": "text/x-python",
   "name": "python",
   "nbconvert_exporter": "python",
   "pygments_lexer": "ipython3",
   "version": "3.8.8"
  },
  "orig_nbformat": 4
 },
 "nbformat": 4,
 "nbformat_minor": 2
}