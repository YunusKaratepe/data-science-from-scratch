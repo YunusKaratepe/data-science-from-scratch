{
 "cells": [
  {
   "cell_type": "code",
   "execution_count": 4,
   "metadata": {},
   "outputs": [],
   "source": [
    "import re\n",
    "file_for_reading = open('./files/reading.txt', 'r') # r for read only\n",
    "\n",
    "file_for_writing = open('./files/writing.txt', 'w') # w destroys any content of a file and rewrite it\n",
    "\n",
    "file_for_appending = open('./files/appending.txt', 'a') # appends the content of a file which already there\n",
    "\n",
    "file_for_reading.close()\n",
    "file_for_writing.close()\n",
    "file_for_appending.close()"
   ]
  },
  {
   "cell_type": "code",
   "execution_count": 5,
   "metadata": {},
   "outputs": [
    {
     "name": "stdout",
     "output_type": "stream",
     "text": [
      "-------------------------------------------------------\n",
      "['read me! read me!\\n', 'read me too i am second line!\\n', '# this line is started with hashtag\\n', 'this is not starting with #\\n', '# this is too!\\n', '# more # more #\\n', '\\n', 'wow this line is far away from others\\n']\n",
      "-------------------------------------------------------\n",
      "read me! read me!\n",
      "read me too i am second line!\n",
      "# this line is started with hashtag\n",
      "this is not starting with #\n",
      "# this is too!\n",
      "# more # more #\n",
      "\n",
      "wow this line is far away from others\n",
      "-------------------------------------------------------\n",
      "num of lines which starts with #: 3\n"
     ]
    }
   ],
   "source": [
    "# reading lines from a file\n",
    "print('-------------------------------------------------------')\n",
    "# with open automatically closes the files as with block's ending.\n",
    "with open('./files/reading.txt', 'r') as f:\n",
    "    data = f.readlines() # retuns lines as list ['line1 content bla bla', 'line2 content ba ba bus', 'line3 a bit more crap']\n",
    "    print(data)\n",
    "\n",
    "print('-------------------------------------------------------')\n",
    "# second way of reading lines from a file\n",
    "with open('./files/reading.txt', 'r') as f:\n",
    "    for line in f:\n",
    "        print(line, end='') # end is '\\n' as default, as we already have \\n 's in file content no need for second \\n\n",
    "\n",
    "print('-------------------------------------------------------')\n",
    "with open('./files/reading.txt', 'r') as f:\n",
    "    starts_with_hashtag = 0\n",
    "    for line in f:\n",
    "        if re.match(\"^#\", line):\n",
    "            starts_with_hashtag += 1\n",
    "    print(\"num of lines which starts with #:\", starts_with_hashtag)"
   ]
  },
  {
   "cell_type": "code",
   "execution_count": 30,
   "metadata": {},
   "outputs": [
    {
     "name": "stdout",
     "output_type": "stream",
     "text": [
      "Example: domain for yunus.karatepe@gmail.com is gmail.com\n",
      "Domain counts: {'gmail.com': 6, 'hotmail.com': 4, 'outlook.com': 3}\n"
     ]
    }
   ],
   "source": [
    "from collections import Counter\n",
    "emails_file_path = \"./files/emails.txt\"\n",
    "\n",
    "def get_domain(email_address):\n",
    "    return email_address.lower().split('@')[-1]\n",
    "\n",
    "print(\"Example: domain for yunus.karatepe@gmail.com is\", get_domain('yunus.karatepe@gmail.com'))\n",
    "# print('it\\'s mine' == \"it's mine\" and \"he is a \\\"monster\\\".\" == 'he is a \"monster\".') # all the same\n",
    "\n",
    "\n",
    "\n",
    "with open(emails_file_path, 'r') as f:\n",
    "    domain_counts = Counter([\n",
    "        get_domain(line.strip())\n",
    "        for line in f\n",
    "        if \"@\" in line\n",
    "    ])\n",
    "\n",
    "print(\"Domain counts:\", dict(domain_counts))"
   ]
  },
  {
   "cell_type": "code",
   "execution_count": 89,
   "metadata": {},
   "outputs": [
    {
     "name": "stdout",
     "output_type": "stream",
     "text": [
      "defaultdict(<class 'dict'>, {'123-45-6789': {'Last Name': 'Alfalfa', 'First Name': 'Aloysius', 'Test1': 40.0, 'Test2': 90.0, 'Test3': 100.0, 'Test4': 83.0, 'Final': 49.0, 'Grade': 'D-'}, '123-12-1234': {'Last Name': 'Alfred', 'First Name': 'University', 'Test1': 41.0, 'Test2': 97.0, 'Test3': 96.0, 'Test4': 97.0, 'Final': 48.0, 'Grade': 'D+'}, '567-89-0123': {'Last Name': 'Gerty', 'First Name': 'Gramma', 'Test1': 41.0, 'Test2': 80.0, 'Test3': 60.0, 'Test4': 40.0, 'Final': 44.0, 'Grade': 'C'}, '087-65-4321': {'Last Name': 'Android', 'First Name': 'Electric', 'Test1': 42.0, 'Test2': 23.0, 'Test3': 36.0, 'Test4': 45.0, 'Final': 47.0, 'Grade': 'B-'}, '456-78-9012': {'Last Name': 'Bumpkin', 'First Name': 'Fred', 'Test1': 43.0, 'Test2': 78.0, 'Test3': 88.0, 'Test4': 77.0, 'Final': 45.0, 'Grade': 'A-'}, '234-56-7890': {'Last Name': 'Rubble', 'First Name': 'Betty', 'Test1': 44.0, 'Test2': 90.0, 'Test3': 80.0, 'Test4': 90.0, 'Final': 46.0, 'Grade': 'C-'}, '345-67-8901': {'Last Name': 'Noshow', 'First Name': 'Cecil', 'Test1': 45.0, 'Test2': 11.0, 'Test3': -1.0, 'Test4': 4.0, 'Final': 43.0, 'Grade': 'F'}, '632-79-9939': {'Last Name': 'Buff', 'First Name': 'Bif', 'Test1': 46.0, 'Test2': 20.0, 'Test3': 30.0, 'Test4': 40.0, 'Final': 50.0, 'Grade': 'B+'}, '223-45-6789': {'Last Name': 'Airpump', 'First Name': 'Andrew', 'Test1': 49.0, 'Test2': 1.0, 'Test3': 90.0, 'Test4': 100.0, 'Final': 83.0, 'Grade': 'A'}, '143-12-1234': {'Last Name': 'Backus', 'First Name': 'Jim', 'Test1': 48.0, 'Test2': 1.0, 'Test3': 97.0, 'Test4': 96.0, 'Final': 97.0, 'Grade': 'A+'}, '565-89-0123': {'Last Name': 'Carnivore', 'First Name': 'Art', 'Test1': 44.0, 'Test2': 1.0, 'Test3': 80.0, 'Test4': 60.0, 'Final': 40.0, 'Grade': 'D+'}, '087-75-4321': {'Last Name': 'Dandy', 'First Name': 'Jim', 'Test1': 47.0, 'Test2': 1.0, 'Test3': 23.0, 'Test4': 36.0, 'Final': 45.0, 'Grade': 'C+'}, '456-71-9012': {'Last Name': 'Elephant', 'First Name': 'Ima', 'Test1': 45.0, 'Test2': 1.0, 'Test3': 78.0, 'Test4': 88.0, 'Final': 77.0, 'Grade': 'B-'}, '234-56-2890': {'Last Name': 'Franklin', 'First Name': 'Benny', 'Test1': 50.0, 'Test2': 1.0, 'Test3': 90.0, 'Test4': 80.0, 'Final': 90.0, 'Grade': 'B-'}, '345-67-3901': {'Last Name': 'George', 'First Name': 'Boy', 'Test1': 40.0, 'Test2': 1.0, 'Test3': 11.0, 'Test4': -1.0, 'Final': 4.0, 'Grade': 'B'}, '632-79-9439': {'Last Name': 'Heffalump', 'First Name': 'Harvey', 'Test1': 30.0, 'Test2': 1.0, 'Test3': 20.0, 'Test4': 30.0, 'Final': 40.0, 'Grade': 'C'}})\n"
     ]
    }
   ],
   "source": [
    "import csv, re\n",
    "from collections import defaultdict\n",
    "\n",
    "\n",
    "def append_list(last_name, first_name, ssn, test1, test2, test3, test4, final, grade, list):\n",
    "    list[ssn] = {\n",
    "        \"Last Name\": last_name,\n",
    "        \"First Name\": first_name,\n",
    "        \"Test1\": test1,\n",
    "        \"Test2\": test2,\n",
    "        \"Test3\": test3,\n",
    "        \"Test4\": test4,\n",
    "        \"Final\": final,\n",
    "        \"Grade\": grade\n",
    "    }\n",
    "    return\n",
    "\n",
    "students = defaultdict(dict)\n",
    "\n",
    "grades_path = \"./files/grades.csv\"\n",
    "\n",
    " \n",
    "with open(grades_path, 'rt', encoding='utf-8') as f:\n",
    "    reader = csv.reader(f, delimiter=',')\n",
    "    # reader = csv.DictReader(f, delimiter=',')\n",
    "    for row in reader:\n",
    "        try:\n",
    "            last_name = row[0]\n",
    "            first_name = row[1].split('\"')[1]\n",
    "            ssn = row[2].split('\"')[1]\n",
    "            test1 = float(row[3])\n",
    "            test2 = float(row[4])\n",
    "            test3 = float(row[5])\n",
    "            test4 = float(row[6])\n",
    "            final = float(row[7])\n",
    "            grade = row[8].split('\"')[1]\n",
    "            append_list(last_name, first_name, ssn, test1, test2, test3, test4, final, grade, list=students)\n",
    "        except:\n",
    "            pass \n",
    "\n",
    "\n",
    "\n",
    "new_grades_path = \"./files/new_grades.csv\"\n",
    "\n",
    "with open (new_grades_path, 'wt', encoding='utf-8') as f:\n",
    "    writer = csv.writer(f, delimiter=',')\n",
    "    for key, value in students.items():\n",
    "        writer.writerow([key, value])\n",
    "        \n",
    "\n",
    "print(students)\n",
    "                \n",
    "\n"
   ]
  },
  {
   "cell_type": "code",
   "execution_count": null,
   "metadata": {},
   "outputs": [],
   "source": []
  }
 ],
 "metadata": {
  "interpreter": {
   "hash": "f2675592439886072215c5492b56ef91d6259dc08377ceafc1fad216e79bf788"
  },
  "kernelspec": {
   "display_name": "Python 3.8.8 64-bit ('base': conda)",
   "name": "python3"
  },
  "language_info": {
   "codemirror_mode": {
    "name": "ipython",
    "version": 3
   },
   "file_extension": ".py",
   "mimetype": "text/x-python",
   "name": "python",
   "nbconvert_exporter": "python",
   "pygments_lexer": "ipython3",
   "version": "3.8.8"
  },
  "orig_nbformat": 4
 },
 "nbformat": 4,
 "nbformat_minor": 2
}