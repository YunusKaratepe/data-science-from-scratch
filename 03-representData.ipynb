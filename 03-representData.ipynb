{
 "cells": [
  {
   "cell_type": "code",
   "execution_count": 45,
   "metadata": {},
   "outputs": [
    {
     "name": "stdout",
     "output_type": "stream",
     "text": [
      "Counter({100: 3, 25: 2, 20: 2, 49: 1, 41: 1, 40: 1, 99: 1, 23: 1, 26: 1, 75: 1, 32: 1, 12: 1})\n"
     ]
    },
    {
     "data": {
      "image/png": "[encoded data removed]",
      "text/plain": [
       "<Figure size 720x504 with 1 Axes>"
      ]
     },
     "metadata": {
      "needs_background": "light"
     },
     "output_type": "display_data"
    }
   ],
   "source": [
    "from collections import Counter\n",
    "import matplotlib.pyplot as plt \n",
    "import math\n",
    "num_friends = [100, 49, 41, 40, 25, 20, 25, 100, 99, 23, 26, 75, 32, 12, 100, 20]\n",
    "friend_counts = Counter(num_friends)\n",
    "print(friend_counts)\n",
    "xs = range(max(num_friends) + 1)\n",
    "ys = [friend_counts[i] for i in xs]\n",
    "\n",
    "\n",
    "\n",
    "plt.figure(figsize=(10,7))\n",
    "plt.axis([0, max(num_friends) + 1, 0, 5])\n",
    "plt.bar(xs, ys)\n",
    "plt.show()\n",
    "\n"
   ]
  },
  {
   "cell_type": "code",
   "execution_count": 19,
   "metadata": {},
   "outputs": [
    {
     "name": "stdout",
     "output_type": "stream",
     "text": [
      "[100, 100, 100, 99, 75, 49, 41, 40, 32, 26, 25, 25, 23, 20, 20, 12]\n"
     ]
    }
   ],
   "source": [
    "sorted_values = sorted(num_friends, reverse=True)\n",
    "print(sorted_values)\n"
   ]
  },
  {
   "cell_type": "code",
   "execution_count": 50,
   "metadata": {},
   "outputs": [
    {
     "name": "stdout",
     "output_type": "stream",
     "text": [
      "Mean: 49.1875\n",
      "Median: 36.0\n",
      "Quantile 0.25: 25\n",
      "Quantile 0.6: 41\n",
      "Quantile 0.9: 100\n",
      "Range: 88\n",
      "Variance: 1121.3625\n",
      "Standard Deviation: 33.48675111144705\n",
      "Interquartile Range: 74\n"
     ]
    }
   ],
   "source": [
    "def mean(array):\n",
    "    return sum(array) / len(array)\n",
    "\n",
    "def median(array):\n",
    "    n = int(len(array) / 2)\n",
    "    sorted_array = sorted(array)\n",
    "\n",
    "    if n % 2 == 0:\n",
    "        return ((sorted_array[n - 1]) + sorted_array[n]) / 2.0\n",
    "    else:\n",
    "        return sorted_array[n]\n",
    "\n",
    "def quantile(array, p):\n",
    "    n = int(len(array) * p)\n",
    "    sorted_array = sorted(array)\n",
    "\n",
    "    return sorted_array[n]\n",
    "\n",
    "def data_range(array):\n",
    "    return max(array) - min(array)\n",
    "\n",
    "def de_mean(array):\n",
    "    mean_ = mean(array)\n",
    "    return [(x - mean_) for x in array]\n",
    "\n",
    "def sum_of_squares(array):\n",
    "    sum_of_sq = 0.0\n",
    "    for i in array:\n",
    "        sum_of_sq += i ** 2\n",
    "    return sum_of_sq\n",
    "\n",
    "def variance(array):\n",
    "    deviations = de_mean(array)\n",
    "    sum_of_sq = sum_of_squares(deviations)\n",
    "    n = len(array)\n",
    "    return sum_of_sq / (n - 1)\n",
    "\n",
    "def st_deviation(array):\n",
    "    return math.sqrt(variance(array))\n",
    "\n",
    "def interquartile_range(x):\n",
    "    return quantile(x, 0.75) - quantile(x, 0.25)\n",
    "\n",
    "\n",
    "num_friends = [100, 49, 41, 40, 25, 20, 25, 100, 99, 23, 26, 75, 32, 12, 100, 20]\n",
    "\n",
    "print('Mean:', mean(num_friends))\n",
    "print('Median:', median(num_friends))\n",
    "print('Quantile 0.25:', quantile(num_friends, 0.25))\n",
    "print('Quantile 0.6:', quantile(num_friends, 0.6))\n",
    "print('Quantile 0.9:', quantile(num_friends, 0.9))\n",
    "print('Range:', data_range(num_friends))\n",
    "print('Variance:', variance(num_friends))\n",
    "print('Standard Deviation:', st_deviation(num_friends))\n",
    "print('Interquartile Range:', interquartile_range(num_friends))\n"
   ]
  },
  {
   "cell_type": "code",
   "execution_count": 150,
   "metadata": {},
   "outputs": [
    {
     "name": "stdout",
     "output_type": "stream",
     "text": [
      "[59, 43, 81, 55, 37, 55, 37, 66, 10, 42, 63, 52, 59, 62, 53, 85, 61, 78, 45, 46, 2, 14, 62, 61, 48, 64, 28, 82, 45, 44, 20, 33, 35, 64, 65, 28, 31, 108, 48, 80, 70, 21, 74, 7, 88, 72, 45, 67, 41, 41, 38, 55, 55, 65, 51, 30, 48, 28, 53, 43, 23, 35, 38, 38, 28, 71, 53, 85, 49, 45, 37, 24, 32, 52, 71, 53, 86, 54, 91, 53, 79, 55, 64, 31, 55, 36, 39, 71, 43, 68, 40, 43, 34, 46, 23, 66, 44, 55, 39, 62, 2, 63, 31, 54, 27, 34, 59, 39, 26, 26, 17, 69, 29, 49, 50, 42, 19, 51, 31, 101, 24, 51, 44, 35, 32, 21, 20, 38, 92, 46, 43, 81, 53, 78, 69, 59, 63, 37, 106, 64, 27, 82, 46, 62, 74, 80, 70, 35, 11, 42, 58, 41, 47, 38, 50, 53, 45, 47, 36, 31, 54, 65, 28, 58, 44, 99, 18, 56, 42, 19, 34, 57, 40, 41, 44, 14, 42, 22, 68, 3, 55, 75, 59, 29, 51, 60, 61, 55, 47, 6, 36, 61, 53, 62, 32, 25, 40, 44, 42, 68]\n",
      "[88, 62, 125, 82, 53, 82, 53, 100, 12, 61, 95, 77, 88, 93, 78, 132, 92, 120, 65, 67, 2, 18, 93, 92, 70, 97, 39, 127, 65, 64, 26, 46, 49, 97, 98, 39, 43, 172, 70, 123, 107, 28, 113, 8, 137, 110, 65, 102, 59, 59, 54, 82, 82, 98, 75, 42, 70, 39, 78, 62, 31, 49, 54, 54, 39, 108, 78, 132, 72, 65, 53, 32, 45, 77, 108, 78, 134, 80, 142, 78, 122, 82, 97, 43, 82, 51, 56, 108, 62, 103, 57, 62, 48, 67, 31, 100, 64, 82, 56, 93, 2, 95, 43, 80, 37, 48, 88, 56, 36, 36, 22, 105, 40, 72, 73, 61, 25, 75, 43, 160, 32, 75, 64, 49, 45, 28, 26, 54, 144, 67, 62, 125, 78, 120, 105, 88, 95, 53, 168, 97, 37, 127, 67, 93, 113, 123, 107, 49, 13, 61, 87, 59, 69, 54, 73, 78, 65, 69, 51, 43, 80, 98, 39, 87, 64, 156, 24, 83, 61, 25, 48, 85, 57, 59, 64, 18, 61, 29, 103, 3, 82, 115, 88, 40, 75, 90, 92, 82, 69, 7, 51, 92, 78, 93, 45, 34, 57, 64, 61, 103]\n"
     ]
    }
   ],
   "source": [
    "import numpy as np\n",
    "\n",
    "num_friends = [abs(int(x)) for x in np.random.normal(loc=50, scale=20, size=200)]\n",
    "\n",
    "daily_minutes_spent = [int(x**1.1) for x in num_friends]\n",
    "\n",
    "print(num_friends)\n",
    "print(daily_minutes_spent)"
   ]
  },
  {
   "cell_type": "code",
   "execution_count": 151,
   "metadata": {},
   "outputs": [
    {
     "data": {
      "text/plain": [
       "660.1290999999999"
      ]
     },
     "execution_count": 151,
     "metadata": {},
     "output_type": "execute_result"
    }
   ],
   "source": [
    "def dot(x, y):\n",
    "    if len(x) != len(y):\n",
    "        print('Vector length must be the same!')\n",
    "        return None\n",
    "    return sum([i * j for i, j in zip(x, y)])\n",
    "\n",
    "def covariance(x, y, population=False):\n",
    "    if len(x) != len(y):\n",
    "        print('Vector length must be the same!')\n",
    "        return None\n",
    "    if population:\n",
    "        return dot(de_mean(x), de_mean(y)) / len(x)\n",
    "    else:\n",
    "        return dot(de_mean(x), de_mean(y)) / (len(x) - 1)\n",
    "\n",
    "covariance(num_friends, daily_minutes_spent, population=True)"
   ]
  },
  {
   "cell_type": "code",
   "execution_count": 203,
   "metadata": {},
   "outputs": [
    {
     "name": "stdout",
     "output_type": "stream",
     "text": [
      "Covariance: 619.7121859296485\n",
      "Correlation: 0.9993844181208078\n"
     ]
    }
   ],
   "source": [
    "def correlation(x, y, population=False):\n",
    "    x_std = st_deviation(x)\n",
    "    y_std = st_deviation(y)\n",
    "\n",
    "    return covariance(x, y, population=population) / (x_std * y_std)\n",
    "\n",
    "\n",
    "num_friends = [abs(int(x)) for x in np.random.normal(loc=50, scale=20, size=200)]\n",
    "\n",
    "\n",
    "daily_minutes_spent = [int(x**1.1) for x in num_friends]\n",
    "\n",
    "print('Covariance:', covariance(num_friends, daily_minutes_spent))\n",
    "print('Correlation:', correlation(num_friends, daily_minutes_spent))"
   ]
  },
  {
   "cell_type": "code",
   "execution_count": null,
   "metadata": {},
   "outputs": [],
   "source": []
  }
 ],
 "metadata": {
  "interpreter": {
   "hash": "f2675592439886072215c5492b56ef91d6259dc08377ceafc1fad216e79bf788"
  },
  "kernelspec": {
   "display_name": "Python 3.8.8 64-bit ('base': conda)",
   "name": "python3"
  },
  "language_info": {
   "name": "python",
   "version": ""
  },
  "orig_nbformat": 4
 },
 "nbformat": 4,
 "nbformat_minor": 2
}