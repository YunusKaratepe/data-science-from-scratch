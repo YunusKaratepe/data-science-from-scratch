{
 "cells": [
  {
   "cell_type": "code",
   "execution_count": 4,
   "metadata": {},
   "outputs": [],
   "source": [
    "import data_analysis_tools as da\n",
    "def step_function(x):\n",
    "    return 1 if x >= 0 else 0\n",
    "\n",
    "def perceptron_output(weights, bias, x):\n",
    "    \"\"\"return 1 if the perceptron 'fires', 0 if not\"\"\"\n",
    "    neuron_value = da.dot_product(weights, x) + bias\n",
    "    return step_function(neuron_value)"
   ]
  },
  {
   "cell_type": "code",
   "execution_count": 5,
   "metadata": {},
   "outputs": [
    {
     "name": "stdout",
     "output_type": "stream",
     "text": [
      "0\n",
      "0\n",
      "0\n",
      "1\n"
     ]
    }
   ],
   "source": [
    "\"\"\"we can create an AND gate (which returns 1 if both its inputs\n",
    "are 1 but returns 0 if one of its inputs is 0)\"\"\"\n",
    "\n",
    "weights = [2, 2]\n",
    "bias = -3\n",
    "\n",
    "print(perceptron_output(weights, bias, [0, 0]))\n",
    "print(perceptron_output(weights, bias, [0, 1]))\n",
    "print(perceptron_output(weights, bias, [1, 0]))\n",
    "print(perceptron_output(weights, bias, [1, 1]))"
   ]
  },
  {
   "cell_type": "code",
   "execution_count": 6,
   "metadata": {},
   "outputs": [
    {
     "name": "stdout",
     "output_type": "stream",
     "text": [
      "0\n",
      "1\n",
      "1\n",
      "1\n"
     ]
    }
   ],
   "source": [
    "\"\"\"we can create an OR gate (which returns 1 if any its inputs\n",
    "are 1 but returns 0 if both of them is 0)\"\"\"\n",
    "\n",
    "weights = [2, 2]\n",
    "bias = -1\n",
    "\n",
    "print(perceptron_output(weights, bias, [0, 0]))\n",
    "print(perceptron_output(weights, bias, [0, 1]))\n",
    "print(perceptron_output(weights, bias, [1, 0]))\n",
    "print(perceptron_output(weights, bias, [1, 1]))"
   ]
  },
  {
   "cell_type": "code",
   "execution_count": 7,
   "metadata": {},
   "outputs": [
    {
     "name": "stdout",
     "output_type": "stream",
     "text": [
      "0\n",
      "1\n"
     ]
    },
    {
     "data": {
      "text/plain": "'But this aproach can not solve XOR problem. (Single perceptron)'"
     },
     "execution_count": 7,
     "metadata": {},
     "output_type": "execute_result"
    }
   ],
   "source": [
    "\"\"\"NOT gate\"\"\"\n",
    "weights = [-2]\n",
    "bias = 1\n",
    "\n",
    "print(perceptron_output(weights, bias, [1]))\n",
    "print(perceptron_output(weights, bias, [0]))\n",
    "\n",
    "\"\"\"But this aproach can not solve XOR problem. (Single perceptron)\"\"\""
   ]
  },
  {
   "cell_type": "code",
   "execution_count": 8,
   "metadata": {},
   "outputs": [],
   "source": [
    "import math\n",
    "def sigmoid(t):\n",
    "    return 1 / (1 + math.exp(-t))\n",
    "\n",
    "def neuron_output(weights, inputs):\n",
    "    neuron_value = da.dot_product(weights, inputs)\n",
    "    return sigmoid(neuron_value)\n",
    "\n",
    "def feed_forward(network, input_vector):\n",
    "    \"\"\"takes in a network (represented as a list of lists of lists of weights)\n",
    "    and returns the output from forward-propagating the input\"\"\"\n",
    "\n",
    "    outputs = []\n",
    "\n",
    "    # process one layer at a time\n",
    "    for layer in network:\n",
    "        input_with_bias = input_vector + [1]\n",
    "        output = [neuron_output(neuron, input_with_bias) for neuron in layer]\n",
    "        outputs.append(output)\n",
    "\n",
    "        input_vector = output # output of this layer is input for next layer\n",
    "    \n",
    "    return outputs"
   ]
  },
  {
   "cell_type": "code",
   "execution_count": null,
   "metadata": {},
   "outputs": [],
   "source": [
    "xor_network = [\n",
    "    [[20, 20, -30], [20, 20, -10]], # hidden layer\n",
    "    [[-60, 60, -30]] # output neuron\n",
    "]\n",
    "\n",
    "print(feed_forward(xor_network, [0, 0])[-1]) # -1 for the last layer -> output layer\n",
    "print(feed_forward(xor_network, [0, 1])[-1])\n",
    "print(feed_forward(xor_network, [1, 0])[-1])\n",
    "print(feed_forward(xor_network, [1, 1])[-1])\n",
    "\n",
    "\"\"\"assume if close to 1 it is 1, if close to 0 then it is 0\"\"\""
   ]
  },
  {
   "cell_type": "code",
   "execution_count": null,
   "metadata": {},
   "outputs": [],
   "source": [
    "def backpropagate(network, input_vector, targets):\n",
    "\n",
    "    \n",
    "    hidden_outputs, outputs = feed_forward(network, input_vector)\n",
    "\n",
    "    # the output * (1 - output) is from the derivative of sigmoid\n",
    "    output_deltas = [output * (1 - output) * (output - target) for output, target in zip(outputs, targets)]\n",
    "\n",
    "    # adjust weights for output layer, one neuron at a time\n",
    "    for i, output_neuron in enumerate(network[-1]):\n",
    "        # focus on the ith output layer neuron\n",
    "        for j, hidden_output in enumerate(hidden_outputs + [1]):\n",
    "            # adjust the jth weight based on both\n",
    "            # this neuron's delta and its jth input\n",
    "            output_neuron[j] -= output_deltas[i] * hidden_output\n",
    "\n",
    "    # back-propagate errors to hidden layer\n",
    "    hidden_deltas = [hidden_output * (1 - hidden_output) * da.dot_product(output_deltas, [n[i] for n in network[-1]]) \n",
    "        for i, hidden_output in enumerate(hidden_outputs)]\n",
    "\n",
    "    for i, hidden_neuron in enumerate(network[0]):\n",
    "        for j, input in enumerate(input_vector + [1]):\n",
    "            hidden_neuron[j] -= hidden_deltas[i] * input\n"
   ]
  },
  {
   "cell_type": "code",
   "execution_count": null,
   "metadata": {},
   "outputs": [],
   "source": [
    "import os\n",
    "import data_analysis_tools as da\n",
    "def read_all_from_dir(dir):\n",
    "    data = []\n",
    "    file_names = sorted(os.listdir(dir))\n",
    "    for file_name in file_names:\n",
    "        full_path = os.path.join(dir, file_name)\n",
    "        if not os.path.isdir(full_path):\n",
    "            with open(full_path, 'rt') as f:\n",
    "                tmp = f.readlines()[0]\n",
    "                data.append(da.parser.parse_vector2float(tmp.split(',')))\n",
    "    return data\n",
    "    \n",
    "inputs = read_all_from_dir('./files/perceptron-characters/')\n",
    "\n",
    "for data_i in inputs:\n",
    "    for j in range(len(data_i)):\n",
    "        if data_i[j] == -1.0:\n",
    "            data_i[j] = 0.0\n",
    "\n",
    "labels = [\n",
    "    [1, 0, 0, 0, 0, 0, 0], # A\n",
    "    [0, 1, 0, 0, 0, 0, 0], # B\n",
    "    [0, 0, 1, 0, 0, 0, 0], # C\n",
    "    [0, 0, 0, 1, 0, 0, 0], # D\n",
    "    [0, 0, 0, 0, 1, 0, 0], # E\n",
    "    [0, 0, 0, 0, 0, 1, 0], # J\n",
    "    [0, 0, 0, 0, 0, 0, 1], # K\n",
    "]\n",
    "\n",
    "\n",
    "\n",
    "print(inputs)"
   ]
  },
  {
   "cell_type": "code",
   "execution_count": null,
   "metadata": {},
   "outputs": [],
   "source": [
    "da.r.seed(0)\n",
    "input_size = 7*9\n",
    "num_hidden = 5\n",
    "output_size = 7\n",
    "\n",
    "hidden_layer = [[da.random.random() for _ in range(input_size + 1)] for _ in range(num_hidden)]\n",
    "\n",
    "output_layer = [[da.random.random() for _ in range(num_hidden + 1)] for _ in range(output_size)]\n",
    "\n",
    "network = [hidden_layer, output_layer]"
   ]
  },
  {
   "cell_type": "code",
   "execution_count": null,
   "metadata": {},
   "outputs": [],
   "source": [
    "for _ in range(40000):\n",
    "    for input_vector, target_vector in zip(inputs, labels):\n",
    "        backpropagate(network, input_vector, target_vector)"
   ]
  },
  {
   "cell_type": "code",
   "execution_count": 12,
   "metadata": {},
   "outputs": [
    {
     "ename": "NameError",
     "evalue": "name 'network' is not defined",
     "output_type": "error",
     "traceback": [
      "\u001B[0;31m---------------------------------------------------------------------------\u001B[0m",
      "\u001B[0;31mNameError\u001B[0m                                 Traceback (most recent call last)",
      "\u001B[0;32m<ipython-input-12-2e72a51d1765>\u001B[0m in \u001B[0;36m<module>\u001B[0;34m\u001B[0m\n\u001B[1;32m      5\u001B[0m \u001B[0;34m\u001B[0m\u001B[0m\n\u001B[1;32m      6\u001B[0m \u001B[0;32mfor\u001B[0m \u001B[0mi\u001B[0m \u001B[0;32min\u001B[0m \u001B[0mrange\u001B[0m\u001B[0;34m(\u001B[0m\u001B[0;36m7\u001B[0m\u001B[0;34m)\u001B[0m\u001B[0;34m:\u001B[0m\u001B[0;34m\u001B[0m\u001B[0;34m\u001B[0m\u001B[0m\n\u001B[0;32m----> 7\u001B[0;31m    \u001B[0mprint\u001B[0m\u001B[0;34m(\u001B[0m\u001B[0mpredict\u001B[0m\u001B[0;34m(\u001B[0m\u001B[0mnetwork\u001B[0m\u001B[0;34m,\u001B[0m \u001B[0minputs\u001B[0m\u001B[0;34m[\u001B[0m\u001B[0mi\u001B[0m\u001B[0;34m]\u001B[0m\u001B[0;34m)\u001B[0m\u001B[0;34m)\u001B[0m\u001B[0;34m\u001B[0m\u001B[0;34m\u001B[0m\u001B[0m\n\u001B[0m\u001B[1;32m      8\u001B[0m \u001B[0;34m\u001B[0m\u001B[0m\n",
      "\u001B[0;31mNameError\u001B[0m: name 'network' is not defined"
     ]
    }
   ],
   "source": [
    "def predict(network, input):\n",
    "    \"\"\"returns (class_number, probabilities)\"\"\"\n",
    "    res = feed_forward(network, input)[-1]\n",
    "    return res.index(max(res)), res\n",
    "\n",
    "for i in range(7):\n",
    "   print(predict(network, inputs[i]))"
   ]
  },
  {
   "cell_type": "code",
   "execution_count": 9,
   "metadata": {},
   "outputs": [],
   "source": [
    "import data_analysis_tools as da\n",
    "import os\n",
    "\n",
    "def read_all_from_dir(dir):\n",
    "    data = []\n",
    "    file_names = sorted(os.listdir(dir))\n",
    "    for file_name in file_names:\n",
    "        full_path = os.path.join(dir, file_name)\n",
    "        if not os.path.isdir(full_path):\n",
    "            with open(full_path, 'rt') as f:\n",
    "                tmp = f.readlines()[0]\n",
    "                data.append(da.parser.parse_vector2float(tmp.split(',')))\n",
    "    return data\n",
    "    \n",
    "inputs = read_all_from_dir('./files/perceptron-characters/')\n",
    "\n",
    "for data_i in inputs:\n",
    "    for j in range(len(data_i)):\n",
    "        if data_i[j] == -1.0:\n",
    "            data_i[j] = 0.0\n",
    "\n",
    "da.r.seed(0)\n",
    "input_size = 7*9\n",
    "num_hidden = 5\n",
    "output_size = 7\n",
    "\n",
    "perceptron = da.ml.PerceptronClassifier(input_size, num_hidden, 7)\n",
    "\n",
    "perceptron.train(inputs)"
   ]
  },
  {
   "cell_type": "code",
   "execution_count": 11,
   "metadata": {},
   "outputs": [
    {
     "name": "stdout",
     "output_type": "stream",
     "text": [
      "(6, [0.1431321762463996, 0.11333767929416806, 0.0340393126458097, 0.05811974540479484, 0.18288307691906722, 7.803587061296162e-19, 0.23641453346653457])\n",
      "(1, [0.16390452997111063, 0.903645914239077, 0.02694225060003499, 0.04936612531263441, 0.2023769740281622, 6.530975158048925e-21, 0.26732722494531413])\n",
      "(3, [0.04927393558373475, 2.9181094213457846e-15, 0.170515679888114, 0.17888642753195952, 0.08210603079041633, 0.001211582033783214, 0.08524455877878981])\n",
      "(3, [0.04811667487475518, 1.4966441888886857e-15, 0.1758379835008354, 0.18283908503980129, 0.08064202119330512, 0.0025370378881763456, 0.08326644733206198])\n",
      "(6, [0.14060069529520858, 0.06816929805926886, 0.0350845614334207, 0.059358682373200695, 0.180460350977312, 1.4526854039981457e-18, 0.23258487761600766])\n",
      "(5, [0.03709909999791683, 1.0209306399459066e-18, 0.24317451294041656, 0.2307006307198154, 0.06620823606086094, 0.8953126442400684, 0.06432133930263148])\n",
      "(6, [0.1408699796238344, 0.07206343112465283, 0.034971250157310535, 0.05922497173187286, 0.18071874110420608, 1.3592218857236507e-18, 0.23299274266605347])\n"
     ]
    }
   ],
   "source": [
    "for i in range(7):\n",
    "   print(perceptron.predict(inputs[i]))"
   ]
  }
 ],
 "metadata": {
  "interpreter": {
   "hash": "f2675592439886072215c5492b56ef91d6259dc08377ceafc1fad216e79bf788"
  },
  "kernelspec": {
   "name": "python3",
   "language": "python",
   "display_name": "Python 3"
  },
  "language_info": {
   "name": "python",
   "version": ""
  },
  "orig_nbformat": 4
 },
 "nbformat": 4,
 "nbformat_minor": 2
}