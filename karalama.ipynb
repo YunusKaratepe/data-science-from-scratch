{
 "cells": [
  {
   "cell_type": "code",
   "execution_count": 25,
   "id": "79fda9e9",
   "metadata": {},
   "outputs": [
    {
     "output_type": "stream",
     "name": "stdout",
     "text": [
      "{1, 2, 3}\n[1, 2, 3, 3, 2, 1]\n"
     ]
    }
   ],
   "source": [
    "item_list = [1, 2, 3, 3, 2, 1]\n",
    "\n",
    "item_set = set(item_list)\n",
    "\n",
    "print(item_set)\n",
    "print(item_list)"
   ]
  },
  {
   "cell_type": "code",
   "execution_count": 26,
   "id": "91085357",
   "metadata": {
    "scrolled": false
   },
   "outputs": [
    {
     "output_type": "execute_result",
     "data": {
      "text/plain": [
       "True"
      ]
     },
     "metadata": {},
     "execution_count": 26
    }
   ],
   "source": [
    "2 in item_set"
   ]
  },
  {
   "cell_type": "markdown",
   "id": "59240bcd",
   "metadata": {},
   "source": [
    "# Sorting"
   ]
  },
  {
   "cell_type": "code",
   "execution_count": 27,
   "id": "f52ccc87",
   "metadata": {},
   "outputs": [
    {
     "output_type": "stream",
     "name": "stdout",
     "text": [
      "[4, 1, 2, 3]\n[1, 2, 3, 4]\n[-4, 3, -2, 1]\n"
     ]
    }
   ],
   "source": [
    "x = [4,1,2,3]\n",
    "\n",
    "y = sorted(x) # is [1,2,3,4], x is unchanged\n",
    "print(x)\n",
    "\n",
    "x.sort() # now x is [1,2,3,4]\n",
    "print(x)\n",
    "\n",
    "x = sorted([-4,1,-2,3], key=abs, reverse=True)\n",
    "print(x)"
   ]
  },
  {
   "cell_type": "markdown",
   "id": "5bfdb980",
   "metadata": {},
   "source": [
    "# List Comprehensions"
   ]
  },
  {
   "cell_type": "code",
   "execution_count": 28,
   "id": "8da01936",
   "metadata": {},
   "outputs": [
    {
     "output_type": "execute_result",
     "data": {
      "text/plain": [
       "{0: 0, 1: 1, 2: 4, 3: 9, 4: 16}"
      ]
     },
     "metadata": {},
     "execution_count": 28
    }
   ],
   "source": [
    "# list to dict\n",
    "square_dict = {x: x * x for x in range(5)}\n",
    "square_dict"
   ]
  },
  {
   "cell_type": "code",
   "execution_count": 29,
   "id": "1f2c209a",
   "metadata": {},
   "outputs": [
    {
     "output_type": "execute_result",
     "data": {
      "text/plain": [
       "{0, 1, 4, 9, 16}"
      ]
     },
     "metadata": {},
     "execution_count": 29
    }
   ],
   "source": [
    "# list to set\n",
    "square_set = {x * x for x in range(5)}\n",
    "square_set"
   ]
  },
  {
   "cell_type": "code",
   "execution_count": 30,
   "id": "dc8fc622",
   "metadata": {},
   "outputs": [
    {
     "output_type": "stream",
     "name": "stdout",
     "text": [
      "[(0, 0), (0, 1), (0, 2), (1, 0), (1, 1), (1, 2), (2, 0), (2, 1), (2, 2)]\n[(0, -1), (0, 0), (0, 1), (0, 2), (1, 0), (1, 1), (1, 2), (2, 1), (2, 2)]\n"
     ]
    }
   ],
   "source": [
    "pairs = [(x, y) for x in range(3)\n",
    "                for y in range(3)]\n",
    "print(pairs)\n",
    "\n",
    "increasing_pairs = [(x, y) for x in range(3)\n",
    "                           for y in range(x-1, 3)]\n",
    "print(increasing_pairs)"
   ]
  },
  {
   "cell_type": "code",
   "execution_count": 31,
   "id": "de039da0",
   "metadata": {},
   "outputs": [
    {
     "output_type": "stream",
     "name": "stdout",
     "text": [
      "1\n12\n[2, 4, 5, 1, 3]\n4\n[6, 8, 89, 69, 45, 28, 51, 83, 77, 3]\n"
     ]
    }
   ],
   "source": [
    "# Random\n",
    "import random\n",
    "\n",
    "print(random.randrange(10))\n",
    "print(random.randrange(12, 20))\n",
    "\n",
    "ran_list = [i for i in range(1, 6)]\n",
    "random.shuffle(ran_list)\n",
    "print(ran_list)\n",
    "print(random.choice(ran_list))\n",
    "\n",
    "population = [i for i in range(100)]\n",
    "sample = random.sample(population=population, k=10)\n",
    "print(sample)\n"
   ]
  },
  {
   "cell_type": "code",
   "execution_count": 32,
   "id": "f76bb200",
   "metadata": {},
   "outputs": [
    {
     "output_type": "stream",
     "name": "stdout",
     "text": [
      "True\n['c', 'r', 's', 's']\nR4D4343\n"
     ]
    }
   ],
   "source": [
    "# regular expressions\n",
    "import re\n",
    "\n",
    "print (all([\n",
    "    not re.match(\"a\", \"cat\"),\n",
    "    re.search(\"a\", \"cat\"),\n",
    "    not re.search(\"c\", \"dog\"),\n",
    "    3 == len(re.split(\"[ab]\", \"carbs\")),\n",
    "    \"R-D-\" == re.sub(\"[0-9]\", \"-\", \"R2D2\")\n",
    "]))\n",
    "print(re.split(\"[ab]\", \"carbsas\"))\n",
    "print(re.sub(\"[2]\", \"4\", \"R2D2323\"))"
   ]
  },
  {
   "cell_type": "code",
   "execution_count": 33,
   "id": "a7338534",
   "metadata": {},
   "outputs": [],
   "source": [
    "# class\n",
    "class Set:\n",
    "    def __init__(self, values=None):\n",
    "        self.dict = {}\n",
    "        \n",
    "        if values is not None:\n",
    "            for value in values:\n",
    "                self.add(value)\n",
    "                \n",
    "    def __repr__(self):\n",
    "        return f\"Set: {str(self.dict.keys())}\" \n",
    "\n",
    "    def add(self, value):\n",
    "        self.dict[value] = True\n",
    "    \n",
    "    def contains(self, value):\n",
    "        return value in self.dict\n",
    "\n",
    "    def remove(self, value):\n",
    "        del self.dict[value]"
   ]
  },
  {
   "cell_type": "code",
   "execution_count": 34,
   "metadata": {},
   "outputs": [
    {
     "output_type": "stream",
     "name": "stdout",
     "text": [
      "4 True\n3 False\n"
     ]
    }
   ],
   "source": [
    "s = Set([1, 2, 3])\n",
    "s.add(4)\n",
    "print(\"4\", s.contains(4))\n",
    "s.remove(3)\n",
    "print(\"3\", s.contains(3))"
   ]
  },
  {
   "cell_type": "code",
   "execution_count": 50,
   "metadata": {},
   "outputs": [],
   "source": [
    "from functools import partial\n",
    "\n",
    "def exp(base, power):\n",
    "    return base ** power\n",
    "\n",
    "def two_to_the(power):\n",
    "    return exp(2, power)"
   ]
  },
  {
   "cell_type": "code",
   "execution_count": 70,
   "metadata": {},
   "outputs": [
    {
     "output_type": "execute_result",
     "data": {
      "text/plain": [
       "2916"
      ]
     },
     "metadata": {},
     "execution_count": 70
    }
   ],
   "source": [
    "squareof = partial(exp, power=2)\n",
    "squareof(54)"
   ]
  },
  {
   "cell_type": "code",
   "execution_count": 115,
   "metadata": {},
   "outputs": [
    {
     "output_type": "stream",
     "name": "stdout",
     "text": [
      "[2, 4, 6, 8]\n[2, 4, 6, 8]\n[2, 4, 6, 8]\n"
     ]
    }
   ],
   "source": [
    "def double(x):\n",
    "    return 2 * x\n",
    "\n",
    "xs = [1, 2, 3, 4]\n",
    "twice_xs = [double(i) for i in xs]\n",
    "print(twice_xs)\n",
    "\n",
    "twice_xs = list(map(double, xs))\n",
    "print(twice_xs)\n",
    "\n",
    "list_doubler = partial(map, double)\n",
    "twice_xs = list(list_doubler(xs))\n",
    "print(twice_xs)"
   ]
  },
  {
   "cell_type": "code",
   "execution_count": 105,
   "metadata": {},
   "outputs": [
    {
     "output_type": "execute_result",
     "data": {
      "text/plain": [
       "[4, 10]"
      ]
     },
     "metadata": {},
     "execution_count": 105
    }
   ],
   "source": [
    "def multiply(x: int, y: int): return x * y\n",
    "\n",
    "products = list(map(multiply, [1, 2], [4, 5]))\n",
    "products"
   ]
  },
  {
   "cell_type": "code",
   "execution_count": 116,
   "metadata": {},
   "outputs": [
    {
     "output_type": "stream",
     "name": "stdout",
     "text": [
      "[0, 2, 4, 6, 8]\n[0, 2, 4, 6, 8]\n"
     ]
    }
   ],
   "source": [
    "def is_even(x):\n",
    "    return x % 2 == 0\n",
    "\n",
    "x_evens = [x for x in range(10) if is_even(x)]\n",
    "print(x_evens)\n",
    "\n",
    "x_evens2 = list(filter(is_even, range(10)))\n",
    "print(x_evens2)"
   ]
  },
  {
   "cell_type": "code",
   "execution_count": 130,
   "metadata": {},
   "outputs": [
    {
     "output_type": "stream",
     "name": "stdout",
     "text": [
      "i: 0, document: [12, 2, 3]\ni: 1, document: [12, 3, 2]\ni: 2, document: [3, 3, 3]\ni: 3, document: [3, 2, 75]\ni: 0, document: 0\ni: 1, document: 1\ni: 2, document: 2\ni: 3, document: 3\ni: 0, document: 0\ni: 1, document: 1\ni: 2, document: 2\ni: 3, document: 3\ni: 0\ni: 1\ni: 2\ni: 3\ni: 0\ni: 1\ni: 2\ni: 3\n"
     ]
    }
   ],
   "source": [
    "# enumerate\n",
    "\n",
    "documents = {\n",
    "    0: [12, 2, 3], 1: [12, 3, 2], 2: [3, 3, 3], 3: [3, 2, 75]\n",
    "    }\n",
    "\n",
    "def do_something(i, document):\n",
    "    print(f\"i: {i}, document: {document}\")\n",
    "\n",
    "def do_something_i(i):\n",
    "    print(f\"i: {i}\")\n",
    "\n",
    "# not Pythonic\n",
    "for i in range(len(documents)):\n",
    "    document = documents[i]\n",
    "    do_something(i, document)\n",
    "\n",
    "# also not Pythonic\n",
    "i = 0\n",
    "for document in documents:\n",
    "    do_something(i, document)\n",
    "    i += 1\n",
    "\n",
    "# Pythonic\n",
    "for i, document in enumerate(documents):\n",
    "    do_something(i, document)\n",
    "\n",
    "for i in range(len(documents)): do_something_i(i) # not Pythonic\n",
    "for i, _ in enumerate(documents): do_something_i(i) # Pythonic"
   ]
  },
  {
   "cell_type": "code",
   "execution_count": 141,
   "metadata": {},
   "outputs": [
    {
     "output_type": "execute_result",
     "data": {
      "text/plain": [
       "[('a', 1), ('b', 2), ('c', 3), ('d', 4)]"
      ]
     },
     "metadata": {},
     "execution_count": 141
    }
   ],
   "source": [
    "# zip and argument unpacking\n",
    "\n",
    "list1 = ['a', 'b', 'c', 'd', 'e']\n",
    "list2 = [1, 2, 3, 4]\n",
    "\n",
    "pairs = list(zip(list1, list2))\n",
    "pairs"
   ]
  },
  {
   "cell_type": "code",
   "execution_count": 147,
   "metadata": {},
   "outputs": [
    {
     "output_type": "stream",
     "name": "stdout",
     "text": [
      "letters:('a', 'b', 'c', 'd'), numbers:(1, 2, 3, 4)\n"
     ]
    }
   ],
   "source": [
    "# unzip\n",
    "letters, numbers = zip(*pairs)\n",
    "print(f\"letters:{letters}, numbers:{numbers}\")"
   ]
  },
  {
   "cell_type": "code",
   "execution_count": 155,
   "metadata": {},
   "outputs": [
    {
     "output_type": "stream",
     "name": "stdout",
     "text": [
      "[('a', 'b', 'c'), (1, 2, 3)]\n[('a', 1), ('b', 2), ('c', 3)]\n"
     ]
    }
   ],
   "source": [
    "pack = list(zip(('a', 1), ('b', 2), ('c', 3)))\n",
    "print(pack)\n",
    "unpack = list(zip(*pack))\n",
    "print(unpack)"
   ]
  }
 ],
 "metadata": {
  "kernelspec": {
   "name": "python3",
   "display_name": "Python 3.8.8 64-bit ('base': conda)"
  },
  "language_info": {
   "codemirror_mode": {
    "name": "ipython",
    "version": 3
   },
   "file_extension": ".py",
   "mimetype": "text/x-python",
   "name": "python",
   "nbconvert_exporter": "python",
   "pygments_lexer": "ipython3",
   "version": "3.8.8"
  },
  "interpreter": {
   "hash": "f2675592439886072215c5492b56ef91d6259dc08377ceafc1fad216e79bf788"
  }
 },
 "nbformat": 4,
 "nbformat_minor": 5
}