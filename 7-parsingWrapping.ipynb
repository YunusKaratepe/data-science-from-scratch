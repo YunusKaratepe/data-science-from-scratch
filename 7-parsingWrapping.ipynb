{
 "cells": [
  {
   "cell_type": "code",
   "execution_count": 1,
   "metadata": {},
   "outputs": [
    {
     "name": "stdout",
     "output_type": "stream",
     "text": [
      "Text: \n",
      "\t\t\t\t\t\t\tNo products\n",
      "\t\t\t\t\t\t\n",
      "Words: ['No', 'products']\n",
      "None\n"
     ]
    }
   ],
   "source": [
    "# https://github.com/realpython/list-of-python-api-wrappers\n",
    "\n",
    "from bs4 import BeautifulSoup as bs\n",
    "import requests\n",
    "\n",
    "html = requests.get(\"http://automationpractice.com/index.php\").text\n",
    "soup = bs(html, 'html5lib')\n",
    "\n",
    "first_paragraph = soup.p\n",
    "# first_paragraph = soup.find('p')\n",
    "\n",
    "para_text = soup.p.text\n",
    "para_words = soup.p.text.split()\n",
    "\n",
    "print('Text:', para_text)\n",
    "print('Words:', para_words)\n",
    "\n",
    "# first_para_id = soup.p['id'] # raises key error if no id\n",
    "first_para_id = soup.p.get('id') # returns None if no id\n",
    "\n",
    "print(first_para_id)"
   ]
  },
  {
   "cell_type": "code",
   "execution_count": 2,
   "metadata": {},
   "outputs": [
    {
     "name": "stdout",
     "output_type": "stream",
     "text": [
      "[<p class=\"cart_block_no_products\">\n",
      "\t\t\t\t\t\t\tNo products\n",
      "\t\t\t\t\t\t</p>, <p class=\"cart-buttons\">\n",
      "\t\t\t\t\t\t\t<a class=\"btn btn-default button button-small\" href=\"http://automationpractice.com/index.php?controller=order\" id=\"button_order_cart\" rel=\"nofollow\" title=\"Check out\">\n",
      "\t\t\t\t\t\t\t\t<span>\n",
      "\t\t\t\t\t\t\t\t\tCheck out<i class=\"icon-chevron-right right\"></i>\n",
      "\t\t\t\t\t\t\t\t</span>\n",
      "\t\t\t\t\t\t\t</a>\n",
      "\t\t\t\t\t\t</p>, <p>Lorem ipsum dolor sit amet, consectetur adipiscing elit. Proin tristique in tortor et dignissim. Quisque non tempor leo. Maecenas egestas sem elit</p>, <p><button class=\"btn btn-default\" type=\"button\">Shop now !</button></p>, <p>Lorem ipsum dolor sit amet, consectetur adipiscing elit. Proin tristique in tortor et dignissim. Quisque non tempor leo. Maecenas egestas sem elit</p>]\n",
      "['Subsidiary of seleniumframework.com']\n"
     ]
    }
   ],
   "source": [
    "# multiple tags at once\n",
    "all_paras = soup.find_all('p') # or just soup('p')\n",
    "print(all_paras[:5])\n",
    "paras_with_ids = [p.text for p in soup('p') if p.get('id')] # only paras which has id attribute\n",
    "print(paras_with_ids)"
   ]
  },
  {
   "cell_type": "code",
   "execution_count": 3,
   "metadata": {},
   "outputs": [
    {
     "name": "stdout",
     "output_type": "stream",
     "text": [
      "['\\n\\t\\tCall us now: 0123-456-789\\n\\t', 'Search', '0', 'Product', 'Products', '\\n\\t\\t\\t\\t\\t\\t\\t', '(empty)', '\\n\\t\\t\\t\\t\\t\\t\\t\\t\\t\\t\\t\\t\\t\\t\\t\\t\\t\\t\\tFree shipping!\\n\\t\\t\\t\\t\\t\\t\\t\\t\\t\\t\\t\\t\\t\\t\\t\\t\\t', '\\n\\t\\t\\t\\t\\t\\t\\t\\t\\tShipping\\n\\t\\t\\t\\t\\t\\t\\t\\t', '$0.00']\n"
     ]
    }
   ],
   "source": [
    "spantexts_inside_divs = [span.text for div in soup('div') for span in div('span')] \n",
    "print(spantexts_inside_divs[:10])"
   ]
  },
  {
   "cell_type": "code",
   "execution_count": 9,
   "metadata": {},
   "outputs": [
    {
     "name": "stdout",
     "output_type": "stream",
     "text": [
      "1\n",
      "[<div class=\"header_user_info\">\n",
      "\t\t\t<a class=\"login\" href=\"http://automationpractice.com/index.php?controller=my-account\" rel=\"nofollow\" title=\"Log in to your customer account\">\n",
      "\t\t\tSign in\n",
      "\t\t</a>\n",
      "\t</div>]\n",
      "[<div id=\"contact-link\">\n",
      "\t<a href=\"http://automationpractice.com/index.php?controller=contact\" title=\"Contact Us\">Contact us</a>\n",
      "</div>]\n"
     ]
    }
   ],
   "source": [
    "header_user_info = soup.findAll('div', 'header_user_info') # basic is class\n",
    "print(len(header_user_info))\n",
    "print(header_user_info)\n",
    "\n",
    "example_id = soup.find_all('div', {'id': 'contact-link'})\n",
    "print(example_id)"
   ]
  },
  {
   "cell_type": "code",
   "execution_count": 36,
   "metadata": {},
   "outputs": [
    {
     "name": "stdout",
     "output_type": "stream",
     "text": [
      "JSON\n",
      "Serialized: { \"title\" : \"Data Science Book\",\n",
      "            \"author\" : \"Joel Grus\",\n",
      "            \"publicationYear\" : 2014,\n",
      "            \"topics\" : [ \"data\", \"science\", \"data science\"] }\n",
      "{'title': 'Data Science Book', 'author': 'Joel Grus', 'publicationYear': 2014, 'topics': ['data', 'science', 'data science']}\n",
      "---------------------------------------------\n",
      "XML\n",
      "[<topic class=\"data-science\">data</topic>, <topic class=\"data-science\">data science</topic>]\n",
      "[<topic class=\"data-science\">data</topic>, <topic>science</topic>, <topic class=\"data-science\">data science</topic>]\n",
      "<author>Joel Grus</author>\n"
     ]
    }
   ],
   "source": [
    "# parsing JSON and XML\n",
    "\n",
    "# JSON\n",
    "import json\n",
    "\n",
    "serialized = \"\"\"{ \"title\" : \"Data Science Book\",\n",
    "            \"author\" : \"Joel Grus\",\n",
    "            \"publicationYear\" : 2014,\n",
    "            \"topics\" : [ \"data\", \"science\", \"data science\"] }\"\"\"\n",
    "\n",
    "print('JSON')\n",
    "print('Serialized:', serialized)\n",
    "\n",
    "deserialized = json.loads(serialized)\n",
    "\n",
    "if \"data science\" in deserialized[\"topics\"]:\n",
    "    print(deserialized)\n",
    "\n",
    "# XML\n",
    "import lxml\n",
    "\n",
    "content = []\n",
    "\n",
    "with open('./files/sample.xml', 'r') as f:\n",
    "    content = f.readlines()\n",
    "    content = \"\".join(content)\n",
    "    bs_content = bs(content, 'lxml')\n",
    "\n",
    "print('---------------------------------------------\\nXML')\n",
    "print(bs_content.find_all('topic', {'class': 'data-science'}))\n",
    "print(bs_content.find_all('topic'))\n",
    "print(bs_content.book.author)"
   ]
  },
  {
   "cell_type": "code",
   "execution_count": 52,
   "metadata": {},
   "outputs": [
    {
     "name": "stdout",
     "output_type": "stream",
     "text": [
      "Dictionary Keys\n",
      "dict_keys(['id', 'node_id', 'name', 'full_name', 'private', 'owner', 'html_url', 'description', 'fork', 'url', 'forks_url', 'keys_url', 'collaborators_url', 'teams_url', 'hooks_url', 'issue_events_url', 'events_url', 'assignees_url', 'branches_url', 'tags_url', 'blobs_url', 'git_tags_url', 'git_refs_url', 'trees_url', 'statuses_url', 'languages_url', 'stargazers_url', 'contributors_url', 'subscribers_url', 'subscription_url', 'commits_url', 'git_commits_url', 'comments_url', 'issue_comment_url', 'contents_url', 'compare_url', 'merges_url', 'archive_url', 'downloads_url', 'issues_url', 'pulls_url', 'milestones_url', 'notifications_url', 'labels_url', 'releases_url', 'deployments_url', 'created_at', 'updated_at', 'pushed_at', 'git_url', 'ssh_url', 'clone_url', 'svn_url', 'homepage', 'size', 'stargazers_count', 'watchers_count', 'language', 'has_issues', 'has_projects', 'has_downloads', 'has_wiki', 'has_pages', 'forks_count', 'mirror_url', 'archived', 'disabled', 'open_issues_count', 'license', 'forks', 'open_issues', 'watchers', 'default_branch'])\n",
      "------------------------------------------------------\n",
      "Dates\n",
      "[datetime.datetime(2020, 3, 5, 10, 37, 38, tzinfo=tzutc()), datetime.datetime(2020, 3, 4, 20, 59, 53, tzinfo=tzutc()), datetime.datetime(2021, 7, 16, 21, 3, 1, tzinfo=tzutc()), datetime.datetime(2020, 3, 4, 23, 28, 49, tzinfo=tzutc()), datetime.datetime(2021, 2, 15, 14, 38, 11, tzinfo=tzutc()), datetime.datetime(2020, 3, 4, 22, 39, 53, tzinfo=tzutc()), datetime.datetime(2020, 12, 31, 22, 58, 27, tzinfo=tzutc()), datetime.datetime(2019, 7, 22, 6, 25, 14, tzinfo=tzutc()), datetime.datetime(2021, 7, 2, 23, 16, 52, tzinfo=tzutc()), datetime.datetime(2020, 4, 17, 19, 30, 52, tzinfo=tzutc()), datetime.datetime(2020, 5, 24, 20, 24, 28, tzinfo=tzutc()), datetime.datetime(2019, 12, 15, 1, 13, 15, tzinfo=tzutc()), datetime.datetime(2020, 3, 5, 10, 9, 19, tzinfo=tzutc()), datetime.datetime(2021, 7, 6, 18, 27, 9, tzinfo=tzutc()), datetime.datetime(2021, 6, 30, 17, 38, 16, tzinfo=tzutc()), datetime.datetime(2021, 7, 8, 11, 32, 24, tzinfo=tzutc()), datetime.datetime(2021, 1, 7, 19, 19, 17, tzinfo=tzutc()), datetime.datetime(2020, 12, 8, 20, 20, 39, tzinfo=tzutc()), datetime.datetime(2021, 4, 11, 19, 24, 47, tzinfo=tzutc()), datetime.datetime(2021, 2, 19, 18, 15, 8, tzinfo=tzutc()), datetime.datetime(2021, 4, 13, 10, 16, 14, tzinfo=tzutc()), datetime.datetime(2020, 11, 5, 8, 17, 57, tzinfo=tzutc()), datetime.datetime(2020, 12, 24, 9, 8, 7, tzinfo=tzutc())]\n",
      "------------------------------------------------------\n",
      "Counter({3: 5, 7: 5, 12: 4, 4: 3, 2: 2, 5: 1, 6: 1, 1: 1, 11: 1})\n",
      "Counter({2020: 11, 2021: 10, 2019: 2})\n",
      "Counter({3: 7, 2: 4, 4: 4, 6: 3, 1: 3, 0: 2})\n"
     ]
    }
   ],
   "source": [
    "# Using an unauthenticated api\n",
    "# example: github\n",
    "from collections import Counter\n",
    "\n",
    "import requests, json\n",
    "from dateutil.parser import parse\n",
    "endpoint = \"https://api.github.com/users/yunuskaratepe/repos\"\n",
    "\n",
    "repos = json.loads(requests.get(endpoint).text)\n",
    "# print(repos[0])\n",
    "print('Dictionary Keys')\n",
    "print(repos[0].keys())\n",
    "print('------------------------------------------------------\\nDates')\n",
    "dates = [parse(repo[\"created_at\"]) for repo in repos]\n",
    "print(dates)\n",
    "print('------------------------------------------------------')\n",
    "month_counts = Counter([date.month for date in dates])\n",
    "print(month_counts)\n",
    "year_counts = Counter([date.year for date in dates])\n",
    "print(year_counts)\n",
    "weekday_counts = Counter([date.weekday() for date in dates])\n",
    "print(weekday_counts)"
   ]
  }
 ],
 "metadata": {
  "interpreter": {
   "hash": "f2675592439886072215c5492b56ef91d6259dc08377ceafc1fad216e79bf788"
  },
  "kernelspec": {
   "display_name": "Python 3.8.8 64-bit ('base': conda)",
   "name": "python3"
  },
  "language_info": {
   "name": "python",
   "version": ""
  },
  "orig_nbformat": 4
 },
 "nbformat": 4,
 "nbformat_minor": 2
}