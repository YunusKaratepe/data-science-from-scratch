{
 "cells": [
  {
   "cell_type": "code",
   "execution_count": 1,
   "metadata": {},
   "outputs": [
    {
     "name": "stdout",
     "output_type": "stream",
     "text": [
      "Headers: ['Gender', 'Age', 'EstimatedSalary', 'Purchased']\n",
      "[(0.0, 38.0, 80000.0), (0.0, 41.0, 51000.0)] [0.0, 0.0]\n"
     ]
    }
   ],
   "source": [
    "import data_analysis_tools as da\n",
    "\n",
    "data = da.file_ops.read_csv('./files/Social_Network_Ads.csv', as_array=True)\n",
    "headers = data.pop(0)\n",
    "headers.pop(0)\n",
    "\n",
    "train, test = da.random.split_data(data, test_proportion=0.2)\n",
    "\n",
    "train_features = [(1.0 if i[1] == 'Male' else 0.0, float(i[2]), float(i[3])) for i in train]\n",
    "train_labels = [float(i[4]) for i in train]\n",
    "\n",
    "test_features = [(1.0 if i[1] == 'Male' else 0.0, float(i[2]), float(i[3])) for i in test]\n",
    "test_labels = [float(i[4]) for i in test]\n",
    "\n",
    "print('Headers:', headers)\n",
    "print(train_features[:2], train_labels[:2])"
   ]
  },
  {
   "cell_type": "code",
   "execution_count": 2,
   "metadata": {},
   "outputs": [],
   "source": [
    "import numpy as np\n",
    "rescaled_train_features = da.rescale(np.array(train_features))\n",
    "rescaled_test_features = da.rescale(np.array(test_features))"
   ]
  },
  {
   "cell_type": "code",
   "execution_count": 3,
   "metadata": {},
   "outputs": [
    {
     "data": {
      "text/plain": [
       "[-0.0015992382379250768, 0.27131125397294176, 0.14078417118638878]"
      ]
     },
     "execution_count": 3,
     "metadata": {},
     "output_type": "execute_result"
    }
   ],
   "source": [
    "linear_regression_classifier = da.ml.MultiLinearRegressionClassifier(alpha=0.001)\n",
    "linear_regression_classifier.train(rescaled_train_features, train_labels)\n",
    "linear_regression_classifier.beta"
   ]
  },
  {
   "cell_type": "code",
   "execution_count": 4,
   "metadata": {},
   "outputs": [
    {
     "name": "stdout",
     "output_type": "stream",
     "text": [
      "1.0 0.08210378182544134\n"
     ]
    }
   ],
   "source": [
    "test_index = 4\n",
    "\n",
    "print(test_labels[test_index], linear_regression_classifier.predict(rescaled_test_features[test_index]))"
   ]
  },
  {
   "cell_type": "code",
   "execution_count": 5,
   "metadata": {},
   "outputs": [
    {
     "name": "stdout",
     "output_type": "stream",
     "text": [
      "With Multi Linear Regression | Accuracy for treshold 0 is: 0.8125\n"
     ]
    }
   ],
   "source": [
    "treshold = 0\n",
    "predicted = [1 if linear_regression_classifier.predict(test_i) > treshold else 0 for test_i in rescaled_test_features]\n",
    "\n",
    "counter = 0\n",
    "for predicted_i, actual_i in zip(predicted, test_labels):\n",
    "    if predicted_i == actual_i:\n",
    "        counter += 1\n",
    "\n",
    "accuracy = counter / len(predicted)\n",
    "print('With Multi Linear Regression | Accuracy for treshold', treshold, 'is:', accuracy)"
   ]
  },
  {
   "cell_type": "code",
   "execution_count": 6,
   "metadata": {},
   "outputs": [],
   "source": [
    "# logistic regression\n",
    "import math\n",
    "# the logistic function\n",
    "def logistic(x):\n",
    "    return 1.0 / (1 + math.exp(-x))\n",
    "        \n",
    "\n",
    "def logistic_prime(x):\n",
    "    return logistic(x) * (1 - logistic(x))\n",
    "\n",
    "def logistic_log_likelihood_i(xi, yi, beta):\n",
    "    if yi == 1:\n",
    "        return math.log(logistic(da.dot_product(xi, beta)))\n",
    "    else:\n",
    "        return math.log(1.0 - logistic(da.dot_product(xi, beta)))\n",
    "        \n",
    "\n",
    "def logistic_log_likelihood(x, y, beta):\n",
    "    return sum([logistic_log_likelihood_i(xi, yi, beta) for xi, yi in zip(x, y)])\n",
    "\n",
    "def logistic_log_partial_ij(xi, yi, beta, j):\n",
    "    return (yi - logistic(da.dot_product(xi, beta))) * xi[j]\n",
    "\n",
    "def logistic_log_gradient_i(xi, yi, beta):\n",
    "    return [logistic_log_partial_ij(xi, yi, beta, j) for j in range(len(beta))]\n",
    "\n",
    "def logistic_log_gradient(x, y, beta):\n",
    "    return [logistic_log_gradient_i(xi, yi, beta) for xi, yi in zip(x, y)]\n"
   ]
  },
  {
   "cell_type": "code",
   "execution_count": 7,
   "metadata": {},
   "outputs": [
    {
     "data": {
      "text/plain": [
       "[0.035363317434165854, 1.996122825446562, 1.158748732539555]"
      ]
     },
     "execution_count": 7,
     "metadata": {},
     "output_type": "execute_result"
    }
   ],
   "source": [
    "# applying the model\n",
    "from functools import partial\n",
    "\n",
    "da.r.seed(0)\n",
    "fn = partial(logistic_log_likelihood, rescaled_train_features, train_labels)\n",
    "gradient_fn = partial(logistic_log_likelihood, train_features, train_labels)\n",
    "beta_0 = [da.random.random() for _ in range(len(train_features[0]))]\n",
    "\n",
    "# beta_hat = da.maximize_batch(target_fn=fn, gradient_fn=gradient_fn, theta_0=beta_0, tolerance=0.01)\n",
    "beta_hat = da.maximize_stochastic(logistic_log_likelihood_i, logistic_log_gradient_i, rescaled_train_features, train_labels, beta_0)\n",
    "beta_hat"
   ]
  },
  {
   "cell_type": "code",
   "execution_count": 8,
   "metadata": {},
   "outputs": [
    {
     "name": "stdout",
     "output_type": "stream",
     "text": [
      "With Logistic Regression | Accuracy for treshold 0.67 is: 0.8\n"
     ]
    }
   ],
   "source": [
    "def predict(xi, beta_hat):\n",
    "    return logistic(da.dot_product(beta_hat, xi))\n",
    "\n",
    "treshold = 0.67\n",
    "predicted = [1 if predict(test_i, beta_hat) > treshold else 0 for test_i in rescaled_test_features]\n",
    "\n",
    "counter = 0\n",
    "for predicted_i, actual_i in zip(predicted, test_labels):\n",
    "    if predicted_i == actual_i:\n",
    "        counter += 1\n",
    "\n",
    "accuracy = counter / len(predicted)\n",
    "print('With Logistic Regression | Accuracy for treshold', treshold, 'is:', accuracy)"
   ]
  },
  {
   "cell_type": "code",
   "execution_count": 9,
   "metadata": {},
   "outputs": [
    {
     "name": "stdout",
     "output_type": "stream",
     "text": [
      "Accuracy: 0.8\n",
      "Precision: 0.7307692307692307\n",
      "Recall: 0.6785714285714286\n",
      "F1-Score: 0.7037037037037038\n"
     ]
    }
   ],
   "source": [
    "# goodness of fit\n",
    "\n",
    "def test(x, y, treshold=0.5):\n",
    "    \"\"\"returns (tp, fp, fn, tn)\"\"\"\n",
    "    tp = fp = tn = fn = 0\n",
    "    for xi, yi in zip(x, y):\n",
    "        predicted = predict(xi, beta_hat)\n",
    "\n",
    "        if yi == 1:\n",
    "            if predicted >= treshold:\n",
    "                tp += 1\n",
    "            else:\n",
    "                fn += 1\n",
    "        else:\n",
    "            if predicted >= treshold:\n",
    "                fp += 1\n",
    "            else:\n",
    "                tn += 1\n",
    "    \n",
    "    return tp, fp, fn, tn\n",
    "\n",
    "tp, fp, fn, tn = test(rescaled_test_features, test_labels, 0.67)\n",
    "\n",
    "print('Accuracy:', da.ml.accuracy(tp, fp, fn, tn))\n",
    "print('Precision:', da.ml.precision(tp, fp, fn, tn))\n",
    "print('Recall:', da.ml.recall(tp, fp, fn, tn))\n",
    "print('F1-Score:', da.ml.f1_score(tp, fp, fn, tn))"
   ]
  },
  {
   "cell_type": "code",
   "execution_count": 10,
   "metadata": {},
   "outputs": [
    {
     "data": {
      "text/plain": [
       "[0.03632142578079057, 2.0005713203441586, 1.160171728602713]"
      ]
     },
     "execution_count": 10,
     "metadata": {},
     "output_type": "execute_result"
    }
   ],
   "source": [
    "classifier = da.ml.LogisticRegressionClassifier()\n",
    "\n",
    "classifier.train(rescaled_train_features, train_labels)\n",
    "\n",
    "classifier.beta_hat"
   ]
  },
  {
   "cell_type": "code",
   "execution_count": 11,
   "metadata": {},
   "outputs": [
    {
     "data": {
      "text/plain": [
       "(19, 7, 9, 45)"
      ]
     },
     "execution_count": 11,
     "metadata": {},
     "output_type": "execute_result"
    }
   ],
   "source": [
    "classifier.test(rescaled_test_features, test_labels, 0.67)"
   ]
  },
  {
   "cell_type": "code",
   "execution_count": 12,
   "metadata": {},
   "outputs": [],
   "source": [
    "# Support Vector Machines\n"
   ]
  }
 ],
 "metadata": {
  "interpreter": {
   "hash": "f2675592439886072215c5492b56ef91d6259dc08377ceafc1fad216e79bf788"
  },
  "kernelspec": {
   "display_name": "Python 3.8.8 64-bit ('base': conda)",
   "name": "python3"
  },
  "language_info": {
   "codemirror_mode": {
    "name": "ipython",
    "version": 3
   },
   "file_extension": ".py",
   "mimetype": "text/x-python",
   "name": "python",
   "nbconvert_exporter": "python",
   "pygments_lexer": "ipython3",
   "version": "3.8.8"
  },
  "orig_nbformat": 4
 },
 "nbformat": 4,
 "nbformat_minor": 2
}