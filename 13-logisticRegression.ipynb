{
 "cells": [
  {
   "cell_type": "code",
   "execution_count": 1,
   "metadata": {},
   "outputs": [
    {
     "name": "stdout",
     "output_type": "stream",
     "text": [
      "Headers: ['Gender', 'Age', 'EstimatedSalary', 'Purchased']\n",
      "[(0.0, 50.0, 44000.0), (1.0, 35.0, 88000.0)] [0.0, 0.0]\n"
     ]
    }
   ],
   "source": [
    "import data_analysis_tools as da\n",
    "\n",
    "data = da.file_ops.read_csv('./files/Social_Network_Ads.csv', as_array=True)\n",
    "headers = data.pop(0)\n",
    "headers.pop(0)\n",
    "\n",
    "train, test = da.random.split_data(data, test_proportion=0.2)\n",
    "\n",
    "train_features = [(1.0 if i[1] == 'Male' else 0.0, float(i[2]), float(i[3])) for i in train]\n",
    "train_labels = [float(i[4]) for i in train]\n",
    "\n",
    "test_features = [(1.0 if i[1] == 'Male' else 0.0, float(i[2]), float(i[3])) for i in test]\n",
    "test_labels = [float(i[4]) for i in test]\n",
    "\n",
    "print('Headers:', headers)\n",
    "print(train_features[:2], train_labels[:2])"
   ]
  },
  {
   "cell_type": "code",
   "execution_count": 12,
   "metadata": {},
   "outputs": [
    {
     "data": {
      "text/plain": [
       "[0.015509626120384045, 0.27606649799145205, 0.10594664023777893]"
      ]
     },
     "execution_count": 12,
     "metadata": {},
     "output_type": "execute_result"
    }
   ],
   "source": [
    "import numpy as np\n",
    "rescaled_train_features = da.rescale(np.array(train_features))\n",
    "rescaled_test_features = da.rescale(np.array(test_features))\n",
    "\n",
    "linear_regression_classifier = da.ml.MultiLinearRegressionClassifier(alpha=0.001)\n",
    "linear_regression_classifier.train(rescaled_train_features, train_labels)\n",
    "linear_regression_classifier.beta"
   ]
  },
  {
   "cell_type": "code",
   "execution_count": 13,
   "metadata": {},
   "outputs": [
    {
     "name": "stdout",
     "output_type": "stream",
     "text": [
      "1.0 0.38397167873563215\n"
     ]
    }
   ],
   "source": [
    "test_index = 4\n",
    "\n",
    "print(test_labels[test_index], linear_regression_classifier.predict(rescaled_test_features[test_index]))"
   ]
  },
  {
   "cell_type": "code",
   "execution_count": 34,
   "metadata": {},
   "outputs": [
    {
     "name": "stdout",
     "output_type": "stream",
     "text": [
      "Multi Linear Regression | Accuracy for treshold 0 is: 0.8875\n"
     ]
    }
   ],
   "source": [
    "treshold = 0\n",
    "predicted = [1 if linear_regression_classifier.predict(test_i) > treshold else 0 for test_i in rescaled_test_features]\n",
    "\n",
    "counter = 0\n",
    "for predicted_i, actual_i in zip(predicted, test_labels):\n",
    "    if predicted_i == actual_i:\n",
    "        counter += 1\n",
    "\n",
    "accuracy = counter / len(predicted)\n",
    "print('Multi Linear Regression | Accuracy for treshold', treshold, 'is:', accuracy)"
   ]
  }
 ],
 "metadata": {
  "interpreter": {
   "hash": "f2675592439886072215c5492b56ef91d6259dc08377ceafc1fad216e79bf788"
  },
  "kernelspec": {
   "display_name": "Python 3.8.8 64-bit ('base': conda)",
   "name": "python3"
  },
  "language_info": {
   "name": "python",
   "version": ""
  },
  "orig_nbformat": 4
 },
 "nbformat": 4,
 "nbformat_minor": 2
}