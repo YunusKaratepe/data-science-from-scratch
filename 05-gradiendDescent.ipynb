{
 "cells": [
  {
   "cell_type": "code",
   "execution_count": 1,
   "metadata": {},
   "outputs": [
    {
     "data": {
      "image/png": "[encoded data removed]",
      "text/plain": [
       "<Figure size 864x576 with 1 Axes>"
      ]
     },
     "metadata": {
      "needs_background": "light"
     },
     "output_type": "display_data"
    }
   ],
   "source": [
    "import math\n",
    "import matplotlib.pyplot as plt\n",
    "import random as r\n",
    "from functools import partial\n",
    "\n",
    "def sum_of_squares(vector):\n",
    "    return sum(i ** 2 for i in vector)\n",
    "\n",
    "def difference_quotient(f, x, h):\n",
    "    return (f(x + h) - f(x)) / h # basic derivation formula while h -> 0\n",
    "\n",
    "def square(x):\n",
    "    return x * x\n",
    "\n",
    "def square_derivative(x):\n",
    "    return 2 * x\n",
    "\n",
    "\n",
    "\"\"\" x2 = 100\n",
    "square_derivative(math.sqrt(x2)) \"\"\"\n",
    "\n",
    "derivative_estimate = partial(difference_quotient, square, h=0.00001)\n",
    "x = range(-10, 10)\n",
    "\n",
    "plt.figure(figsize=(12,8))\n",
    "plt.title(\"Actual Derivatives vs Estimates\")\n",
    "plt.plot(x, list(map(square_derivative, x)), 'rx', label='Actual')\n",
    "plt.plot(x, list(map(derivative_estimate, x)), 'b+', label='Estimate')\n",
    "plt.legend(loc=9)\n",
    "plt.show()\n",
    "\n",
    "\n"
   ]
  },
  {
   "cell_type": "code",
   "execution_count": 2,
   "metadata": {},
   "outputs": [],
   "source": [
    "def partial_difference_quotient(f, v, i, h):\n",
    "    w = [v_j + (h if j == i else 0) for j, v_j in enumerate(v)]\n",
    "    return (f(w) - f(v)) / h\n",
    "\n",
    "def estimate_gradient(f, v, h=0.00001):\n",
    "    return [partial_difference_quotient(f, v, i, h) for i, _ in enumerate(v)]"
   ]
  },
  {
   "cell_type": "code",
   "execution_count": 3,
   "metadata": {},
   "outputs": [
    {
     "name": "stdout",
     "output_type": "stream",
     "text": [
      "5.0\n",
      "It's all good here and v is [2.7149624797165326e-07, 6.787406199291331e-08, 4.0724437195748023e-07]\n"
     ]
    }
   ],
   "source": [
    "# using the gradient\n",
    "def distance(current, before):\n",
    "    return math.sqrt(sum([(c - b) ** 2 for c, b in zip(current, before)]))\n",
    "\n",
    "print(distance([0, 0], [3, 4]))\n",
    "\n",
    "def step(v, direction, step_size):\n",
    "    \"\"\" v = [0.43, 1.2, 5.3, -0.6, 7.7]\n",
    "    direction = [0, 0, 1, 1, 0]\n",
    "    returning = [[0, 0, 5.3, -0.6, 0]] \"\"\"\n",
    "    return [vi + step_size * direction_i for vi, direction_i in zip(v, direction)]\n",
    "\n",
    "def sumof_squares_gradient(v):\n",
    "    return [2 * vi for vi in v]\n",
    "\n",
    "v = [r.randint(-10, 10) for i in range(3)]\n",
    "\n",
    "tolerance = 0.00000001\n",
    "\n",
    "while True:\n",
    "    graident = sumof_squares_gradient(v)\n",
    "    next_v = step(v, graident, -0.01)\n",
    "    if distance(next_v, v) < tolerance:\n",
    "        break\n",
    "    v = next_v\n",
    "print('It\\'s all good here and v is', v)\n",
    "\n",
    "def safe(f):\n",
    "    def safe_f(*args, **kwargs):\n",
    "        try:\n",
    "            return f(*args, **kwargs)\n",
    "        except:\n",
    "            return(float('inf'))\n",
    "    return safe_f"
   ]
  },
  {
   "cell_type": "code",
   "execution_count": 6,
   "metadata": {},
   "outputs": [],
   "source": [
    "# putting all together\n",
    "def minimize_batch(target_fn, gradient_fn, theta_0, tolerance=0.000001):\n",
    "\n",
    "    step_sizes = [100 / 10**x for x in range(8)]\n",
    "\n",
    "    theta = theta_0\n",
    "    target_fn = safe(target_fn)\n",
    "    value = target_fn(theta)\n",
    "\n",
    "    while True:\n",
    "        gradient = gradient_fn(theta)\n",
    "        next_thetas = [step(theta, gradient, -step_size) for step_size in step_sizes]\n",
    "\n",
    "        next_theta = min(next_thetas, key=target_fn)\n",
    "        next_value = target_fn(next_theta)\n",
    "\n",
    "        if distance(value, next_value) < tolerance:\n",
    "            return theta\n",
    "        else:\n",
    "            theta, value = next_theta, next_value\n",
    "\n",
    "def negate(f):\n",
    "    \"\"\"return a function that for any input x returns -f(x)\"\"\"\n",
    "    return lambda *args, **kwargs: -f(*args, **kwargs)\n",
    "\n",
    "def negate_all(f):\n",
    "    \"\"\"the same when f returns a list of numbers\"\"\"\n",
    "    return lambda *args, **kwargs: [-y for y in -f(*args, **kwargs)]\n",
    "\n",
    "def maximize_batch(target_fn, gradient_fn, theta_0, tolerance=0.000001):\n",
    "    return minimize_batch(negate(target_fn),\n",
    "        negate_all(gradient_fn),\n",
    "        theta_0,\n",
    "        tolerance\n",
    "        )\n"
   ]
  },
  {
   "cell_type": "code",
   "execution_count": null,
   "metadata": {},
   "outputs": [],
   "source": [
    "# stochastic gradient descent\n",
    "def in_random_order(data):\n",
    "    # generator that returns the elements of data in random order\n",
    "    indexes = range(len(data))\n",
    "    r.shuffle(indexes)\n",
    "    for i in indexes:\n",
    "        yield data[i]\n",
    "\n",
    "def minimize_stochastic(target_fn, gradient_fn, x, y, theta_0, alpha_0=0.01):\n",
    "\n",
    "    data = zip(x, y)\n",
    "    theta = theta_0\n",
    "    alpha = alpha_0\n",
    "\n",
    "    min_theta, min_value = None, float('inf')\n",
    "    iterations_with_no_improvement = 0\n",
    "\n",
    "    while iterations_with_no_improvement < 100:\n",
    "        value = sum(target_fn(xi, yi, theta) for xi, yi in data)\n",
    "\n",
    "        if value < min_value:\n",
    "            min_theta, min_value = theta, value\n",
    "            iterations_with_no_improvement = 0\n",
    "            alpha = alpha_0\n",
    "        else:\n",
    "            iterations_with_no_improvement += 1\n",
    "            alpha *= 0.9\n",
    "\n",
    "        for xi, yi in in_random_order(data):\n",
    "            gradient_i = gradient_fn(xi, yi, theta)\n",
    "            theta = vector_substract(theta, scalar_multiply(alpha, gradient_i))\n",
    "\n",
    "def maximize_stochastic(target_fn, gradient_fn, x, y, theta_0, alpha_0=0.01):\n",
    "    return minimize_stochastic(negate(target_fn),\n",
    "        negate_all(gradient_fn),\n",
    "        x, y, theta_0, alpha_0    \n",
    "    )\n",
    "\n",
    "\n",
    "\n",
    "\n",
    "\n"
   ]
  }
 ],
 "metadata": {
  "interpreter": {
   "hash": "f2675592439886072215c5492b56ef91d6259dc08377ceafc1fad216e79bf788"
  },
  "kernelspec": {
   "display_name": "Python 3.8.8 64-bit ('base': conda)",
   "name": "python3"
  },
  "language_info": {
   "codemirror_mode": {
    "name": "ipython",
    "version": 3
   },
   "file_extension": ".py",
   "mimetype": "text/x-python",
   "name": "python",
   "nbconvert_exporter": "python",
   "pygments_lexer": "ipython3",
   "version": "3.8.8"
  },
  "orig_nbformat": 4
 },
 "nbformat": 4,
 "nbformat_minor": 2
}