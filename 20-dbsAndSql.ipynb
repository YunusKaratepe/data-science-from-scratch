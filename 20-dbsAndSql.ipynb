{
 "cells": [
  {
   "cell_type": "code",
   "execution_count": 1,
   "metadata": {},
   "outputs": [
    {
     "data": {
      "text/plain": [
       "[[0, 'Hero', 0], [1, 'Dunn', 2], [2, 'Sue', 3], [3, 'Chi', 3]]"
      ]
     },
     "execution_count": 1,
     "metadata": {},
     "output_type": "execute_result"
    }
   ],
   "source": [
    "users_data = [[0, \"Hero\", 0],\n",
    "[1, \"Dunn\", 2],\n",
    "[2, \"Sue\", 3],\n",
    "[3, \"Chi\", 3]]\n",
    "users_data"
   ]
  },
  {
   "cell_type": "code",
   "execution_count": 2,
   "metadata": {},
   "outputs": [
    {
     "name": "stdout",
     "output_type": "stream",
     "text": [
      "['user_id', 'name', 'num_friends']\n",
      "{'user_id': 0, 'name': 'Hero', 'num_friends': 0}\n",
      "{'user_id': 1, 'name': 'Dunn', 'num_friends': 2}\n",
      "{'user_id': 2, 'name': 'Sue', 'num_friends': 3}\n",
      "{'user_id': 3, 'name': 'Chi', 'num_friends': 3}\n",
      "{'user_id': 4, 'name': 'Thor', 'num_friends': 3}\n",
      "{'user_id': 5, 'name': 'Clive', 'num_friends': 2}\n",
      "{'user_id': 6, 'name': 'Hicks', 'num_friends': 3}\n",
      "{'user_id': 7, 'name': 'Devin', 'num_friends': 2}\n",
      "{'user_id': 8, 'name': 'Kate', 'num_friends': 2}\n",
      "{'user_id': 9, 'name': 'Klein', 'num_friends': 3}\n"
     ]
    }
   ],
   "source": [
    "import data_analysis_tools as da\n",
    "users = da.Table([\"user_id\", \"name\", \"num_friends\"])\n",
    "# insert\n",
    "users.insert([0, \"Hero\", 0])\n",
    "users.insert([1, \"Dunn\", 2])\n",
    "users.insert([2, \"Sue\", 3])\n",
    "users.insert([3, \"Chi\", 3])\n",
    "users.insert([4, \"Thor\", 3])\n",
    "users.insert([5, \"Clive\", 2])\n",
    "users.insert([6, \"Hicks\", 3])\n",
    "users.insert([7, \"Devin\", 2])\n",
    "users.insert([8, \"Kate\", 2])\n",
    "users.insert([9, \"Klein\", 3])\n",
    "print(users)"
   ]
  },
  {
   "cell_type": "code",
   "execution_count": 3,
   "metadata": {},
   "outputs": [
    {
     "name": "stdout",
     "output_type": "stream",
     "text": [
      "['user_id', 'name', 'num_friends']\n",
      "{'user_id': 0, 'name': 'Hero', 'num_friends': 0}\n",
      "{'user_id': 1, 'name': 'Dunn', 'num_friends': 2}\n",
      "{'user_id': 2, 'name': 'Sue', 'num_friends': 5}\n",
      "{'user_id': 3, 'name': 'Chi', 'num_friends': 5}\n",
      "{'user_id': 4, 'name': 'Thor', 'num_friends': 5}\n",
      "{'user_id': 5, 'name': 'Clive', 'num_friends': 2}\n",
      "{'user_id': 6, 'name': 'Hicks', 'num_friends': 5}\n",
      "{'user_id': 7, 'name': 'Devin', 'num_friends': 2}\n",
      "{'user_id': 8, 'name': 'Kate', 'num_friends': 2}\n",
      "{'user_id': 9, 'name': 'Klein', 'num_friends': 5}\n"
     ]
    }
   ],
   "source": [
    "# update\n",
    "users.update({\"num_friends\": 5}, lambda row: row[\"num_friends\"] == 3)\n",
    "print(users)"
   ]
  },
  {
   "cell_type": "code",
   "execution_count": 4,
   "metadata": {},
   "outputs": [
    {
     "name": "stdout",
     "output_type": "stream",
     "text": [
      "['user_id', 'name', 'num_friends']\n",
      "{'user_id': 0, 'name': 'Hero', 'num_friends': 0}\n",
      "{'user_id': 1, 'name': 'Dunn', 'num_friends': 2}\n",
      "{'user_id': 2, 'name': 'Sue', 'num_friends': 5}\n",
      "{'user_id': 4, 'name': 'Thor', 'num_friends': 5}\n",
      "{'user_id': 5, 'name': 'Clive', 'num_friends': 2}\n",
      "{'user_id': 6, 'name': 'Hicks', 'num_friends': 5}\n",
      "{'user_id': 7, 'name': 'Devin', 'num_friends': 2}\n",
      "{'user_id': 8, 'name': 'Kate', 'num_friends': 2}\n",
      "{'user_id': 9, 'name': 'Klein', 'num_friends': 5}\n"
     ]
    }
   ],
   "source": [
    "# delete\n",
    "users.delete(lambda row: row[\"user_id\"]==3)\n",
    "print(users)"
   ]
  },
  {
   "cell_type": "code",
   "execution_count": 5,
   "metadata": {},
   "outputs": [
    {
     "name": "stdout",
     "output_type": "stream",
     "text": [
      "['user_id', 'name', 'num_friends']\n",
      "{'user_id': 0, 'name': 'Hero', 'num_friends': 0}\n",
      "{'user_id': 1, 'name': 'Dunn', 'num_friends': 2}\n",
      "{'user_id': 2, 'name': 'Sue', 'num_friends': 5}\n",
      "{'user_id': 4, 'name': 'Thor', 'num_friends': 5}\n",
      "{'user_id': 5, 'name': 'Clive', 'num_friends': 2}\n",
      "{'user_id': 6, 'name': 'Hicks', 'num_friends': 5}\n",
      "{'user_id': 7, 'name': 'Devin', 'num_friends': 2}\n",
      "{'user_id': 8, 'name': 'Kate', 'num_friends': 2}\n",
      "{'user_id': 9, 'name': 'Klein', 'num_friends': 5} \n",
      "\n",
      "['user_id', 'name', 'num_friends']\n",
      "{'user_id': 0, 'name': 'Hero', 'num_friends': 0} \n",
      "\n",
      "['user_id']\n",
      "{'user_id': 0}\n",
      "{'user_id': 1}\n",
      "{'user_id': 2}\n",
      "{'user_id': 4}\n",
      "{'user_id': 5}\n",
      "{'user_id': 6}\n",
      "{'user_id': 7}\n",
      "{'user_id': 8}\n",
      "{'user_id': 9} \n",
      "\n",
      "['name', 'user_id']\n",
      "{'name': 'Sue', 'user_id': 2}\n",
      "{'name': 'Thor', 'user_id': 4}\n",
      "{'name': 'Hicks', 'user_id': 6}\n",
      "{'name': 'Klein', 'user_id': 9} \n",
      "\n",
      "['user_id', 'name_length']\n",
      "{'user_id': 0, 'name_length': 4}\n",
      "{'user_id': 1, 'name_length': 4}\n",
      "{'user_id': 2, 'name_length': 3}\n",
      "{'user_id': 4, 'name_length': 4}\n",
      "{'user_id': 5, 'name_length': 5}\n",
      "{'user_id': 6, 'name_length': 5}\n",
      "{'user_id': 7, 'name_length': 5}\n",
      "{'user_id': 8, 'name_length': 4}\n",
      "{'user_id': 9, 'name_length': 5} \n",
      "\n"
     ]
    }
   ],
   "source": [
    "# select\n",
    "print(users.select(), '\\n')\n",
    "print(users.limit(1), '\\n')\n",
    "print(\n",
    "    users.select(keep_columns=[\"user_id\"]),\n",
    "    '\\n'\n",
    ")\n",
    "print(\n",
    "    users.where(lambda row: row[\"num_friends\"] == 5)\\\n",
    "        .select(keep_columns=[\"name\", \"user_id\"]),\n",
    "    '\\n'\n",
    ")\n",
    "\n",
    "def name_len(row):\n",
    "    return len(row[\"name\"])\n",
    "\n",
    "# SELECT user_id, LENGTH(name) AS name_length FROM users;\n",
    "print(\n",
    "    users.select(keep_columns=[\"user_id\"] , additional_columns={ \"name_length\": name_len }),\n",
    "    '\\n'\n",
    ")"
   ]
  },
  {
   "cell_type": "code",
   "execution_count": 6,
   "metadata": {},
   "outputs": [
    {
     "name": "stdout",
     "output_type": "stream",
     "text": [
      "['name_length', 'min_user_id', 'num_users']\n",
      "{'name_length': 4, 'min_user_id': 0, 'num_users': 4}\n",
      "{'name_length': 3, 'min_user_id': 2, 'num_users': 1}\n",
      "{'name_length': 5, 'min_user_id': 5, 'num_users': 4}\n"
     ]
    }
   ],
   "source": [
    "# group by\n",
    "def min_user_id(rows):\n",
    "    return min(row[\"user_id\"] for row in rows)\n",
    "\n",
    "stats_by_length = users\\\n",
    "    .select(additional_columns={\"name_length\": name_len})\\\n",
    "    .group_by(group_by_columns=[\"name_length\"], aggregates={ \"min_user_id\": min_user_id, \"num_users\": len })\n",
    "\n",
    "print(stats_by_length)"
   ]
  },
  {
   "cell_type": "code",
   "execution_count": 7,
   "metadata": {},
   "outputs": [
    {
     "name": "stdout",
     "output_type": "stream",
     "text": [
      "['first_letter', 'avg_num_friends']\n",
      "{'first_letter': 'H', 'avg_num_friends': 2.5}\n",
      "{'first_letter': 'D', 'avg_num_friends': 2.0}\n",
      "{'first_letter': 'S', 'avg_num_friends': 5.0}\n",
      "{'first_letter': 'T', 'avg_num_friends': 5.0}\n",
      "{'first_letter': 'C', 'avg_num_friends': 2.0}\n",
      "{'first_letter': 'K', 'avg_num_friends': 3.5}\n"
     ]
    }
   ],
   "source": [
    "def first_letter_of_name(row):\n",
    "    return row[\"name\"][0] if row[\"name\"] else \"\"\n",
    "def average_num_friends(rows):\n",
    "    return sum(row[\"num_friends\"] for row in rows) / len(rows)\n",
    "def enough_friends(rows):\n",
    "    return average_num_friends(rows) > 1\n",
    "\n",
    "avg_friends_by_letter = users\\\n",
    "    .select(additional_columns={'first_letter' : first_letter_of_name}) \\\n",
    "    .group_by(group_by_columns=['first_letter'],\n",
    "        aggregates={ \"avg_num_friends\" : average_num_friends },\n",
    "        having=enough_friends)\n",
    "print(avg_friends_by_letter)"
   ]
  },
  {
   "cell_type": "code",
   "execution_count": 8,
   "metadata": {},
   "outputs": [
    {
     "name": "stdout",
     "output_type": "stream",
     "text": [
      "['user_id_sum']\n",
      "{'user_id_sum': 41}\n"
     ]
    }
   ],
   "source": [
    "def sum_user_ids(rows): return sum(row[\"user_id\"] for row in rows)\n",
    "\n",
    "user_id_sum = users\\\n",
    "    .where(lambda row: row[\"user_id\"] > 1)\\\n",
    "    .group_by(group_by_columns=[], aggregates={ \"user_id_sum\": sum_user_ids })\n",
    "\n",
    "print(user_id_sum)"
   ]
  },
  {
   "cell_type": "code",
   "execution_count": 9,
   "metadata": {},
   "outputs": [
    {
     "name": "stdout",
     "output_type": "stream",
     "text": [
      "['first_letter', 'avg_num_friends']\n",
      "{'first_letter': 'S', 'avg_num_friends': 5.0}\n",
      "{'first_letter': 'T', 'avg_num_friends': 5.0}\n",
      "{'first_letter': 'K', 'avg_num_friends': 3.5}\n",
      "{'first_letter': 'H', 'avg_num_friends': 2.5}\n",
      "{'first_letter': 'D', 'avg_num_friends': 2.0}\n"
     ]
    }
   ],
   "source": [
    "# order by\n",
    "friendliest_letters = avg_friends_by_letter\\\n",
    "    .order_by(lambda row: -row[\"avg_num_friends\"])\\\n",
    "    .limit(5)\n",
    "\n",
    "print(friendliest_letters)"
   ]
  },
  {
   "cell_type": "code",
   "execution_count": 10,
   "metadata": {},
   "outputs": [
    {
     "name": "stdout",
     "output_type": "stream",
     "text": [
      "['user_id', 'interest']\n",
      "{'user_id': 0, 'interest': 'SQL'}\n",
      "{'user_id': 0, 'interest': 'NoSQL'}\n",
      "{'user_id': 2, 'interest': 'SQL'}\n",
      "{'user_id': 2, 'interest': 'MySQL'}\n"
     ]
    }
   ],
   "source": [
    "# join\n",
    "user_interests = da.Table([\"user_id\", \"interest\"])\n",
    "user_interests.insert([0, \"SQL\"])\n",
    "user_interests.insert([0, \"NoSQL\"])\n",
    "user_interests.insert([2, \"SQL\"])\n",
    "user_interests.insert([2, \"MySQL\"])\n",
    "print(user_interests)"
   ]
  },
  {
   "cell_type": "code",
   "execution_count": 13,
   "metadata": {},
   "outputs": [
    {
     "name": "stdout",
     "output_type": "stream",
     "text": [
      "['user_id', 'name', 'num_friends', 'interest']\n",
      "{'user_id': 0, 'name': 'Hero', 'num_friends': 0, 'interest': 'SQL'}\n",
      "{'user_id': 2, 'name': 'Sue', 'num_friends': 5, 'interest': 'SQL'}\n"
     ]
    }
   ],
   "source": [
    "sql_users = users \\\n",
    "    .join(user_interests) \\\n",
    "    .where(lambda row: row[\"interest\"] == \"SQL\") \\\n",
    "    .select()\n",
    "print(sql_users)"
   ]
  },
  {
   "cell_type": "code",
   "execution_count": 14,
   "metadata": {},
   "outputs": [
    {
     "name": "stdout",
     "output_type": "stream",
     "text": [
      "['user_id', 'num_interests']\n",
      "{'user_id': 0, 'num_interests': 2}\n",
      "{'user_id': 2, 'num_interests': 2}\n"
     ]
    }
   ],
   "source": [
    "def count_interests(rows):\n",
    "    return len([row for row in rows if row[\"interest\"] is not None])\n",
    "\n",
    "user_interests_counts = users \\\n",
    "    .join(user_interests, left_join=True) \\\n",
    "    .group_by(group_by_columns=[\"user_id\"], aggregates={\"num_interests\": count_interests})\n",
    "\n",
    "print(user_interests_counts)"
   ]
  },
  {
   "cell_type": "code",
   "execution_count": null,
   "metadata": {},
   "outputs": [],
   "source": []
  }
 ],
 "metadata": {
  "interpreter": {
   "hash": "f2675592439886072215c5492b56ef91d6259dc08377ceafc1fad216e79bf788"
  },
  "kernelspec": {
   "display_name": "Python 3.8.8 64-bit ('base': conda)",
   "name": "python3"
  },
  "language_info": {
   "name": "python",
   "version": ""
  },
  "orig_nbformat": 4
 },
 "nbformat": 4,
 "nbformat_minor": 2
}