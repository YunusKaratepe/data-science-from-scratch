{
 "cells": [
  {
   "cell_type": "code",
   "execution_count": 1,
   "metadata": {},
   "outputs": [
    {
     "data": {
      "text/plain": [
       "[[0, 'Hero', 0], [1, 'Dunn', 2], [2, 'Sue', 3], [3, 'Chi', 3]]"
      ]
     },
     "execution_count": 1,
     "metadata": {},
     "output_type": "execute_result"
    }
   ],
   "source": [
    "users_data = [[0, \"Hero\", 0],\n",
    "[1, \"Dunn\", 2],\n",
    "[2, \"Sue\", 3],\n",
    "[3, \"Chi\", 3]]\n",
    "users_data"
   ]
  },
  {
   "cell_type": "code",
   "execution_count": 2,
   "metadata": {},
   "outputs": [
    {
     "name": "stdout",
     "output_type": "stream",
     "text": [
      "['user_id', 'name', 'num_friends']\n",
      "{'user_id': 0, 'name': 'Hero', 'num_friends': 0}\n",
      "{'user_id': 1, 'name': 'Dunn', 'num_friends': 2}\n",
      "{'user_id': 2, 'name': 'Sue', 'num_friends': 3}\n",
      "{'user_id': 3, 'name': 'Chi', 'num_friends': 3}\n",
      "{'user_id': 4, 'name': 'Thor', 'num_friends': 3}\n",
      "{'user_id': 5, 'name': 'Clive', 'num_friends': 2}\n",
      "{'user_id': 6, 'name': 'Hicks', 'num_friends': 3}\n",
      "{'user_id': 7, 'name': 'Devin', 'num_friends': 2}\n",
      "{'user_id': 8, 'name': 'Kate', 'num_friends': 2}\n",
      "{'user_id': 9, 'name': 'Klein', 'num_friends': 3}\n"
     ]
    }
   ],
   "source": [
    "import data_analysis_tools as da\n",
    "users = da.Table([\"user_id\", \"name\", \"num_friends\"])\n",
    "# insert\n",
    "users.insert([0, \"Hero\", 0])\n",
    "users.insert([1, \"Dunn\", 2])\n",
    "users.insert([2, \"Sue\", 3])\n",
    "users.insert([3, \"Chi\", 3])\n",
    "users.insert([4, \"Thor\", 3])\n",
    "users.insert([5, \"Clive\", 2])\n",
    "users.insert([6, \"Hicks\", 3])\n",
    "users.insert([7, \"Devin\", 2])\n",
    "users.insert([8, \"Kate\", 2])\n",
    "users.insert([9, \"Klein\", 3])\n",
    "print(users)"
   ]
  },
  {
   "cell_type": "code",
   "execution_count": 3,
   "metadata": {},
   "outputs": [
    {
     "name": "stdout",
     "output_type": "stream",
     "text": [
      "['user_id', 'name', 'num_friends']\n",
      "{'user_id': 0, 'name': 'Hero', 'num_friends': 0}\n",
      "{'user_id': 1, 'name': 'Dunn', 'num_friends': 2}\n",
      "{'user_id': 2, 'name': 'Sue', 'num_friends': 5}\n",
      "{'user_id': 3, 'name': 'Chi', 'num_friends': 5}\n",
      "{'user_id': 4, 'name': 'Thor', 'num_friends': 5}\n",
      "{'user_id': 5, 'name': 'Clive', 'num_friends': 2}\n",
      "{'user_id': 6, 'name': 'Hicks', 'num_friends': 5}\n",
      "{'user_id': 7, 'name': 'Devin', 'num_friends': 2}\n",
      "{'user_id': 8, 'name': 'Kate', 'num_friends': 2}\n",
      "{'user_id': 9, 'name': 'Klein', 'num_friends': 5}\n"
     ]
    }
   ],
   "source": [
    "# update\n",
    "users.update({\"num_friends\": 5}, lambda row: row[\"num_friends\"] == 3)\n",
    "print(users)"
   ]
  },
  {
   "cell_type": "code",
   "execution_count": 4,
   "metadata": {},
   "outputs": [
    {
     "name": "stdout",
     "output_type": "stream",
     "text": [
      "['user_id', 'name', 'num_friends']\n",
      "{'user_id': 0, 'name': 'Hero', 'num_friends': 0}\n",
      "{'user_id': 2, 'name': 'Sue', 'num_friends': 5}\n",
      "{'user_id': 3, 'name': 'Chi', 'num_friends': 5}\n",
      "{'user_id': 4, 'name': 'Thor', 'num_friends': 5}\n",
      "{'user_id': 6, 'name': 'Hicks', 'num_friends': 5}\n",
      "{'user_id': 9, 'name': 'Klein', 'num_friends': 5}\n"
     ]
    }
   ],
   "source": [
    "# delete\n",
    "users.delete(lambda row: row[\"num_friends\"]==2)\n",
    "print(users)"
   ]
  },
  {
   "cell_type": "code",
   "execution_count": 25,
   "metadata": {},
   "outputs": [
    {
     "name": "stdout",
     "output_type": "stream",
     "text": [
      "['user_id', 'name', 'num_friends']\n",
      "{'user_id': 0, 'name': 'Hero', 'num_friends': 0}\n",
      "{'user_id': 2, 'name': 'Sue', 'num_friends': 5}\n",
      "{'user_id': 3, 'name': 'Chi', 'num_friends': 5}\n",
      "{'user_id': 4, 'name': 'Thor', 'num_friends': 5}\n",
      "{'user_id': 6, 'name': 'Hicks', 'num_friends': 5}\n",
      "{'user_id': 9, 'name': 'Klein', 'num_friends': 5} \n",
      "\n",
      "['user_id', 'name', 'num_friends']\n",
      "{'user_id': 0, 'name': 'Hero', 'num_friends': 0} \n",
      "\n",
      "['user_id']\n",
      "{'user_id': 0}\n",
      "{'user_id': 2}\n",
      "{'user_id': 3}\n",
      "{'user_id': 4}\n",
      "{'user_id': 6}\n",
      "{'user_id': 9} \n",
      "\n",
      "['name', 'user_id']\n",
      "{'name': 'Sue', 'user_id': 2}\n",
      "{'name': 'Chi', 'user_id': 3}\n",
      "{'name': 'Thor', 'user_id': 4}\n",
      "{'name': 'Hicks', 'user_id': 6}\n",
      "{'name': 'Klein', 'user_id': 9} \n",
      "\n",
      "['user_id', 'name_length']\n",
      "{'user_id': 0, 'name_length': 4}\n",
      "{'user_id': 2, 'name_length': 3}\n",
      "{'user_id': 3, 'name_length': 3}\n",
      "{'user_id': 4, 'name_length': 4}\n",
      "{'user_id': 6, 'name_length': 5}\n",
      "{'user_id': 9, 'name_length': 5} \n",
      "\n"
     ]
    }
   ],
   "source": [
    "# select\n",
    "print(users.select(), '\\n')\n",
    "print(users.limit(1), '\\n')\n",
    "print(\n",
    "    users.select(keep_columns=[\"user_id\"]),\n",
    "    '\\n'\n",
    ")\n",
    "print(\n",
    "    users.where(lambda row: row[\"num_friends\"] == 5)\\\n",
    "        .select(keep_columns=[\"name\", \"user_id\"]),\n",
    "    '\\n'\n",
    ")\n",
    "\n",
    "def name_len(row):\n",
    "    return len(row[\"name\"])\n",
    "\n",
    "# SELECT user_id, LENGTH(name) AS name_length FROM users;\n",
    "print(\n",
    "    users.select(keep_columns=[\"user_id\"] , additional_columns={ \"name_length\": name_len }),\n",
    "    '\\n'\n",
    ")"
   ]
  },
  {
   "cell_type": "code",
   "execution_count": null,
   "metadata": {},
   "outputs": [],
   "source": [
    "# group by\n"
   ]
  }
 ],
 "metadata": {
  "interpreter": {
   "hash": "f2675592439886072215c5492b56ef91d6259dc08377ceafc1fad216e79bf788"
  },
  "kernelspec": {
   "display_name": "Python 3.8.8 64-bit ('base': conda)",
   "name": "python3"
  },
  "language_info": {
   "codemirror_mode": {
    "name": "ipython",
    "version": 3
   },
   "file_extension": ".py",
   "mimetype": "text/x-python",
   "name": "python",
   "nbconvert_exporter": "python",
   "pygments_lexer": "ipython3",
   "version": "3.8.8"
  },
  "orig_nbformat": 4
 },
 "nbformat": 4,
 "nbformat_minor": 2
}