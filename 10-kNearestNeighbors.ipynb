{
 "cells": [
  {
   "cell_type": "code",
   "execution_count": 1,
   "metadata": {},
   "outputs": [
    {
     "name": "stdout",
     "output_type": "stream",
     "text": [
      "53\n",
      "0\n"
     ]
    }
   ],
   "source": [
    "from collections import Counter\n",
    "import data_analysis_tools as da\n",
    "\n",
    "def raw_majority_vote(labels):\n",
    "    votes = Counter(labels)\n",
    "    winner, _ = votes.most_common(1)[0]\n",
    "    return winner\n",
    "\n",
    "def majority_vote(labels):\n",
    "    vote_counts = Counter(labels)\n",
    "    winner, winner_count = vote_counts.most_common(1)[0]\n",
    "    num_winners = len([count for count in vote_counts.values() if count == winner_count])\n",
    "\n",
    "    if num_winners == 1:\n",
    "        return winner\n",
    "    else:\n",
    "        return majority_vote(labels[:-1])\n",
    "\n",
    "\n",
    "\n",
    "data = [2, 2, 4, 4, 53, 52, 53, 53, 2, 2, 53, 53, 2]\n",
    "all_one_time = range(20)\n",
    "\n",
    "\n",
    "print(majority_vote(data))\n",
    "print(majority_vote(all_one_time))"
   ]
  },
  {
   "cell_type": "code",
   "execution_count": 6,
   "metadata": {},
   "outputs": [
    {
     "name": "stdout",
     "output_type": "stream",
     "text": [
      "{'Id': '1', 'SepalLengthCm': '5.1', 'SepalWidthCm': '3.5', 'PetalLengthCm': '1.4', 'PetalWidthCm': '0.2', 'Species': 'Iris-setosa'}\n",
      "{'Id': '1', 'SepalLengthCm': '5.1', 'SepalWidthCm': '3.5', 'PetalLengthCm': '1.4', 'PetalWidthCm': '0.2', 'Species': 'Iris-setosa'}\n",
      "[['1', '5.1', '3.5', '1.4', '0.2', 'Iris-setosa'], ['2', '4.9', '3.0', '1.4', '0.2', 'Iris-setosa'], ['3', '4.7', '3.2', '1.3', '0.2', 'Iris-setosa']]\n"
     ]
    },
    {
     "data": {
      "text/plain": [
       "[(['5.1', '1.4'], 'Iris-setosa'),\n",
       " (['4.9', '1.4'], 'Iris-setosa'),\n",
       " (['4.7', '1.3'], 'Iris-setosa'),\n",
       " (['4.6', '1.5'], 'Iris-setosa'),\n",
       " (['5.0', '1.4'], 'Iris-setosa'),\n",
       " (['5.4', '1.7'], 'Iris-setosa'),\n",
       " (['4.6', '1.4'], 'Iris-setosa'),\n",
       " (['5.0', '1.5'], 'Iris-setosa'),\n",
       " (['4.4', '1.4'], 'Iris-setosa'),\n",
       " (['4.9', '1.5'], 'Iris-setosa')]"
      ]
     },
     "execution_count": 6,
     "metadata": {},
     "output_type": "execute_result"
    }
   ],
   "source": [
    "def knn_classify(k, labelled_points, new_point):\n",
    "    \"\"\"each labeled point should be a pair (point, label)\"\"\"\n",
    "    def distance(point):\n",
    "        try:\n",
    "            return da.euclidean(da.parser.parse_vector2float(point[0]), da.parser.parse_vector2float(new_point))\n",
    "        except:\n",
    "            print('Float parsing error!')\n",
    "        \n",
    "    by_distance = sorted(labelled_points, key=distance)\n",
    "\n",
    "    k_nearest_labels = [label for _, label in by_distance[:k]]\n",
    "\n",
    "    return majority_vote(k_nearest_labels)\n",
    "    \n",
    "\n",
    "print(da.file_ops.read_csv('./files/Iris.csv', keys=['Id','SepalLengthCm',\n",
    "                        'SepalWidthCm','PetalLengthCm','PetalWidthCm','Species'], sep=',')[1])\n",
    "print(da.file_ops.read_csv('./files/Iris.csv', sep=',')[0])\n",
    "print(da.file_ops.read_csv('./files/Iris.csv', sep=',', as_array=True)[1:4])\n",
    "data = da.file_ops.read_csv('./files/Iris.csv', sep=',', as_array=True)\n",
    "\n",
    "# some formatting\n",
    "\n",
    "data.pop(0)\n",
    "for i in range(len(data)):\n",
    "    data[i].pop(0)\n",
    "    data[i] = ([data[i][0], data[i][2]], data[i][4])\n",
    "data[:10]\n",
    "# we are only getting lengths of sepal and petal"
   ]
  },
  {
   "cell_type": "code",
   "execution_count": 7,
   "metadata": {},
   "outputs": [
    {
     "name": "stdout",
     "output_type": "stream",
     "text": [
      "{'Iris-setosa': ([], []), 'Iris-versicolor': ([], []), 'Iris-virginica': ([], [])}\n",
      "{'Iris-setosa': 'o', 'Iris-versicolor': 's', 'Iris-virginica': '^'}\n",
      "{'Iris-setosa': 'r', 'Iris-versicolor': 'b', 'Iris-virginica': 'g'}\n"
     ]
    }
   ],
   "source": [
    "labels = [\"Iris-setosa\", \"Iris-versicolor\", \"Iris-virginica\"]\n",
    "plots = {label: ([], []) for label in labels}\n",
    "markers = {labels[0]: \"o\", labels[1]: \"s\", labels[2]: \"^\"}\n",
    "colors = {labels[0]: \"r\", labels[1]: \"b\", labels[2]: \"g\"}\n",
    "print(plots)\n",
    "print(markers)\n",
    "print(colors)"
   ]
  },
  {
   "cell_type": "code",
   "execution_count": 8,
   "metadata": {},
   "outputs": [
    {
     "name": "stdout",
     "output_type": "stream",
     "text": [
      "['5.1', '4.9', '4.7', '4.6', '5.0', '5.4', '4.6', '5.0', '4.4', '4.9']\n",
      "['1.4', '1.4', '1.3', '1.5', '1.4', '1.7', '1.4', '1.5', '1.4', '1.5']\n"
     ]
    },
    {
     "data": {
      "image/png": "[encoded data removed]",
      "text/plain": [
       "<Figure size 720x576 with 1 Axes>"
      ]
     },
     "metadata": {
      "needs_background": "light"
     },
     "output_type": "display_data"
    }
   ],
   "source": [
    "import matplotlib.pyplot as plt\n",
    "for (sepal_length, petal_length), iris_type in data:\n",
    "    plots[iris_type][0].append(sepal_length)\n",
    "    plots[iris_type][1].append(petal_length)\n",
    "\n",
    "print(plots[\"Iris-setosa\"][0][:10])\n",
    "print(plots[\"Iris-setosa\"][1][:10])\n",
    "\n",
    "\n",
    "plt.figure(figsize=(10, 8))\n",
    "for iris_type, (x, y) in plots.items():\n",
    "    plt.scatter(x, y, color=colors[iris_type], marker=markers[iris_type], label=iris_type, zorder=10)\n",
    "\n",
    "plt.show()"
   ]
  },
  {
   "cell_type": "code",
   "execution_count": 9,
   "metadata": {},
   "outputs": [
    {
     "name": "stdout",
     "output_type": "stream",
     "text": [
      " k=1 neighbors: 136, correct out of: 150 \n",
      " k=3 neighbors: 142, correct out of: 150 \n",
      " k=5 neighbors: 140, correct out of: 150 \n",
      " k=7 neighbors: 142, correct out of: 150 \n"
     ]
    }
   ],
   "source": [
    "for k in [1, 3, 5, 7]:\n",
    "    num_correct = 0\n",
    "\n",
    "    for iris in data:\n",
    "        features, label = iris\n",
    "        other_irises = [other_iris for other_iris in data if other_iris!=iris]\n",
    "        predicted_iris = knn_classify(k, other_irises, features)\n",
    "\n",
    "        if predicted_iris == label:\n",
    "            num_correct += 1\n",
    "\n",
    "    print(f' k={k} neighbors: {num_correct}, correct out of: {len(data)} ')\n",
    "\n",
    "\n"
   ]
  },
  {
   "cell_type": "code",
   "execution_count": null,
   "metadata": {},
   "outputs": [],
   "source": []
  }
 ],
 "metadata": {
  "interpreter": {
   "hash": "f2675592439886072215c5492b56ef91d6259dc08377ceafc1fad216e79bf788"
  },
  "kernelspec": {
   "display_name": "Python 3.8.8 64-bit ('base': conda)",
   "name": "python3"
  },
  "language_info": {
   "codemirror_mode": {
    "name": "ipython",
    "version": 3
   },
   "file_extension": ".py",
   "mimetype": "text/x-python",
   "name": "python",
   "nbconvert_exporter": "python",
   "pygments_lexer": "ipython3",
   "version": "3.8.8"
  },
  "orig_nbformat": 4
 },
 "nbformat": 4,
 "nbformat_minor": 2
}