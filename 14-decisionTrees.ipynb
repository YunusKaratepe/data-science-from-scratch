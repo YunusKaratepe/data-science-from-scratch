{
 "cells": [
  {
   "cell_type": "code",
   "execution_count": 2,
   "metadata": {},
   "outputs": [
    {
     "name": "stdout",
     "output_type": "stream",
     "text": [
      "[0.14285714285714285, 0.2857142857142857, 0.5714285714285714]\n"
     ]
    }
   ],
   "source": [
    "import math\n",
    "from collections import Counter, defaultdict\n",
    "\n",
    "def entropy(class_probabilities):\n",
    "    return sum([-p_class_i * math.log(p_class_i, 2) for p_class_i in class_probabilities if p_class_i != 0])\n",
    "\n",
    "def class_probabilities(labels):\n",
    "    total_count = len(labels)\n",
    "    return [count / total_count for count in Counter(labels).values()]\n",
    "\n",
    "ex_data = [1, 2, 2, 3, 3, 3, 3]\n",
    "\n",
    "print(class_probabilities(ex_data))\n",
    "\n",
    "def data_entropy(labeled_data):\n",
    "    labels = [label for _, label in labeled_data]\n",
    "    probabilities = class_probabilities(labels)\n",
    "    return entropy(probabilities)    \n",
    "\n",
    "def partition_entropy(subsets):\n",
    "    total_count = sum([len(subset) for subset in subsets])\n",
    "\n",
    "    return sum([data_entropy(subset) * len(subset) / total_count for subset in subsets])"
   ]
  },
  {
   "cell_type": "code",
   "execution_count": 3,
   "metadata": {},
   "outputs": [],
   "source": [
    "inputs = [\n",
    "    ({'level':'Senior', 'lang':'Java', 'tweets':'no', 'phd':'no'}, False),\n",
    "    ({'level':'Senior', 'lang':'Java', 'tweets':'no', 'phd':'yes'}, False),\n",
    "    ({'level':'Mid', 'lang':'Python', 'tweets':'no', 'phd':'no'}, True),\n",
    "    ({'level':'Junior', 'lang':'Python', 'tweets':'no', 'phd':'no'}, True),\n",
    "    ({'level':'Junior', 'lang':'R', 'tweets':'yes', 'phd':'no'}, True),\n",
    "    ({'level':'Junior', 'lang':'R', 'tweets':'yes', 'phd':'yes'}, False),\n",
    "    ({'level':'Mid', 'lang':'R', 'tweets':'yes', 'phd':'yes'}, True),\n",
    "    ({'level':'Senior', 'lang':'Python', 'tweets':'no', 'phd':'no'}, False),\n",
    "    ({'level':'Senior', 'lang':'R', 'tweets':'yes', 'phd':'no'}, True),\n",
    "    ({'level':'Junior', 'lang':'Python', 'tweets':'yes', 'phd':'no'}, True),\n",
    "    ({'level':'Senior', 'lang':'Python', 'tweets':'yes', 'phd':'yes'}, True),\n",
    "    ({'level':'Mid', 'lang':'Python', 'tweets':'no', 'phd':'yes'}, True),\n",
    "    ({'level':'Mid', 'lang':'Java', 'tweets':'yes', 'phd':'no'}, True),\n",
    "    ({'level':'Junior', 'lang':'Python', 'tweets':'no', 'phd':'yes'}, False)\n",
    "]"
   ]
  },
  {
   "cell_type": "code",
   "execution_count": 11,
   "metadata": {},
   "outputs": [
    {
     "name": "stdout",
     "output_type": "stream",
     "text": [
      "level 0.6935361388961919\n",
      "lang 0.8601317128547441\n",
      "tweets 0.7884504573082896\n",
      "phd 0.8921589282623617\n"
     ]
    },
    {
     "data": {
      "text/plain": [
       "\" we are gonna select 'level' cuz it has the minimum entropy \""
      ]
     },
     "execution_count": 11,
     "metadata": {},
     "output_type": "execute_result"
    }
   ],
   "source": [
    "def partition_by(inputs, attribute):\n",
    "    groups = defaultdict(list)\n",
    "    for input in inputs:\n",
    "        key = input[0][attribute]\n",
    "        groups[key].append(input)\n",
    "    return groups\n",
    "\n",
    "def partition_entropy_by(inputs, attribute):\n",
    "    partitions = partition_by(inputs, attribute)\n",
    "\n",
    "    return partition_entropy(partitions.values())\n",
    " \n",
    "for key in [\"level\", \"lang\", \"tweets\", \"phd\"]:\n",
    "    print(key, partition_entropy_by(inputs, key))  \n",
    "\n",
    "\n",
    "\"\"\" we are gonna select 'level' cuz it has the minimum entropy \"\"\""
   ]
  },
  {
   "cell_type": "code",
   "execution_count": 5,
   "metadata": {},
   "outputs": [
    {
     "name": "stdout",
     "output_type": "stream",
     "text": [
      "lang 0.4\n",
      "tweets 0.0\n",
      "phd 0.9509775004326938\n"
     ]
    },
    {
     "data": {
      "text/plain": [
       "\" now we are gonna select 'tweets' cuz it has the minimum entropy \\n    and this will go on line this...\\n\""
      ]
     },
     "execution_count": 5,
     "metadata": {},
     "output_type": "execute_result"
    }
   ],
   "source": [
    "senior_inputs = [(input, label) for input, label in inputs if input[\"level\"] == \"Senior\"]\n",
    "\n",
    "for key in [\"lang\", \"tweets\", \"phd\"]:\n",
    "    print(key, partition_entropy_by(senior_inputs, key))\n",
    "\n",
    "\"\"\" now we are gonna select 'tweets' cuz it has the minimum entropy \n",
    "    and this will go on line this...\n",
    "\"\"\"\n"
   ]
  },
  {
   "cell_type": "code",
   "execution_count": 6,
   "metadata": {},
   "outputs": [],
   "source": [
    "from functools import partial\n",
    "\n",
    "def classify(tree, input):\n",
    "    \"\"\"Classify the input using the given decision tree.\"\"\"\n",
    "\n",
    "    # if this is a leaf node, return its value\n",
    "    if tree in [True, False]:\n",
    "        return tree\n",
    "    \n",
    "    # otherwise this tree consits of an attribute to split on\n",
    "    # and a dictionary whose keys are values of that attribute\n",
    "    # and whose values of are subtrees to consider next\n",
    "    attribute, subtree_dict = tree\n",
    "\n",
    "    subtree_key = input.get(attribute)\n",
    "\n",
    "    if subtree_key not in subtree_dict:\n",
    "        subtree_key = None\n",
    "\n",
    "    subtree = subtree_dict[subtree_key]\n",
    "    return classify(subtree, input)\n",
    "\n",
    "def build_tree_id3(inputs, split_candidates=None):\n",
    "\n",
    "    # if this is our first pass,\n",
    "    # all keys of the first input are split candidates\n",
    "    if split_candidates is None:\n",
    "        split_candidates = inputs[0][0].keys()\n",
    "\n",
    "    # count Trues and Falses in the inputs\n",
    "    num_inputs = len(inputs)\n",
    "    num_trues = len([label for _, label in inputs if label])\n",
    "    num_falses = num_inputs - num_trues\n",
    "\n",
    "    if num_trues == 0: return False\n",
    "    if num_falses == 0: return True\n",
    "\n",
    "    # otherwise, split on the best attribute\n",
    "    if not split_candidates:\n",
    "        return num_trues >= num_falses\n",
    "\n",
    "    best_attribute = min(split_candidates, key=partial(partition_entropy_by, inputs))\n",
    "    partitions = partition_by(inputs, best_attribute)\n",
    "    new_candidates = [a for a in split_candidates if a != best_attribute]\n",
    "    \n",
    "    # recursively build subtrees\n",
    "    subtrees = { attribute_value: build_tree_id3(subset, new_candidates) for attribute_value, subset in partitions.items() }\n",
    "\n",
    "    subtrees[None] = num_trues > num_falses # default case\n",
    "\n",
    "    return (best_attribute, subtrees)"
   ]
  },
  {
   "cell_type": "code",
   "execution_count": 7,
   "metadata": {},
   "outputs": [
    {
     "data": {
      "text/plain": [
       "('level',\n",
       " {'Senior': ('tweets', {'no': False, 'yes': True, None: False}),\n",
       "  'Mid': True,\n",
       "  'Junior': ('phd', {'no': True, 'yes': False, None: True}),\n",
       "  None: True})"
      ]
     },
     "execution_count": 7,
     "metadata": {},
     "output_type": "execute_result"
    }
   ],
   "source": [
    "tree = build_tree_id3(inputs)\n",
    "tree"
   ]
  },
  {
   "cell_type": "code",
   "execution_count": 8,
   "metadata": {},
   "outputs": [
    {
     "name": "stdout",
     "output_type": "stream",
     "text": [
      "True\n",
      "False\n"
     ]
    }
   ],
   "source": [
    "print(classify(tree, {\"level\" : \"Junior\",\n",
    "    \"lang\" : \"Java\",\n",
    "    \"tweets\" : \"yes\",\n",
    "    \"phd\" : \"no\"}))\n",
    "\n",
    "print(classify(tree, {\"level\" : \"Junior\",\n",
    "    \"lang\" : \"Java\",\n",
    "    \"tweets\" : \"yes\",\n",
    "    \"phd\" : \"yes\"}))"
   ]
  },
  {
   "cell_type": "code",
   "execution_count": 9,
   "metadata": {},
   "outputs": [],
   "source": [
    "# random forests\n",
    "def forest_classify(trees, input):\n",
    "    votes = [classify(tree, input) for tree in trees]\n",
    "    vote_counts = Counter(votes)\n",
    "    return vote_counts.most_common(1)[0][0]"
   ]
  }
 ],
 "metadata": {
  "interpreter": {
   "hash": "f2675592439886072215c5492b56ef91d6259dc08377ceafc1fad216e79bf788"
  },
  "kernelspec": {
   "display_name": "Python 3.8.8 64-bit ('base': conda)",
   "name": "python3"
  },
  "language_info": {
   "codemirror_mode": {
    "name": "ipython",
    "version": 3
   },
   "file_extension": ".py",
   "mimetype": "text/x-python",
   "name": "python",
   "nbconvert_exporter": "python",
   "pygments_lexer": "ipython3",
   "version": "3.8.8"
  },
  "orig_nbformat": 4
 },
 "nbformat": 4,
 "nbformat_minor": 2
}