{
 "cells": [
  {
   "cell_type": "code",
   "execution_count": 1,
   "metadata": {},
   "outputs": [],
   "source": [
    "import data_analysis_tools as da\r\n",
    "def predict(alpha, beta, xi):\r\n",
    "    return beta * xi + alpha\r\n",
    "\r\n",
    "def error(alpha, beta, xi, yi):\r\n",
    "    return yi - predict(alpha, beta, xi)\r\n",
    "\r\n",
    "def sum_of_squared_errors(alpha, beta, x, y):\r\n",
    "    errors = [error(alpha, beta, xi, yi) for xi, yi in zip(x, y)]\r\n",
    "    return da.sum_of_squares(errors)\r\n",
    "\r\n",
    "\r\n",
    "def least_squares_fit(x, y):\r\n",
    "    beta = da.correlation(x, y) * da.standard_deviation(y) / da.standard_deviation(x)\r\n",
    "    alpha = da.mean(y) - beta * da.mean(x)\r\n",
    "    return alpha, beta\r\n"
   ]
  },
  {
   "cell_type": "code",
   "execution_count": 2,
   "metadata": {},
   "outputs": [
    {
     "data": {
      "image/png": "[encoded data removed]",
      "text/plain": [
       "<Figure size 720x576 with 1 Axes>"
      ]
     },
     "metadata": {
      "needs_background": "light"
     },
     "output_type": "display_data"
    }
   ],
   "source": [
    "import matplotlib.pyplot as plt\r\n",
    "xs = da.random.normal(0, 10, 1000)\r\n",
    "ys = [int(da.random.normal(30, 4, 1)) + xi for xi in xs]\r\n",
    "\r\n",
    "\r\n",
    "plt.figure(figsize=(10, 8))\r\n",
    "plt.scatter(xs, ys)\r\n",
    "plt.show()"
   ]
  },
  {
   "cell_type": "code",
   "execution_count": 3,
   "metadata": {},
   "outputs": [
    {
     "name": "stdout",
     "output_type": "stream",
     "text": [
      " alpha: 29.259023348340737, beta: 1.0062607572331486 \n"
     ]
    }
   ],
   "source": [
    "alpha, beta = least_squares_fit(xs, ys)\r\n",
    "\r\n",
    "print(f' alpha: {alpha}, beta: {beta} ')"
   ]
  },
  {
   "cell_type": "code",
   "execution_count": 4,
   "metadata": {},
   "outputs": [
    {
     "data": {
      "text/plain": [
       "129.8850990716556"
      ]
     },
     "execution_count": 4,
     "metadata": {},
     "output_type": "execute_result"
    }
   ],
   "source": [
    "predict(alpha, beta, 100)"
   ]
  },
  {
   "cell_type": "code",
   "execution_count": 5,
   "metadata": {},
   "outputs": [
    {
     "data": {
      "text/plain": [
       "0.8692651913489224"
      ]
     },
     "execution_count": 5,
     "metadata": {},
     "output_type": "execute_result"
    }
   ],
   "source": [
    "def total_sum_of_squares(y):\n",
    "    return sum(v ** 2 for v in da.de_mean(y))\n",
    "\n",
    "def r_squared(alpha, beta, x, y):\n",
    "    return 1.0 - (sum_of_squared_errors(alpha, beta, x, y) / total_sum_of_squares(y))\n",
    "\n",
    "r_squared(alpha, beta, xs, ys)"
   ]
  },
  {
   "cell_type": "code",
   "execution_count": 6,
   "metadata": {},
   "outputs": [
    {
     "name": "stdout",
     "output_type": "stream",
     "text": [
      "29.259903913111494 1.0063473890985446\n"
     ]
    }
   ],
   "source": [
    "# using the gradient descent\r\n",
    "def squared_error(xi, yi, theta):\r\n",
    "    alpha, beta = theta\r\n",
    "    return error(alpha, beta, xi, yi) ** 2\r\n",
    "    \r\n",
    "def squared_error_gradient(xi, yi, theta):\r\n",
    "    alpha, beta = theta\r\n",
    "    return [-2 * error(alpha, beta, xi, yi), -2 * error(alpha, beta, xi, yi) * xi]\r\n",
    "\r\n",
    "da.r.seed(0)\r\n",
    "theta = [da.random.random(), da.random.random()]\r\n",
    "\r\n",
    "alpha, beta = da.minimize_stochastic(\r\n",
    "    squared_error,\r\n",
    "    squared_error_gradient,\r\n",
    "    xs,\r\n",
    "    ys,\r\n",
    "    theta,\r\n",
    "    0.0001\r\n",
    ")\r\n",
    "\r\n",
    "print(alpha, beta)"
   ]
  },
  {
   "cell_type": "code",
   "execution_count": 1,
   "metadata": {},
   "outputs": [
    {
     "name": "stdout",
     "output_type": "stream",
     "text": [
      "[(31.35910881, 3.82809637, 0.0), (14.63163885, 0.635238342, 2.0), (17.42884965, 3.306706147, 3.0), (6.721845062, 1.367690472, 2.0), (9.099158632, 1.051392464, 1.0)]\n",
      "[304.4568708, 156.8632685, 143.8359148, 82.43756501, 125.4867164]\n"
     ]
    }
   ],
   "source": [
    "# multiple regression\n",
    "import data_analysis_tools as da\n",
    "\n",
    "data = da.file_ops.read_csv('./files/hss.csv')\n",
    "data\n",
    "\n",
    "keys = [\"Radio\", \"Social Media\", \"Influencer\", \"Sales\"]\n",
    "data = [(0.0 if data_i[\"Radio\"] == \"\" else float(data_i[\"Radio\"]), \n",
    "    0.0 if data_i[\"Social Media\"] == \"\" else float(data_i[\"Social Media\"]), \n",
    "    0 if data_i[\"Influencer\"] == \"Mega\" else 1 if data_i[\"Influencer\"] == \"Micro\" else 2 if data_i[\"Influencer\"] == \"Nano\" else 3,\n",
    "    0.0 if data_i[\"Sales\"] == \"\" else float(data_i[\"Sales\"])) \n",
    "    for data_i in data]\n",
    "\n",
    "train, test = da.random.split_data(data, 0.2)\n",
    "\n",
    "train_features = [(train_i[0], train_i[1], train_i[2]) for train_i in train]\n",
    "train_labels = [train_i[3] for train_i in train]\n",
    "\n",
    "test_features = [(test_i[0], test_i[1], test_i[2]) for test_i in test]\n",
    "test_labels = [test_i[3] for test_i in test]\n",
    "\n",
    "print(train_features[:5])\n",
    "print(train_labels[:5])"
   ]
  },
  {
   "cell_type": "code",
   "execution_count": 9,
   "metadata": {},
   "outputs": [],
   "source": [
    "train_data = []\r\n",
    "\r\n",
    "for j in range(len(train[0])):\r\n",
    "    col = []\r\n",
    "    for i in range(len(train)):\r\n",
    "        col.append(train[i][j])\r\n",
    "    train_data.append(col)"
   ]
  },
  {
   "cell_type": "code",
   "execution_count": 6,
   "metadata": {},
   "outputs": [
    {
     "data": {
      "text/plain": [
       "[9.164596705067702, 2.1313176991322305, 8.33685691718669]"
      ]
     },
     "execution_count": 6,
     "metadata": {},
     "output_type": "execute_result"
    }
   ],
   "source": [
    "def predict(xi, beta):\r\n",
    "    return da.dot_product(xi, beta)\r\n",
    "\r\n",
    "def error(xi, yi, beta):\r\n",
    "    return yi - predict(xi, beta)\r\n",
    "\r\n",
    "def squared_error(xi, yi, beta):\r\n",
    "    return error(xi, yi, beta) ** 2\r\n",
    "\r\n",
    "def squared_error_gradient(xi, yi, beta):\r\n",
    "    return [-2 * xij * error(xi, yi, beta) for xij in xi]\r\n",
    "\r\n",
    "def estimate_beta(x, y):\r\n",
    "    beta_initial = [da.random.random() for xi in x[0]]\r\n",
    "    return da.minimize_stochastic(squared_error,\r\n",
    "        squared_error_gradient,\r\n",
    "        x, y,\r\n",
    "        beta_initial,\r\n",
    "        0.001\r\n",
    "    )\r\n",
    "\r\n",
    "da.r.seed(0)\r\n",
    "beta = estimate_beta(train_features, train_labels)\r\n",
    "beta"
   ]
  },
  {
   "cell_type": "code",
   "execution_count": 11,
   "metadata": {},
   "outputs": [
    {
     "name": "stdout",
     "output_type": "stream",
     "text": [
      "[9.224065782104267, 1.8858271157364084, 8.81176530495342]\n"
     ]
    }
   ],
   "source": [
    "print(beta)"
   ]
  },
  {
   "cell_type": "code",
   "execution_count": 12,
   "metadata": {},
   "outputs": [
    {
     "name": "stdout",
     "output_type": "stream",
     "text": [
      " predicted: 106.79195394935792, actual: 112.1928797 \n"
     ]
    }
   ],
   "source": [
    "test_index = 3\r\n",
    "predicted = predict(test_features[test_index], beta)\r\n",
    "actual = test_labels[test_index]\r\n",
    "\r\n",
    "print(f' predicted: {predicted}, actual: {actual} ')"
   ]
  },
  {
   "cell_type": "code",
   "execution_count": 13,
   "metadata": {},
   "outputs": [
    {
     "name": "stdout",
     "output_type": "stream",
     "text": [
      " predicted: 89.57769598085929, actual: 68.42501013 \n",
      " predicted: 200.91368078821682, actual: 110.2396605 \n",
      " predicted: 329.33829970178124, actual: 269.9524569 \n",
      " predicted: 106.79195394935792, actual: 112.1928797 \n",
      " predicted: 205.6157240841188, actual: 252.0522656 \n",
      " predicted: 24.569552406529233, actual: 44.02356801 \n",
      " predicted: 53.557360720477874, actual: 48.27654502 \n",
      " predicted: 17.665458436079756, actual: 43.06509252 \n",
      " predicted: 303.9192399417748, actual: 351.8656104 \n",
      " predicted: 456.4179865230295, actual: 355.1480811 \n",
      " predicted: 231.2248175748572, actual: 201.6903809 \n",
      " predicted: 96.55732154855868, actual: 139.7761666 \n",
      " predicted: 40.70733618057559, actual: 118.5082625 \n",
      " predicted: 265.5861632428515, actual: 240.4027581 \n",
      " predicted: 153.22273944030354, actual: 42.71995548 \n",
      " predicted: 186.925908872022, actual: 216.0789617 \n",
      " predicted: 370.37049043420126, actual: 301.4931202 \n",
      " predicted: 238.255052965192, actual: 272.4213353 \n",
      " predicted: 252.71860782210913, actual: 298.1843017 \n",
      " predicted: 221.3349434491678, actual: 230.1243479 \n"
     ]
    }
   ],
   "source": [
    "for test_index in range(20):\r\n",
    "    predicted = predict(test_features[test_index], beta)\r\n",
    "    actual = test_labels[test_index]\r\n",
    "\r\n",
    "    print(f' predicted: {predicted}, actual: {actual} ')"
   ]
  },
  {
   "cell_type": "code",
   "execution_count": 14,
   "metadata": {},
   "outputs": [
    {
     "data": {
      "text/plain": [
       "0.526775956284153"
      ]
     },
     "execution_count": 14,
     "metadata": {},
     "output_type": "execute_result"
    }
   ],
   "source": [
    "def test_model(test_features, test_labels, allowed_error=0.25):\r\n",
    "    \"\"\"if actual + actual * (allowed_error / 2) > predicted > actual - actual * (allowed_error / 2): \r\n",
    "        correct += 1\\n\r\n",
    "        returns correct / total\"\"\"\r\n",
    "    correct = 0\r\n",
    "    total = len(test_labels)\r\n",
    "    for feature, label in zip(test_features, test_labels):\r\n",
    "        predicted = predict(feature, beta)\r\n",
    "        actual = label\r\n",
    "\r\n",
    "        \r\n",
    "        if actual + actual * (allowed_error / 2) > predicted > actual - actual * (allowed_error / 2):\r\n",
    "            correct += 1\r\n",
    "        \r\n",
    "\r\n",
    "    return correct / total\r\n",
    "\r\n",
    "test_model(test_features, test_labels, allowed_error=0.4)"
   ]
  },
  {
   "cell_type": "code",
   "execution_count": 1,
   "metadata": {},
   "outputs": [
    {
     "ename": "NameError",
     "evalue": "name 'train_features' is not defined",
     "output_type": "error",
     "traceback": [
      "\u001b[0;31m---------------------------------------------------------------------------\u001b[0m",
      "\u001b[0;31mNameError\u001b[0m                                 Traceback (most recent call last)",
      "\u001b[0;32m<ipython-input-1-6db062ee7124>\u001b[0m in \u001b[0;36m<module>\u001b[0;34m\u001b[0m\n\u001b[1;32m      3\u001b[0m     \u001b[0;32mreturn\u001b[0m \u001b[0;36m1\u001b[0m \u001b[0;34m-\u001b[0m \u001b[0msum_of_sq_errs\u001b[0m \u001b[0;34m/\u001b[0m \u001b[0mtotal_sum_of_squares\u001b[0m\u001b[0;34m(\u001b[0m\u001b[0my\u001b[0m\u001b[0;34m)\u001b[0m\u001b[0;34m\u001b[0m\u001b[0;34m\u001b[0m\u001b[0m\n\u001b[1;32m      4\u001b[0m \u001b[0;34m\u001b[0m\u001b[0m\n\u001b[0;32m----> 5\u001b[0;31m \u001b[0mprint\u001b[0m\u001b[0;34m(\u001b[0m\u001b[0;34m'on train data:'\u001b[0m\u001b[0;34m,\u001b[0m \u001b[0mmultiple_r_squared\u001b[0m\u001b[0;34m(\u001b[0m\u001b[0mtrain_features\u001b[0m\u001b[0;34m,\u001b[0m \u001b[0mtrain_labels\u001b[0m\u001b[0;34m,\u001b[0m \u001b[0mbeta\u001b[0m\u001b[0;34m)\u001b[0m\u001b[0;34m)\u001b[0m\u001b[0;34m\u001b[0m\u001b[0;34m\u001b[0m\u001b[0m\n\u001b[0m\u001b[1;32m      6\u001b[0m \u001b[0mprint\u001b[0m\u001b[0;34m(\u001b[0m\u001b[0;34m'on test data:'\u001b[0m\u001b[0;34m,\u001b[0m \u001b[0mmultiple_r_squared\u001b[0m\u001b[0;34m(\u001b[0m\u001b[0mtest_features\u001b[0m\u001b[0;34m,\u001b[0m \u001b[0mtest_labels\u001b[0m\u001b[0;34m,\u001b[0m \u001b[0mbeta\u001b[0m\u001b[0;34m)\u001b[0m\u001b[0;34m)\u001b[0m\u001b[0;34m\u001b[0m\u001b[0;34m\u001b[0m\u001b[0m\n",
      "\u001b[0;31mNameError\u001b[0m: name 'train_features' is not defined"
     ]
    }
   ],
   "source": [
    "def multiple_r_squared(x, y, beta):\r\n",
    "    sum_of_sq_errs = sum(error(xi, yi, beta) ** 2 for xi, yi in zip(x, y))\r\n",
    "    return 1 - sum_of_sq_errs / total_sum_of_squares(y)\r\n",
    "\r\n",
    "print('on train data:', multiple_r_squared(train_features, train_labels, beta))\r\n",
    "print('on test data:', multiple_r_squared(test_features, test_labels, beta))"
   ]
  },
  {
   "cell_type": "code",
   "execution_count": 17,
   "metadata": {},
   "outputs": [
    {
     "name": "stdout",
     "output_type": "stream",
     "text": [
      "mean: 0.078533849326053\n",
      "bootstrap mean: 0.897752244873701\n"
     ]
    }
   ],
   "source": [
    "# digression, the bootstrap\r\n",
    "def bootstrap_sample(xs, ys=None):\r\n",
    "    if ys:\r\n",
    "        length = len(ys)\r\n",
    "        sample_index = da.random.rand_index(length)\r\n",
    "        return xs[sample_index], ys[sample_index]\r\n",
    "    else:\r\n",
    "        return da.random.sample(xs)\r\n",
    "\r\n",
    "        \r\n",
    "def bootstrap_statistic(data, stats_fn, num_samples):\r\n",
    "    try:\r\n",
    "        xs, ys = zip(*data)\r\n",
    "        samples = [bootstrap_sample(xs, ys) for _ in range(num_samples)]\r\n",
    "    except:\r\n",
    "        samples = [bootstrap_sample(data) for _ in range(num_samples)]\r\n",
    "\r\n",
    "    return stats_fn(samples)\r\n",
    "\r\n",
    "print('mean:', da.median(xs))\r\n",
    "print('bootstrap mean:', bootstrap_statistic(xs, da.median, 10))"
   ]
  },
  {
   "cell_type": "code",
   "execution_count": 18,
   "metadata": {},
   "outputs": [
    {
     "data": {
      "text/plain": [
       "[[9.377720059355587, 0.09837871909353879, 8.990221478981299],\n",
       " [9.143262089504601, -0.5600118351335212, 14.168856400632496],\n",
       " [9.565911864528136, 3.5074455381303116, 4.972839056177771],\n",
       " [8.895035386402723, 3.365473420166968, 9.110478952150038],\n",
       " [10.146716489791253, -2.2934732564061524, 6.58007660170788],\n",
       " [10.302110328213175, -1.0151878094025422, 4.887150545520789],\n",
       " [7.92612317258575, 8.118064577082995, 5.9420795347319295],\n",
       " [9.571651883133761, 0.14058712524695696, 13.022177094497975],\n",
       " [10.090706038483352, -2.1414753442956145, 7.265801475842672],\n",
       " [10.422139183857869, -3.5315079798444713, 11.59603930802728]]"
      ]
     },
     "execution_count": 18,
     "metadata": {},
     "output_type": "execute_result"
    }
   ],
   "source": [
    "def estimate_sample_beta(sample):\r\n",
    "    x_sample, y_sample = list(zip(*sample))\r\n",
    "    return estimate_beta(x_sample, y_sample)\r\n",
    "\r\n",
    "\r\n",
    "bootstrap_betas = [bootstrap_statistic(zip(train_features, train_labels), estimate_sample_beta, 100)\r\n",
    "    for _ in range(10)]\r\n",
    "bootstrap_betas\r\n"
   ]
  },
  {
   "cell_type": "code",
   "execution_count": 19,
   "metadata": {},
   "outputs": [
    {
     "data": {
      "text/plain": [
       "[0.7627566462421208, 3.495823502043639, 3.3299064108491443]"
      ]
     },
     "execution_count": 19,
     "metadata": {},
     "output_type": "execute_result"
    }
   ],
   "source": [
    "bootstrap_standard_errors = [da.standard_deviation([beta[i] for beta in bootstrap_betas])\r\n",
    "    for i in range(3)]\r\n",
    "\r\n",
    "bootstrap_standard_errors"
   ]
  },
  {
   "cell_type": "code",
   "execution_count": 25,
   "metadata": {},
   "outputs": [
    {
     "name": "stdout",
     "output_type": "stream",
     "text": [
      "0.0\n",
      "0.3117956860155432\n",
      "0.0004812813591277276\n"
     ]
    }
   ],
   "source": [
    "def p_value(beta_hat_j, sigma_hat_j):\n",
    "    if beta_hat_j > 0:\n",
    "        return 2 * (1 - da.random.normal_cdf(beta_hat_j / sigma_hat_j))\n",
    "    else:\n",
    "        return 2 * da.random.normal_cdf(beta_hat_j / sigma_hat_j)\n",
    "\n",
    "print(p_value(10.4, 0.76))\n",
    "print(p_value(-3.53, 3.49))\n",
    "print(p_value(11.59, 3.32))"
   ]
  },
  {
   "cell_type": "code",
   "execution_count": 30,
   "metadata": {},
   "outputs": [],
   "source": [
    "# regularization\n",
    "from functools import partial\n",
    "\n",
    "def ridge_penalty(beta, alpha):\n",
    "    return alpha * da.dot_product(beta[1:], beta[1:])\n",
    "\n",
    "def squared_error_ridge(xi, yi, beta, alpha):\n",
    "    return error(xi, yi, beta) ** 2 + ridge_penalty(beta, alpha)\n",
    "\n",
    "def ridge_penalty_gradient(beta, alpha):\n",
    "    \"\"\"gradient of just the ridge penalty\"\"\"\n",
    "    return [0] + [2 * alpha * beta_j for beta_j in beta[1:]]\n",
    "\n",
    "def squared_error_ridge_gradient(x_i, y_i, beta, alpha):\n",
    "    \"\"\"the gradient corresponding to the ith squared error term\n",
    "    including the ridge penalty\"\"\"\n",
    "    return da.vector_add(squared_error_gradient(x_i, y_i, beta),\n",
    "        ridge_penalty_gradient(beta, alpha))\n",
    "\n",
    "def estimate_beta_ridge(x, y, alpha):\n",
    "    \"\"\"use gradient descent to fit a ridge regression\n",
    "    with penalty alpha\"\"\"\n",
    "    beta_initial = [da.random.random() for _ in x[0]]\n",
    "    \n",
    "    return da.minimize_stochastic(partial(squared_error_ridge, alpha=alpha),\n",
    "        partial(squared_error_ridge_gradient,\n",
    "        alpha=alpha),\n",
    "        x, y,\n",
    "        beta_initial,\n",
    "        0.001)\n",
    "\n",
    "da.r.seed(0)\n",
    "beta_0 = estimate_beta_ridge(train_features, train_labels, alpha=0.1)"
   ]
  },
  {
   "cell_type": "code",
   "execution_count": 32,
   "metadata": {},
   "outputs": [
    {
     "name": "stdout",
     "output_type": "stream",
     "text": [
      "[9.25968812129979, 1.8556733208836498, 8.3389526159274]\n",
      "0.7134121347898925\n"
     ]
    }
   ],
   "source": [
    "print(beta_0)\n",
    "print(multiple_r_squared(train_features, train_labels, beta_0))"
   ]
  },
  {
   "cell_type": "code",
   "execution_count": 1,
   "metadata": {},
   "outputs": [
    {
     "name": "stdout",
     "output_type": "stream",
     "text": [
      "[(16.82166633, 1.585219121, 1.0), (2.608126516, 2.573891358, 1.0), (27.29955891, 5.084324988, 1.0), (22.85140519, 0.667171404, 1.0), (24.40263571, 1.995127175, 3.0)]\n",
      "[114.6695418, 42.18314566, 305.1819706, 221.5444894, 253.7082243]\n"
     ]
    }
   ],
   "source": [
    "import data_analysis_tools as da\n",
    "\n",
    "data = da.file_ops.read_csv('./files/hss.csv')\n",
    "data\n",
    "\n",
    "keys = [\"Radio\", \"Social Media\", \"Influencer\", \"Sales\"]\n",
    "data = [(0.0 if data_i[\"Radio\"] == \"\" else float(data_i[\"Radio\"]), \n",
    "    0.0 if data_i[\"Social Media\"] == \"\" else float(data_i[\"Social Media\"]), \n",
    "    0 if data_i[\"Influencer\"] == \"Mega\" else 1 if data_i[\"Influencer\"] == \"Micro\" else 2 if data_i[\"Influencer\"] == \"Nano\" else 3,\n",
    "    0.0 if data_i[\"Sales\"] == \"\" else float(data_i[\"Sales\"])) \n",
    "    for data_i in data]\n",
    "\n",
    "train, test = da.random.split_data(data, 0.2)\n",
    "\n",
    "train_features = [(train_i[0], train_i[1], train_i[2]) for train_i in train]\n",
    "train_labels = [train_i[3] for train_i in train]\n",
    "\n",
    "test_features = [(test_i[0], test_i[1], test_i[2]) for test_i in test]\n",
    "test_labels = [test_i[3] for test_i in test]\n",
    "\n",
    "print(train_features[:5])\n",
    "print(train_labels[:5])"
   ]
  },
  {
   "cell_type": "code",
   "execution_count": 2,
   "metadata": {},
   "outputs": [
    {
     "data": {
      "text/plain": [
       "[9.265138580617945, 2.1031455746939853, 7.465871308792405]"
      ]
     },
     "execution_count": 2,
     "metadata": {},
     "output_type": "execute_result"
    }
   ],
   "source": [
    "import data_analysis_tools as da\n",
    "\n",
    "classifier = da.ml.MultiLinearRegressionClassifier(0.001)\n",
    "classifier.train(train_features, train_labels)\n",
    "classifier.beta"
   ]
  },
  {
   "cell_type": "code",
   "execution_count": 5,
   "metadata": {},
   "outputs": [
    {
     "name": "stdout",
     "output_type": "stream",
     "text": [
      "Actual 263.3750447 Predicted: 232.92616736236383\n"
     ]
    }
   ],
   "source": [
    "print('Actual', test_labels[1], 'Predicted:', classifier.predict(test_features[1]))"
   ]
  },
  {
   "cell_type": "code",
   "execution_count": 6,
   "metadata": {},
   "outputs": [
    {
     "data": {
      "text/plain": [
       "0.7759562841530054"
      ]
     },
     "execution_count": 6,
     "metadata": {},
     "output_type": "execute_result"
    }
   ],
   "source": [
    "classifier.test(test_features, test_labels, 0.4)"
   ]
  },
  {
   "cell_type": "code",
   "execution_count": 8,
   "metadata": {},
   "outputs": [
    {
     "data": {
      "text/plain": [
       "0.7007085702080105"
      ]
     },
     "execution_count": 8,
     "metadata": {},
     "output_type": "execute_result"
    }
   ],
   "source": [
    "classifier.r_squared(test_features, test_labels)"
   ]
  }
 ],
 "metadata": {
  "interpreter": {
   "hash": "f2675592439886072215c5492b56ef91d6259dc08377ceafc1fad216e79bf788"
  },
  "kernelspec": {
   "display_name": "Python 3.8.8 64-bit ('base': conda)",
   "name": "python3"
  },
  "language_info": {
   "codemirror_mode": {
    "name": "ipython",
    "version": 3
   },
   "file_extension": ".py",
   "mimetype": "text/x-python",
   "name": "python",
   "nbconvert_exporter": "python",
   "pygments_lexer": "ipython3",
   "version": "3.8.8"
  },
  "orig_nbformat": 4
 },
 "nbformat": 4,
 "nbformat_minor": 2
}