{
 "cells": [
  {
   "cell_type": "code",
   "execution_count": 1,
   "source": [
    "import data_analysis_tools as da\r\n",
    "def predict(alpha, beta, xi):\r\n",
    "    return beta * xi + alpha\r\n",
    "\r\n",
    "def error(alpha, beta, xi, yi):\r\n",
    "    return yi - predict(alpha, beta, xi)\r\n",
    "\r\n",
    "def sum_of_squared_errors(alpha, beta, x, y):\r\n",
    "    errors = [error(alpha, beta, xi, yi) for xi, yi in zip(x, y)]\r\n",
    "    return da.sum_of_squares(errors)\r\n",
    "\r\n",
    "\r\n",
    "def least_squares_fit(x, y):\r\n",
    "    beta = da.correlation(x, y) * da.standard_deviation(y) / da.standard_deviation(x)\r\n",
    "    alpha = da.mean(y) - beta * da.mean(x)\r\n",
    "    return alpha, beta\r\n"
   ],
   "outputs": [],
   "metadata": {}
  },
  {
   "cell_type": "code",
   "execution_count": 2,
   "source": [
    "import matplotlib.pyplot as plt\r\n",
    "xs = da.random.normal(0, 10, 1000)\r\n",
    "ys = [int(da.random.normal(30, 4, 1)) + xi for xi in xs]\r\n",
    "\r\n",
    "\r\n",
    "plt.figure(figsize=(10, 8))\r\n",
    "plt.scatter(xs, ys)\r\n",
    "plt.show()"
   ],
   "outputs": [
    {
     "output_type": "display_data",
     "data": {
      "text/plain": [
       "<Figure size 720x576 with 1 Axes>"
      ],
      "image/png": "[encoded data removed]"
     },
     "metadata": {
      "needs_background": "light"
     }
    }
   ],
   "metadata": {}
  },
  {
   "cell_type": "code",
   "execution_count": 3,
   "source": [
    "alpha, beta = least_squares_fit(xs, ys)\r\n",
    "\r\n",
    "print(f' alpha: {alpha}, beta: {beta} ')"
   ],
   "outputs": [
    {
     "output_type": "stream",
     "name": "stdout",
     "text": [
      " alpha: 29.345378963752403, beta: 0.9864947785786211 \n"
     ]
    }
   ],
   "metadata": {}
  },
  {
   "cell_type": "code",
   "execution_count": 4,
   "source": [
    "predict(alpha, beta, 100)"
   ],
   "outputs": [
    {
     "output_type": "execute_result",
     "data": {
      "text/plain": [
       "127.99485682161452"
      ]
     },
     "metadata": {},
     "execution_count": 4
    }
   ],
   "metadata": {}
  },
  {
   "cell_type": "code",
   "execution_count": 5,
   "source": [
    "def total_sum_of_squares(y):\r\n",
    "    return sum(v ** 2 for v in da.de_mean(y))\r\n",
    "\r\n",
    "def r_squared(alpha, beta, x, y):\r\n",
    "    return 1.0 - (sum_of_squared_errors(alpha, beta, x, y) / total_sum_of_squares(y))\r\n",
    "\r\n",
    "r_squared(alpha, beta, xs, ys)"
   ],
   "outputs": [
    {
     "output_type": "execute_result",
     "data": {
      "text/plain": [
       "0.8724229140913516"
      ]
     },
     "metadata": {},
     "execution_count": 5
    }
   ],
   "metadata": {}
  },
  {
   "cell_type": "code",
   "execution_count": 6,
   "source": [
    "# using the gradient descent\r\n",
    "def squared_error(xi, yi, theta):\r\n",
    "    alpha, beta = theta\r\n",
    "    return error(alpha, beta, xi, yi) ** 2\r\n",
    "    \r\n",
    "def squared_error_gradient(xi, yi, theta):\r\n",
    "    alpha, beta = theta\r\n",
    "    return [-2 * error(alpha, beta, xi, yi), -2 * error(alpha, beta, xi, yi) * xi]\r\n",
    "\r\n",
    "da.r.seed(0)\r\n",
    "theta = [da.random.random(), da.random.random()]\r\n",
    "\r\n",
    "alpha, beta = da.minimize_stochastic(\r\n",
    "    squared_error,\r\n",
    "    squared_error_gradient,\r\n",
    "    xs,\r\n",
    "    ys,\r\n",
    "    theta,\r\n",
    "    0.0001\r\n",
    ")\r\n",
    "\r\n",
    "print(alpha, beta)"
   ],
   "outputs": [
    {
     "output_type": "stream",
     "name": "stdout",
     "text": [
      "29.34532345553195 0.9865889316470358\n"
     ]
    }
   ],
   "metadata": {}
  },
  {
   "cell_type": "code",
   "execution_count": 7,
   "source": [
    "# multiple regression\r\n",
    "from collections import defaultdict\r\n",
    "\r\n",
    "data = da.file_ops.read_csv('./files/hss.csv')\r\n",
    "data\r\n",
    "\r\n",
    "keys = [\"Radio\", \"Social Media\", \"Influencer\", \"Sales\"]\r\n",
    "data = [(0.0 if data_i[\"Radio\"] == \"\" else float(data_i[\"Radio\"]), \r\n",
    "    0.0 if data_i[\"Social Media\"] == \"\" else float(data_i[\"Social Media\"]), \r\n",
    "    0 if data_i[\"Influencer\"] == \"Mega\" else 1 if data_i[\"Influencer\"] == \"Micro\" else 2 if data_i[\"Influencer\"] == \"Nano\" else 3,\r\n",
    "    0.0 if data_i[\"Sales\"] == \"\" else float(data_i[\"Sales\"])) \r\n",
    "    for data_i in data]\r\n",
    "\r\n",
    "train, test = da.random.split_data(data, 0.2)\r\n",
    "\r\n",
    "train[:5]"
   ],
   "outputs": [
    {
     "output_type": "execute_result",
     "data": {
      "text/plain": [
       "array([[ 32.36994086,   5.28590161,   1.        , 341.1248757 ],\n",
       "       [ 36.13477932,   6.81252894,   1.        , 275.8154126 ],\n",
       "       [ 22.72019   ,   2.46555663,   3.        , 222.9110745 ],\n",
       "       [ 19.86674573,   3.23932972,   1.        , 152.4606811 ],\n",
       "       [ 36.73607325,   7.60834982,   2.        , 347.7546808 ]])"
      ]
     },
     "metadata": {},
     "execution_count": 7
    }
   ],
   "metadata": {}
  },
  {
   "cell_type": "code",
   "execution_count": 8,
   "source": [
    "train_features = [(train_i[0], train_i[1], train_i[2]) for train_i in train]\r\n",
    "train_labels = [train_i[3] for train_i in train]\r\n",
    "\r\n",
    "test_features = [(test_i[0], test_i[1], test_i[2]) for test_i in test]\r\n",
    "test_labels = [test_i[3] for test_i in test]\r\n",
    "\r\n",
    "print(train_features[:5])\r\n",
    "print(train_labels[:5])"
   ],
   "outputs": [
    {
     "output_type": "stream",
     "name": "stdout",
     "text": [
      "[(32.36994086, 5.285901611, 1.0), (36.13477932, 6.812528936, 1.0), (22.72019, 2.46555663, 3.0), (19.86674573, 3.239329723, 1.0), (36.73607325, 7.608349815, 2.0)]\n",
      "[341.1248757, 275.8154126, 222.9110745, 152.4606811, 347.7546808]\n"
     ]
    }
   ],
   "metadata": {}
  },
  {
   "cell_type": "code",
   "execution_count": 9,
   "source": [
    "train_data = []\r\n",
    "\r\n",
    "for j in range(len(train[0])):\r\n",
    "    col = []\r\n",
    "    for i in range(len(train)):\r\n",
    "        col.append(train[i][j])\r\n",
    "    train_data.append(col)"
   ],
   "outputs": [],
   "metadata": {}
  },
  {
   "cell_type": "code",
   "execution_count": 10,
   "source": [
    "def predict(xi, beta):\r\n",
    "    return da.dot_product(xi, beta)\r\n",
    "\r\n",
    "def error(xi, yi, beta):\r\n",
    "    return yi - predict(xi, beta)\r\n",
    "\r\n",
    "def squared_error(xi, yi, beta):\r\n",
    "    return error(xi, yi, beta) ** 2\r\n",
    "\r\n",
    "def squared_error_gradient(xi, yi, beta):\r\n",
    "    return [-2 * xij * error(xi, yi, beta) for xij in xi]\r\n",
    "\r\n",
    "def estimate_beta(x, y):\r\n",
    "    beta_initial = [da.random.random() for xi in x[0]]\r\n",
    "    return da.minimize_stochastic(squared_error,\r\n",
    "        squared_error_gradient,\r\n",
    "        x, y,\r\n",
    "        beta_initial,\r\n",
    "        0.001\r\n",
    "    )\r\n",
    "\r\n",
    "da.r.seed(0)\r\n",
    "beta = estimate_beta(train_features, train_labels)\r\n",
    "beta"
   ],
   "outputs": [
    {
     "output_type": "execute_result",
     "data": {
      "text/plain": [
       "[9.242909811289781, 1.918219332414282, 7.985198561351903]"
      ]
     },
     "metadata": {},
     "execution_count": 10
    }
   ],
   "metadata": {}
  },
  {
   "cell_type": "code",
   "execution_count": 11,
   "source": [
    "print(beta)"
   ],
   "outputs": [
    {
     "output_type": "stream",
     "name": "stdout",
     "text": [
      "[9.242909811289781, 1.918219332414282, 7.985198561351903]\n"
     ]
    }
   ],
   "metadata": {}
  },
  {
   "cell_type": "code",
   "execution_count": 12,
   "source": [
    "test_index = 3\r\n",
    "predicted = predict(test_features[test_index], beta)\r\n",
    "actual = test_labels[test_index]\r\n",
    "\r\n",
    "print(f' predicted: {predicted}, actual: {actual} ')"
   ],
   "outputs": [
    {
     "output_type": "stream",
     "name": "stdout",
     "text": [
      " predicted: 99.78620657155633, actual: 49.16942945 \n"
     ]
    }
   ],
   "metadata": {}
  },
  {
   "cell_type": "code",
   "execution_count": 13,
   "source": [
    "for test_index in range(20):\r\n",
    "    predicted = predict(test_features[test_index], beta)\r\n",
    "    actual = test_labels[test_index]\r\n",
    "\r\n",
    "    print(f' predicted: {predicted}, actual: {actual} ')"
   ],
   "outputs": [
    {
     "output_type": "stream",
     "name": "stdout",
     "text": [
      " predicted: 120.56208982563199, actual: 60.38358214 \n",
      " predicted: 95.62909175853173, actual: 133.5654887 \n",
      " predicted: 236.7828347797457, actual: 245.4126376 \n",
      " predicted: 99.78620657155633, actual: 49.16942945 \n",
      " predicted: 89.93783496349096, actual: 172.524878 \n",
      " predicted: 218.79070132422308, actual: 107.7477433 \n",
      " predicted: 137.8152408688443, actual: 166.2649357 \n",
      " predicted: 131.804511665807, actual: 70.20770114 \n",
      " predicted: 176.09193324334055, actual: 158.5720707 \n",
      " predicted: 233.79222250777923, actual: 234.8510253 \n",
      " predicted: 172.40210609838263, actual: 141.3801238 \n",
      " predicted: 304.96983157697065, actual: 280.1919658 \n",
      " predicted: 211.31094868969888, actual: 279.0002133 \n",
      " predicted: 169.42108172381373, actual: 106.3487777 \n",
      " predicted: 166.464951390838, actual: 101.1209009 \n",
      " predicted: 184.79139242250116, actual: 295.518075 \n",
      " predicted: 139.5369009179344, actual: 136.8019191 \n",
      " predicted: 72.52052078079478, actual: 106.9499394 \n",
      " predicted: 139.34254945851077, actual: 120.067237 \n",
      " predicted: 82.56521538733155, actual: 141.5940632 \n"
     ]
    }
   ],
   "metadata": {}
  },
  {
   "cell_type": "code",
   "execution_count": 14,
   "source": [
    "def test_model(test_features, test_labels, allowed_error=0.25):\r\n",
    "    \"\"\"if actual + actual * (allowed_error / 2) > predicted > actual - actual * (allowed_error / 2): \r\n",
    "        correct += 1\\n\r\n",
    "        returns correct / total\"\"\"\r\n",
    "    correct = 0\r\n",
    "    total = len(test_labels)\r\n",
    "    for feature, label in zip(test_features, test_labels):\r\n",
    "        predicted = predict(feature, beta)\r\n",
    "        actual = label\r\n",
    "\r\n",
    "        \r\n",
    "        if actual + actual * (allowed_error / 2) > predicted > actual - actual * (allowed_error / 2):\r\n",
    "            correct += 1\r\n",
    "        \r\n",
    "\r\n",
    "    return correct / total\r\n",
    "\r\n",
    "test_model(test_features, test_labels, allowed_error=0.4)"
   ],
   "outputs": [
    {
     "output_type": "execute_result",
     "data": {
      "text/plain": [
       "0.5256830601092897"
      ]
     },
     "metadata": {},
     "execution_count": 14
    }
   ],
   "metadata": {}
  },
  {
   "cell_type": "code",
   "execution_count": 15,
   "source": [
    "def multiple_r_squared(x, y, beta):\r\n",
    "    sum_of_sq_errs = sum(error(xi, yi, beta) ** 2 for xi, yi in zip(x, y))\r\n",
    "    return 1 - sum_of_sq_errs / total_sum_of_squares(y)\r\n",
    "\r\n",
    "multiple_r_squared(test_features, test_labels, beta)"
   ],
   "outputs": [
    {
     "output_type": "execute_result",
     "data": {
      "text/plain": [
       "0.7040424173246247"
      ]
     },
     "metadata": {},
     "execution_count": 15
    }
   ],
   "metadata": {}
  },
  {
   "cell_type": "code",
   "execution_count": 16,
   "source": [
    "def multiple_r_squared(x, y, beta):\r\n",
    "    sum_of_sq_errs = sum(error(xi, yi, beta) ** 2 for xi, yi in zip(x, y))\r\n",
    "    return 1 - sum_of_sq_errs / total_sum_of_squares(y)\r\n",
    "\r\n",
    "print('on train data:', multiple_r_squared(train_features, train_labels, beta))\r\n",
    "print('on test data:', multiple_r_squared(test_features, test_labels, beta))"
   ],
   "outputs": [
    {
     "output_type": "stream",
     "name": "stdout",
     "text": [
      "on train data: 0.7226839274944452\n",
      "on test data: 0.7040424173246247\n"
     ]
    }
   ],
   "metadata": {}
  },
  {
   "cell_type": "code",
   "execution_count": 21,
   "source": [
    "# digression, the bootstrap\r\n",
    "def bootstrap_sample(xs, ys=None):\r\n",
    "    if ys:\r\n",
    "        length = len(ys)\r\n",
    "        sample_index = da.random.rand_index(length)\r\n",
    "        return xs[sample_index], ys[sample_index]\r\n",
    "    else:\r\n",
    "        return da.random.sample(xs)\r\n",
    "\r\n",
    "        \r\n",
    "def bootstrap_statistic(data, stats_fn, num_samples):\r\n",
    "    try:\r\n",
    "        xs, ys = zip(*data)\r\n",
    "        samples = [bootstrap_sample(xs, ys) for _ in range(num_samples)]\r\n",
    "    except:\r\n",
    "        samples = [bootstrap_sample(data) for _ in range(num_samples)]\r\n",
    "\r\n",
    "    return stats_fn(samples)\r\n",
    "\r\n",
    "print('mean:', da.median(xs))\r\n",
    "print('bootstrap mean:', bootstrap_statistic(xs, da.median, 10))"
   ],
   "outputs": [
    {
     "output_type": "stream",
     "name": "stdout",
     "text": [
      "mean: 0.15811044397747687\n",
      "bootstrap mean: -5.254985136542382\n"
     ]
    }
   ],
   "metadata": {}
  },
  {
   "cell_type": "code",
   "execution_count": 34,
   "source": [
    "def estimate_sample_beta(sample):\r\n",
    "    x_sample, y_sample = list(zip(*sample))\r\n",
    "    return estimate_beta(x_sample, y_sample)\r\n",
    "\r\n",
    "\r\n",
    "bootstrap_betas = [bootstrap_statistic(zip(train_features, train_labels), estimate_sample_beta, 100)\r\n",
    "    for _ in range(10)]\r\n",
    "bootstrap_betas\r\n"
   ],
   "outputs": [
    {
     "output_type": "execute_result",
     "data": {
      "text/plain": [
       "[[10.178490619197612, -2.2690826865255675, 4.454531736896569],\n",
       " [9.896670814074021, -2.59285959210267, 7.581807055373179],\n",
       " [9.916950611255368, -0.6422134990111517, 9.637377614565526],\n",
       " [9.52436055886033, 4.441667083612727, 1.360865959995173],\n",
       " [8.48502336643787, 5.169659713745091, 15.598841148515238],\n",
       " [8.67089119192248, 8.003962047570052, 4.988913202032447],\n",
       " [8.413408784041764, 1.4214576705394024, 16.569908697144893],\n",
       " [10.19376977899914, -3.4410126402554226, 7.314064083665666],\n",
       " [8.488841658705585, 3.046040542553439, 12.261504362605715],\n",
       " [9.525307668820478, -0.6585377535064224, 13.376094899637554]]"
      ]
     },
     "metadata": {},
     "execution_count": 34
    }
   ],
   "metadata": {}
  },
  {
   "cell_type": "code",
   "execution_count": 35,
   "source": [
    "bootstrap_standard_errors = [da.standard_deviation([beta[i] for beta in bootstrap_betas])\r\n",
    "    for i in range(3)]\r\n",
    "\r\n",
    "bootstrap_standard_errors"
   ],
   "outputs": [
    {
     "output_type": "execute_result",
     "data": {
      "text/plain": [
       "[0.7381414574073568, 3.812285559130534, 5.0554018689976115]"
      ]
     },
     "metadata": {},
     "execution_count": 35
    }
   ],
   "metadata": {}
  },
  {
   "cell_type": "code",
   "execution_count": null,
   "source": [],
   "outputs": [],
   "metadata": {}
  }
 ],
 "metadata": {
  "interpreter": {
   "hash": "cef9e06bb236b2a8629b07e87a04b187b952a0f661eff5533360a155783f0c33"
  },
  "kernelspec": {
   "name": "python3",
   "display_name": "Python 3.8.8 64-bit ('base': conda)"
  },
  "language_info": {
   "codemirror_mode": {
    "name": "ipython",
    "version": 3
   },
   "file_extension": ".py",
   "mimetype": "text/x-python",
   "name": "python",
   "nbconvert_exporter": "python",
   "pygments_lexer": "ipython3",
   "version": "3.8.8"
  },
  "orig_nbformat": 4
 },
 "nbformat": 4,
 "nbformat_minor": 2
}