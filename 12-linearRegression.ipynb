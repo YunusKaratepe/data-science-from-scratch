{
 "cells": [
  {
   "cell_type": "code",
   "execution_count": 2,
   "metadata": {},
   "outputs": [],
   "source": [
    "import data_analysis_tools as da\n",
    "def predict(alpha, beta, xi):\n",
    "    return beta * xi + alpha\n",
    "\n",
    "def error(alpha, beta, xi, yi):\n",
    "    return yi - predict(alpha, beta, xi)\n",
    "\n",
    "def sum_of_squared_errors(alpha, beta, x, y):\n",
    "    errors = [error(alpha, beta, xi, yi) for xi, yi in zip(x, y)]\n",
    "    return da.sum_of_squares(errors)\n",
    "\n",
    "\n",
    "def least_squares_fit(x, y):\n",
    "    beta = da.correlation(x, y) * da.standard_deviation(y) / da.standard_deviation(x)\n",
    "    alpha = da.mean(y) - beta * da.mean(x)\n",
    "    return alpha, beta\n"
   ]
  },
  {
   "cell_type": "code",
   "execution_count": 3,
   "metadata": {},
   "outputs": [
    {
     "data": {
      "image/png": "[encoded data removed]",
      "text/plain": [
       "<Figure size 720x576 with 1 Axes>"
      ]
     },
     "metadata": {
      "needs_background": "light"
     },
     "output_type": "display_data"
    }
   ],
   "source": [
    "import matplotlib.pyplot as plt\n",
    "xs = da.random.normal(0, 10, 1000)\n",
    "ys = [int(da.random.normal(30, 4, 1)) + xi for xi in xs]\n",
    "\n",
    "\n",
    "plt.figure(figsize=(10, 8))\n",
    "plt.scatter(xs, ys)\n",
    "plt.show()"
   ]
  },
  {
   "cell_type": "code",
   "execution_count": 4,
   "metadata": {},
   "outputs": [
    {
     "name": "stdout",
     "output_type": "stream",
     "text": [
      " alpha: 29.49698507987681, beta: 0.9938589731131046 \n"
     ]
    }
   ],
   "source": [
    "alpha, beta = least_squares_fit(xs, ys)\n",
    "\n",
    "print(f' alpha: {alpha}, beta: {beta} ')"
   ]
  },
  {
   "cell_type": "code",
   "execution_count": 5,
   "metadata": {},
   "outputs": [
    {
     "data": {
      "text/plain": [
       "128.88288239118728"
      ]
     },
     "execution_count": 5,
     "metadata": {},
     "output_type": "execute_result"
    }
   ],
   "source": [
    "predict(alpha, beta, 100)"
   ]
  },
  {
   "cell_type": "code",
   "execution_count": 6,
   "metadata": {},
   "outputs": [
    {
     "data": {
      "text/plain": [
       "0.8802831919184474"
      ]
     },
     "execution_count": 6,
     "metadata": {},
     "output_type": "execute_result"
    }
   ],
   "source": [
    "def total_sum_of_squares(y):\n",
    "    return sum(v ** 2 for v in da.de_mean(y))\n",
    "\n",
    "def r_squared(alpha, beta, x, y):\n",
    "    return 1.0 - (sum_of_squared_errors(alpha, beta, x, y) / total_sum_of_squares(y))\n",
    "\n",
    "r_squared(alpha, beta, xs, ys)"
   ]
  },
  {
   "cell_type": "code",
   "execution_count": 7,
   "metadata": {},
   "outputs": [
    {
     "name": "stdout",
     "output_type": "stream",
     "text": [
      "29.497272509374454 0.9939110231015287\n"
     ]
    }
   ],
   "source": [
    "# using the gradient descent\n",
    "def squared_error(xi, yi, theta):\n",
    "    alpha, beta = theta\n",
    "    return error(alpha, beta, xi, yi) ** 2\n",
    "    \n",
    "def squared_error_gradient(xi, yi, theta):\n",
    "    alpha, beta = theta\n",
    "    return [-2 * error(alpha, beta, xi, yi), -2 * error(alpha, beta, xi, yi) * xi]\n",
    "\n",
    "da.r.seed(0)\n",
    "theta = [da.random.random(), da.random.random()]\n",
    "\n",
    "alpha, beta = da.minimize_stochastic(\n",
    "    squared_error,\n",
    "    squared_error_gradient,\n",
    "    xs,\n",
    "    ys,\n",
    "    theta,\n",
    "    0.0001\n",
    ")\n",
    "\n",
    "print(alpha, beta)"
   ]
  },
  {
   "cell_type": "code",
   "execution_count": 8,
   "metadata": {},
   "outputs": [
    {
     "data": {
      "text/plain": [
       "array([[  7.68703554,   2.08046132,   2.        ,  55.15072263],\n",
       "       [  9.96078391,   0.56344439,   0.        , 255.8479365 ],\n",
       "       [ 11.75733151,   3.73375435,   2.        ,  70.20770114],\n",
       "       [ 24.60359711,   4.14617113,   2.        , 342.9582007 ],\n",
       "       [ 10.55719558,   7.34543751,   1.        , 159.798753  ]])"
      ]
     },
     "execution_count": 8,
     "metadata": {},
     "output_type": "execute_result"
    }
   ],
   "source": [
    "# multiple regression\n",
    "from collections import defaultdict\n",
    "\n",
    "data = da.file_ops.read_csv('./files/hss.csv')\n",
    "data\n",
    "\n",
    "keys = [\"Radio\", \"Social Media\", \"Influencer\", \"Sales\"]\n",
    "data = [(0.0 if data_i[\"Radio\"] == \"\" else float(data_i[\"Radio\"]), \n",
    "    0.0 if data_i[\"Social Media\"] == \"\" else float(data_i[\"Social Media\"]), \n",
    "    0 if data_i[\"Influencer\"] == \"Mega\" else 1 if data_i[\"Influencer\"] == \"Micro\" else 2 if data_i[\"Influencer\"] == \"Nano\" else 3,\n",
    "    0.0 if data_i[\"Sales\"] == \"\" else float(data_i[\"Sales\"])) \n",
    "    for data_i in data]\n",
    "\n",
    "train, test = da.random.split_data(data, 0.2)\n",
    "\n",
    "train[:5]"
   ]
  },
  {
   "cell_type": "code",
   "execution_count": 9,
   "metadata": {},
   "outputs": [
    {
     "name": "stdout",
     "output_type": "stream",
     "text": [
      "[(7.687035542, 2.080461325, 2.0), (9.960783911, 0.563444389, 0.0), (11.75733151, 3.733754349, 2.0), (24.60359711, 4.14617113, 2.0), (10.55719558, 7.345437512, 1.0)]\n",
      "[55.15072263, 255.8479365, 70.20770114, 342.9582007, 159.798753]\n"
     ]
    }
   ],
   "source": [
    "train_features = [(train_i[0], train_i[1], train_i[2]) for train_i in train]\n",
    "train_labels = [train_i[3] for train_i in train]\n",
    "\n",
    "test_features = [(test_i[0], test_i[1], test_i[2]) for test_i in test]\n",
    "test_labels = [test_i[3] for test_i in test]\n",
    "\n",
    "print(train_features[:5])\n",
    "print(train_labels[:5])"
   ]
  },
  {
   "cell_type": "code",
   "execution_count": 10,
   "metadata": {},
   "outputs": [],
   "source": [
    "train_data = []\n",
    "\n",
    "for j in range(len(train[0])):\n",
    "    col = []\n",
    "    for i in range(len(train)):\n",
    "        col.append(train[i][j])\n",
    "    train_data.append(col)"
   ]
  },
  {
   "cell_type": "code",
   "execution_count": 11,
   "metadata": {},
   "outputs": [
    {
     "data": {
      "text/plain": [
       "[9.221252828482719, 2.080534188281604, 8.145775736682575]"
      ]
     },
     "execution_count": 11,
     "metadata": {},
     "output_type": "execute_result"
    }
   ],
   "source": [
    "def predict(xi, beta):\n",
    "    return da.dot_product(xi, beta)\n",
    "\n",
    "def error(xi, yi, beta):\n",
    "    return yi - predict(xi, beta)\n",
    "\n",
    "def squared_error(xi, yi, beta):\n",
    "    return error(xi, yi, beta) ** 2\n",
    "\n",
    "def squared_error_gradient(xi, yi, beta):\n",
    "    return [-2 * xij * error(xi, yi, beta) for xij in xi]\n",
    "\n",
    "def estimate_beta(x, y):\n",
    "    beta_initial = [da.random.random() for xi in x[0]]\n",
    "    return da.minimize_stochastic(squared_error,\n",
    "        squared_error_gradient,\n",
    "        x, y,\n",
    "        beta_initial,\n",
    "        0.001\n",
    "    )\n",
    "\n",
    "da.r.seed(0)\n",
    "beta = estimate_beta(train_features, train_labels)\n",
    "beta"
   ]
  },
  {
   "cell_type": "code",
   "execution_count": 12,
   "metadata": {},
   "outputs": [
    {
     "name": "stdout",
     "output_type": "stream",
     "text": [
      "[9.221252828482719, 2.080534188281604, 8.145775736682575]\n"
     ]
    }
   ],
   "source": [
    "print(beta)"
   ]
  },
  {
   "cell_type": "code",
   "execution_count": 13,
   "metadata": {},
   "outputs": [
    {
     "name": "stdout",
     "output_type": "stream",
     "text": [
      " predicted: 353.7410949667439, actual: 351.1142035 \n"
     ]
    }
   ],
   "source": [
    "test_index = 3\n",
    "predicted = predict(test_features[test_index], beta)\n",
    "actual = test_labels[test_index]\n",
    "\n",
    "print(f' predicted: {predicted}, actual: {actual} ')"
   ]
  },
  {
   "cell_type": "code",
   "execution_count": 14,
   "metadata": {},
   "outputs": [
    {
     "name": "stdout",
     "output_type": "stream",
     "text": [
      " predicted: 200.2144292260346, actual: 224.7741278 \n",
      " predicted: 111.20501195605348, actual: 71.12471063 \n",
      " predicted: 190.71985550364533, actual: 130.9960832 \n",
      " predicted: 353.7410949667439, actual: 351.1142035 \n",
      " predicted: 179.14182300445708, actual: 225.7454019 \n",
      " predicted: 201.93605105713522, actual: 230.4452322 \n",
      " predicted: 98.87143029208679, actual: 119.4005846 \n",
      " predicted: 89.38360747962857, actual: 54.88491943 \n",
      " predicted: 261.30639827423914, actual: 244.2670557 \n",
      " predicted: 252.2009837842984, actual: 185.7341703 \n",
      " predicted: 121.23976556444141, actual: 202.3643006 \n",
      " predicted: 107.21581450324564, actual: 225.0640548 \n",
      " predicted: 218.1331905895801, actual: 226.0179062 \n",
      " predicted: 53.2585774985924, actual: 72.62590273 \n",
      " predicted: 35.545213042545754, actual: 49.15396788 \n",
      " predicted: 72.24900789168181, actual: 49.60035259 \n",
      " predicted: 160.58018374079407, actual: 159.5372458 \n",
      " predicted: 90.96933836463538, actual: 56.67415544 \n",
      " predicted: 38.44137984443728, actual: 83.40241283 \n",
      " predicted: 177.1581870364379, actual: 161.7826384 \n"
     ]
    }
   ],
   "source": [
    "for test_index in range(20):\n",
    "    predicted = predict(test_features[test_index], beta)\n",
    "    actual = test_labels[test_index]\n",
    "\n",
    "    print(f' predicted: {predicted}, actual: {actual} ')"
   ]
  },
  {
   "cell_type": "code",
   "execution_count": 15,
   "metadata": {},
   "outputs": [
    {
     "data": {
      "text/plain": [
       "0.5453551912568306"
      ]
     },
     "execution_count": 15,
     "metadata": {},
     "output_type": "execute_result"
    }
   ],
   "source": [
    "def test_model(test_features, test_labels, allowed_error=0.25):\n",
    "    \"\"\"if actual + actual * (allowed_error / 2) > predicted > actual - actual * (allowed_error / 2): \n",
    "        correct += 1\\n\n",
    "        returns correct / total\"\"\"\n",
    "    correct = 0\n",
    "    total = len(test_labels)\n",
    "    for feature, label in zip(test_features, test_labels):\n",
    "        predicted = predict(feature, beta)\n",
    "        actual = label\n",
    "\n",
    "        \n",
    "        if actual + actual * (allowed_error / 2) > predicted > actual - actual * (allowed_error / 2):\n",
    "            correct += 1\n",
    "        \n",
    "\n",
    "    return correct / total\n",
    "\n",
    "test_model(test_features, test_labels, allowed_error=0.4)"
   ]
  },
  {
   "cell_type": "code",
   "execution_count": 16,
   "metadata": {},
   "outputs": [
    {
     "data": {
      "text/plain": [
       "0.7086263016131149"
      ]
     },
     "execution_count": 16,
     "metadata": {},
     "output_type": "execute_result"
    }
   ],
   "source": [
    "def multiple_r_squared(x, y, beta):\n",
    "    sum_of_sq_errs = sum(error(xi, yi, beta) ** 2 for xi, yi in zip(x, y))\n",
    "    return 1 - sum_of_sq_errs / total_sum_of_squares(y)\n",
    "\n",
    "multiple_r_squared(test_features, test_labels, beta)"
   ]
  },
  {
   "cell_type": "code",
   "execution_count": 17,
   "metadata": {},
   "outputs": [
    {
     "name": "stdout",
     "output_type": "stream",
     "text": [
      "on train data: 0.7215984225523497\n",
      "on test data: 0.7086263016131149\n"
     ]
    }
   ],
   "source": [
    "def multiple_r_squared(x, y, beta):\n",
    "    sum_of_sq_errs = sum(error(xi, yi, beta) ** 2 for xi, yi in zip(x, y))\n",
    "    return 1 - sum_of_sq_errs / total_sum_of_squares(y)\n",
    "\n",
    "print('on train data:', multiple_r_squared(train_features, train_labels, beta))\n",
    "print('on test data:', multiple_r_squared(test_features, test_labels, beta))"
   ]
  },
  {
   "cell_type": "code",
   "execution_count": 92,
   "metadata": {},
   "outputs": [
    {
     "name": "stdout",
     "output_type": "stream",
     "text": [
      "mean: 0.426203419499148\n",
      "[19.286010808537686, -5.91365139511267, 10.297789650397691, -2.3432769223399954, 10.015366557845581, 12.25832275582867, 6.901192151286644, -4.745935357429174, -2.0572520836845563, 16.022850388822405]\n",
      "bootstrap mean: 8.458279354566113\n"
     ]
    }
   ],
   "source": [
    "# digression, the bootstrap\n",
    "def bootstrap_sample(xs, ys=None):\n",
    "    if ys:\n",
    "        length = len(ys)\n",
    "        sample_index = da.random.rand_index(length)\n",
    "        return xs[sample_index], ys[sample_index]\n",
    "    else:\n",
    "        return da.random.sample(xs)\n",
    "\n",
    "        \n",
    "def bootstrap_statistic(data, stats_fn, num_samples):\n",
    "    try:\n",
    "        xs, ys = zip(*data)\n",
    "        samples = [bootstrap_sample(xs, ys) for _ in range(num_samples)]\n",
    "    except:\n",
    "        samples = [bootstrap_sample(data) for _ in range(num_samples)]\n",
    "    print(samples)\n",
    "\n",
    "    return stats_fn(samples)\n",
    "\n",
    "print('mean:', da.median(xs))\n",
    "print('bootstrap mean:', bootstrap_statistic(xs, da.median, 10))"
   ]
  },
  {
   "cell_type": "code",
   "execution_count": 94,
   "metadata": {},
   "outputs": [
    {
     "name": "stdout",
     "output_type": "stream",
     "text": [
      "[((10.55719558, 7.345437512, 1.0), 159.798753), ((10.43493748, 3.021098715, 1.0), 39.05670605), ((15.73860438, 4.224996581, 0.0), 190.6822352), ((31.73905151, 6.53042334, 3.0), 353.251334), ((30.92426092, 4.636847457, 0.0), 304.5374673), ((14.05805349, 1.497131726, 3.0), 195.7694205), ((21.06609239, 1.367707729, 0.0), 199.4783271), ((14.12523976, 0.417048422, 0.0), 95.88047198), ((28.75170232, 6.739499589, 0.0), 244.9267479), ((17.48860583, 2.950997206, 2.0), 268.9224504)]\n"
     ]
    },
    {
     "data": {
      "text/plain": [
       "[8.698621848072037, 3.638324359856581, 23.07865175113757]"
      ]
     },
     "execution_count": 94,
     "metadata": {},
     "output_type": "execute_result"
    }
   ],
   "source": [
    "def estimate_sample_beta(sample):\n",
    "    x_sample, y_sample = list(zip(*sample))\n",
    "    return estimate_beta(x_sample, y_sample)\n",
    "\n",
    "\n",
    "bootstrap_betas = bootstrap_statistic(zip(train_features, train_labels), estimate_sample_beta, 10)\n",
    "bootstrap_betas\n"
   ]
  }
 ],
 "metadata": {
  "interpreter": {
   "hash": "f2675592439886072215c5492b56ef91d6259dc08377ceafc1fad216e79bf788"
  },
  "kernelspec": {
   "display_name": "Python 3.8.8 64-bit ('base': conda)",
   "name": "python3"
  },
  "language_info": {
   "codemirror_mode": {
    "name": "ipython",
    "version": 3
   },
   "file_extension": ".py",
   "mimetype": "text/x-python",
   "name": "python",
   "nbconvert_exporter": "python",
   "pygments_lexer": "ipython3",
   "version": "3.8.8"
  },
  "orig_nbformat": 4
 },
 "nbformat": 4,
 "nbformat_minor": 2
}