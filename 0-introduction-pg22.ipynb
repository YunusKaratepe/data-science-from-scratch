{
 "cells": [
  {
   "cell_type": "code",
   "execution_count": 1,
   "id": "147d9ea7",
   "metadata": {},
   "outputs": [],
   "source": [
    "users = [\n",
    "{ \"id\": 0, \"name\": \"Hero\" },\n",
    "{ \"id\": 1, \"name\": \"Dunn\" },\n",
    "{ \"id\": 2, \"name\": \"Sue\" },\n",
    "{ \"id\": 3, \"name\": \"Chi\" },\n",
    "{ \"id\": 4, \"name\": \"Thor\" },\n",
    "{ \"id\": 5, \"name\": \"Clive\" },\n",
    "{ \"id\": 6, \"name\": \"Hicks\" },\n",
    "{ \"id\": 7, \"name\": \"Devin\" },\n",
    "{ \"id\": 8, \"name\": \"Kate\" },\n",
    "{ \"id\": 9, \"name\": \"Klein\" }\n",
    "]\n",
    "\n",
    "friendships = [(0, 1), (0, 2), (1, 2), (1, 3), (2, 3), (3, 4),\n",
    "(4, 5), (5, 6), (5, 7), (6, 8), (7, 8), (8, 9)]"
   ]
  },
  {
   "cell_type": "code",
   "execution_count": 2,
   "id": "24f23c80",
   "metadata": {},
   "outputs": [],
   "source": [
    "for user in users:\n",
    "    user[\"friends\"] = []\n",
    "    \n",
    "for i, j in friendships:\n",
    "    # this works because users[i] is the user whose id is i\n",
    "    users[i][\"friends\"].append(users[j]) # add i as a friend of j\n",
    "    users[j][\"friends\"].append(users[i]) # add j as a friend of i"
   ]
  },
  {
   "cell_type": "code",
   "execution_count": 16,
   "id": "7133dcf6",
   "metadata": {},
   "outputs": [
    {
     "name": "stdout",
     "output_type": "stream",
     "text": [
      "Friends of Hero:\n",
      "  Dunn\n",
      "  Sue\n",
      "Friends of Dunn:\n",
      "  Hero\n",
      "  Sue\n",
      "  Chi\n",
      "Friends of Sue:\n",
      "  Hero\n",
      "  Dunn\n",
      "  Chi\n",
      "Friends of Chi:\n",
      "  Dunn\n",
      "  Sue\n",
      "  Thor\n",
      "Friends of Thor:\n",
      "  Chi\n",
      "  Clive\n",
      "Friends of Clive:\n",
      "  Thor\n",
      "  Hicks\n",
      "  Devin\n",
      "Friends of Hicks:\n",
      "  Clive\n",
      "  Kate\n",
      "Friends of Devin:\n",
      "  Clive\n",
      "  Kate\n",
      "Friends of Kate:\n",
      "  Hicks\n",
      "  Devin\n",
      "  Klein\n",
      "Friends of Klein:\n",
      "  Kate\n"
     ]
    }
   ],
   "source": [
    "for user in users:\n",
    "    print(f\"Friends of {user['name']}:\")\n",
    "    for friend in user[\"friends\"]:\n",
    "        print(\" \",friend['name'])"
   ]
  },
  {
   "cell_type": "code",
   "execution_count": 18,
   "id": "e06a55e7",
   "metadata": {},
   "outputs": [],
   "source": [
    "def number_of_friends(user):\n",
    "    # how many friends does user have?\n",
    "    return len(user[\"friends\"])"
   ]
  },
  {
   "cell_type": "code",
   "execution_count": 25,
   "id": "c86fa4fd",
   "metadata": {},
   "outputs": [
    {
     "name": "stdout",
     "output_type": "stream",
     "text": [
      "Total connections: 24\n"
     ]
    }
   ],
   "source": [
    "total_connections = sum(number_of_friends(user) for user in users)\n",
    "print(\"Total connections:\", total_connections)"
   ]
  },
  {
   "cell_type": "code",
   "execution_count": 29,
   "id": "be6fd817",
   "metadata": {},
   "outputs": [
    {
     "data": {
      "text/plain": [
       "10"
      ]
     },
     "execution_count": 29,
     "metadata": {},
     "output_type": "execute_result"
    }
   ],
   "source": [
    "num_users = len(users)\n",
    "num_users"
   ]
  },
  {
   "cell_type": "code",
   "execution_count": 28,
   "id": "46d0cfbf",
   "metadata": {},
   "outputs": [
    {
     "data": {
      "text/plain": [
       "2.4"
      ]
     },
     "execution_count": 28,
     "metadata": {},
     "output_type": "execute_result"
    }
   ],
   "source": [
    "avg_connections = total_connections / num_users\n",
    "avg_connections"
   ]
  },
  {
   "cell_type": "code",
   "execution_count": 46,
   "id": "661bc49d",
   "metadata": {},
   "outputs": [
    {
     "data": {
      "text/plain": [
       "[(1, 3),\n",
       " (2, 3),\n",
       " (3, 3),\n",
       " (5, 3),\n",
       " (8, 3),\n",
       " (0, 2),\n",
       " (4, 2),\n",
       " (6, 2),\n",
       " (7, 2),\n",
       " (9, 1)]"
      ]
     },
     "execution_count": 46,
     "metadata": {},
     "output_type": "execute_result"
    }
   ],
   "source": [
    "num_friends_byid = [(user[\"id\"], number_of_friends(user)) for user in users]\n",
    "num_friends_byid = sorted(num_friends_byid, key=lambda x: x[1], reverse=True)\n",
    "num_friends_byid"
   ]
  }
 ],
 "metadata": {
  "kernelspec": {
   "display_name": "Python 3",
   "language": "python",
   "name": "python3"
  },
  "language_info": {
   "codemirror_mode": {
    "name": "ipython",
    "version": 3
   },
   "file_extension": ".py",
   "mimetype": "text/x-python",
   "name": "python",
   "nbconvert_exporter": "python",
   "pygments_lexer": "ipython3",
   "version": "3.8.8"
  }
 },
 "nbformat": 4,
 "nbformat_minor": 5
}
